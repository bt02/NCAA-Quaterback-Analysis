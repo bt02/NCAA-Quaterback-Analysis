{
 "cells": [
  {
   "cell_type": "markdown",
   "metadata": {},
   "source": [
    "The data used was gathered from four different ESPN sources\n",
    "\n",
    " 1. College Football Total Quarterback Rating(QBR) – (2004-2019) Season Leaders\n",
    "     * Rates the quarterback on playmaking skill and gives an overall score 0-100\n",
    " 2. College Football Power Index (2005-2019)\n",
    "     * Ranks and rates teams offensive defensive and special teams’ efficiency\n",
    " 3. College Football Player Passing Stats (2004-2019)\n",
    "     * An overview of top performing players and their seasons passing stats\n",
    " 4. College Football Player Rushing Stats  (2004-2019)\n",
    "     * An overview of top performing players and their seasons passing stats\n"
   ]
  },
  {
   "cell_type": "code",
   "execution_count": 1,
   "metadata": {
    "ExecuteTime": {
     "end_time": "2020-10-17T05:27:39.567844Z",
     "start_time": "2020-10-17T05:27:38.701684Z"
    }
   },
   "outputs": [],
   "source": [
    "import pandas as pd\n",
    "pd.set_option('display.max_columns', None)\n",
    "pd.set_option('display.max_rows', None)"
   ]
  },
  {
   "cell_type": "code",
   "execution_count": 2,
   "metadata": {
    "ExecuteTime": {
     "end_time": "2020-10-17T05:27:40.237812Z",
     "start_time": "2020-10-17T05:27:40.062526Z"
    }
   },
   "outputs": [],
   "source": [
    "player = pd.read_csv('csv_files/player_stats.csv')\n",
    "player.drop('Unnamed: 0', axis=1, inplace= True)\n",
    "\n",
    "power = pd.read_csv('csv_files/power_index.csv')\n",
    "power.drop('Unnamed: 0', axis=1, inplace= True)\n",
    "\n",
    "passing = pd.read_csv('csv_files/passing.csv')\n",
    "passing.drop('Unnamed: 0', axis=1, inplace= True)\n",
    "\n",
    "rushing = pd.read_csv('csv_files/rushing.csv')\n",
    "rushing.drop('Unnamed: 0', axis=1, inplace= True)"
   ]
  },
  {
   "cell_type": "code",
   "execution_count": 3,
   "metadata": {
    "ExecuteTime": {
     "end_time": "2020-10-17T05:27:42.566413Z",
     "start_time": "2020-10-17T05:27:42.455059Z"
    }
   },
   "outputs": [
    {
     "name": "stdout",
     "output_type": "stream",
     "text": [
      "Player\n"
     ]
    },
    {
     "data": {
      "text/html": [
       "<div>\n",
       "<style scoped>\n",
       "    .dataframe tbody tr th:only-of-type {\n",
       "        vertical-align: middle;\n",
       "    }\n",
       "\n",
       "    .dataframe tbody tr th {\n",
       "        vertical-align: top;\n",
       "    }\n",
       "\n",
       "    .dataframe thead th {\n",
       "        text-align: right;\n",
       "    }\n",
       "</style>\n",
       "<table border=\"1\" class=\"dataframe\">\n",
       "  <thead>\n",
       "    <tr style=\"text-align: right;\">\n",
       "      <th></th>\n",
       "      <th>NAME</th>\n",
       "      <th>COLLEGE</th>\n",
       "      <th>YEAR</th>\n",
       "      <th>QBR</th>\n",
       "      <th>PAA</th>\n",
       "      <th>PLAYS</th>\n",
       "      <th>EPA</th>\n",
       "      <th>PASS</th>\n",
       "      <th>RUN</th>\n",
       "      <th>SACK</th>\n",
       "      <th>PEN</th>\n",
       "      <th>RAW</th>\n",
       "      <th>HT/WT</th>\n",
       "      <th>DOB</th>\n",
       "      <th>DRAFT_STATUS</th>\n",
       "    </tr>\n",
       "  </thead>\n",
       "  <tbody>\n",
       "    <tr>\n",
       "      <td>0</td>\n",
       "      <td>Stefan LeFors</td>\n",
       "      <td>LOU</td>\n",
       "      <td>2004</td>\n",
       "      <td>86.3</td>\n",
       "      <td>68.3</td>\n",
       "      <td>351</td>\n",
       "      <td>66.8</td>\n",
       "      <td>66.5</td>\n",
       "      <td>2.8</td>\n",
       "      <td>-3.7</td>\n",
       "      <td>1.6</td>\n",
       "      <td>88.3</td>\n",
       "      <td>na</td>\n",
       "      <td>6/7/1981</td>\n",
       "      <td>2005: Rd 4, Pk 20 (CAR)</td>\n",
       "    </tr>\n",
       "    <tr>\n",
       "      <td>1</td>\n",
       "      <td>Alex Smith</td>\n",
       "      <td>UTAH</td>\n",
       "      <td>2004</td>\n",
       "      <td>84.5</td>\n",
       "      <td>75.8</td>\n",
       "      <td>480</td>\n",
       "      <td>73.4</td>\n",
       "      <td>63.5</td>\n",
       "      <td>16.0</td>\n",
       "      <td>-7.3</td>\n",
       "      <td>1.2</td>\n",
       "      <td>83.8</td>\n",
       "      <td>6' 4\", 215 lbs</td>\n",
       "      <td>5/7/1984 (36)</td>\n",
       "      <td>2005: Rd 1, Pk 1 (SF)</td>\n",
       "    </tr>\n",
       "    <tr>\n",
       "      <td>2</td>\n",
       "      <td>Jason White</td>\n",
       "      <td>OKLA</td>\n",
       "      <td>2004</td>\n",
       "      <td>84.1</td>\n",
       "      <td>56.6</td>\n",
       "      <td>454</td>\n",
       "      <td>61.2</td>\n",
       "      <td>70.9</td>\n",
       "      <td>-6.2</td>\n",
       "      <td>-6.1</td>\n",
       "      <td>2.7</td>\n",
       "      <td>78.5</td>\n",
       "      <td>na</td>\n",
       "      <td>na</td>\n",
       "      <td>na</td>\n",
       "    </tr>\n",
       "    <tr>\n",
       "      <td>3</td>\n",
       "      <td>Jason Campbell</td>\n",
       "      <td>AUB</td>\n",
       "      <td>2004</td>\n",
       "      <td>83.3</td>\n",
       "      <td>41.5</td>\n",
       "      <td>373</td>\n",
       "      <td>48.4</td>\n",
       "      <td>56.9</td>\n",
       "      <td>-3.9</td>\n",
       "      <td>-6.7</td>\n",
       "      <td>2.0</td>\n",
       "      <td>76.1</td>\n",
       "      <td>na</td>\n",
       "      <td>12/31/1981</td>\n",
       "      <td>2005: Rd 1, Pk 25 (WSH)</td>\n",
       "    </tr>\n",
       "    <tr>\n",
       "      <td>4</td>\n",
       "      <td>Matt Jones</td>\n",
       "      <td>ARK</td>\n",
       "      <td>2004</td>\n",
       "      <td>81.7</td>\n",
       "      <td>35.9</td>\n",
       "      <td>383</td>\n",
       "      <td>43.6</td>\n",
       "      <td>24.4</td>\n",
       "      <td>27.5</td>\n",
       "      <td>-7.7</td>\n",
       "      <td>-0.7</td>\n",
       "      <td>72.6</td>\n",
       "      <td>na</td>\n",
       "      <td>4/22/1983</td>\n",
       "      <td>2005: Rd 1, Pk 21 (JAX)</td>\n",
       "    </tr>\n",
       "  </tbody>\n",
       "</table>\n",
       "</div>"
      ],
      "text/plain": [
       "             NAME COLLEGE  YEAR   QBR   PAA  PLAYS   EPA  PASS   RUN  SACK  \\\n",
       "0   Stefan LeFors     LOU  2004  86.3  68.3    351  66.8  66.5   2.8  -3.7   \n",
       "1      Alex Smith    UTAH  2004  84.5  75.8    480  73.4  63.5  16.0  -7.3   \n",
       "2     Jason White    OKLA  2004  84.1  56.6    454  61.2  70.9  -6.2  -6.1   \n",
       "3  Jason Campbell     AUB  2004  83.3  41.5    373  48.4  56.9  -3.9  -6.7   \n",
       "4      Matt Jones     ARK  2004  81.7  35.9    383  43.6  24.4  27.5  -7.7   \n",
       "\n",
       "   PEN   RAW           HT/WT            DOB             DRAFT_STATUS  \n",
       "0  1.6  88.3              na       6/7/1981  2005: Rd 4, Pk 20 (CAR)  \n",
       "1  1.2  83.8  6' 4\", 215 lbs  5/7/1984 (36)    2005: Rd 1, Pk 1 (SF)  \n",
       "2  2.7  78.5              na             na                       na  \n",
       "3  2.0  76.1              na     12/31/1981  2005: Rd 1, Pk 25 (WSH)  \n",
       "4 -0.7  72.6              na      4/22/1983  2005: Rd 1, Pk 21 (JAX)  "
      ]
     },
     "metadata": {},
     "output_type": "display_data"
    },
    {
     "name": "stdout",
     "output_type": "stream",
     "text": [
      "Power\n"
     ]
    },
    {
     "data": {
      "text/html": [
       "<div>\n",
       "<style scoped>\n",
       "    .dataframe tbody tr th:only-of-type {\n",
       "        vertical-align: middle;\n",
       "    }\n",
       "\n",
       "    .dataframe tbody tr th {\n",
       "        vertical-align: top;\n",
       "    }\n",
       "\n",
       "    .dataframe thead th {\n",
       "        text-align: right;\n",
       "    }\n",
       "</style>\n",
       "<table border=\"1\" class=\"dataframe\">\n",
       "  <thead>\n",
       "    <tr style=\"text-align: right;\">\n",
       "      <th></th>\n",
       "      <th>COLLEGE</th>\n",
       "      <th>OVERALL</th>\n",
       "      <th>OFFENSE</th>\n",
       "      <th>DEFENSE</th>\n",
       "      <th>SPECIAL</th>\n",
       "      <th>YEAR</th>\n",
       "    </tr>\n",
       "  </thead>\n",
       "  <tbody>\n",
       "    <tr>\n",
       "      <td>0</td>\n",
       "      <td>TEX</td>\n",
       "      <td>94.8</td>\n",
       "      <td>92.0</td>\n",
       "      <td>85.0</td>\n",
       "      <td>71.9</td>\n",
       "      <td>2005</td>\n",
       "    </tr>\n",
       "    <tr>\n",
       "      <td>1</td>\n",
       "      <td>USC</td>\n",
       "      <td>94.1</td>\n",
       "      <td>95.8</td>\n",
       "      <td>78.7</td>\n",
       "      <td>40.7</td>\n",
       "      <td>2005</td>\n",
       "    </tr>\n",
       "    <tr>\n",
       "      <td>2</td>\n",
       "      <td>OSU</td>\n",
       "      <td>86.9</td>\n",
       "      <td>73.3</td>\n",
       "      <td>83.7</td>\n",
       "      <td>74.7</td>\n",
       "      <td>2005</td>\n",
       "    </tr>\n",
       "    <tr>\n",
       "      <td>3</td>\n",
       "      <td>PSU</td>\n",
       "      <td>83.7</td>\n",
       "      <td>74.0</td>\n",
       "      <td>83.4</td>\n",
       "      <td>47.0</td>\n",
       "      <td>2005</td>\n",
       "    </tr>\n",
       "    <tr>\n",
       "      <td>4</td>\n",
       "      <td>VT</td>\n",
       "      <td>83.2</td>\n",
       "      <td>75.0</td>\n",
       "      <td>77.2</td>\n",
       "      <td>67.0</td>\n",
       "      <td>2005</td>\n",
       "    </tr>\n",
       "  </tbody>\n",
       "</table>\n",
       "</div>"
      ],
      "text/plain": [
       "  COLLEGE  OVERALL  OFFENSE  DEFENSE  SPECIAL  YEAR\n",
       "0     TEX     94.8     92.0     85.0     71.9  2005\n",
       "1     USC     94.1     95.8     78.7     40.7  2005\n",
       "2     OSU     86.9     73.3     83.7     74.7  2005\n",
       "3     PSU     83.7     74.0     83.4     47.0  2005\n",
       "4      VT     83.2     75.0     77.2     67.0  2005"
      ]
     },
     "metadata": {},
     "output_type": "display_data"
    },
    {
     "name": "stdout",
     "output_type": "stream",
     "text": [
      "Passing\n"
     ]
    },
    {
     "data": {
      "text/html": [
       "<div>\n",
       "<style scoped>\n",
       "    .dataframe tbody tr th:only-of-type {\n",
       "        vertical-align: middle;\n",
       "    }\n",
       "\n",
       "    .dataframe tbody tr th {\n",
       "        vertical-align: top;\n",
       "    }\n",
       "\n",
       "    .dataframe thead th {\n",
       "        text-align: right;\n",
       "    }\n",
       "</style>\n",
       "<table border=\"1\" class=\"dataframe\">\n",
       "  <thead>\n",
       "    <tr style=\"text-align: right;\">\n",
       "      <th></th>\n",
       "      <th>NAME</th>\n",
       "      <th>YEAR</th>\n",
       "      <th>CMP</th>\n",
       "      <th>PATT</th>\n",
       "      <th>CMP%</th>\n",
       "      <th>PYDS</th>\n",
       "      <th>PAVG</th>\n",
       "      <th>PLNG</th>\n",
       "      <th>PTD</th>\n",
       "      <th>INT</th>\n",
       "      <th>SACK</th>\n",
       "      <th>RTG</th>\n",
       "    </tr>\n",
       "  </thead>\n",
       "  <tbody>\n",
       "    <tr>\n",
       "      <td>0</td>\n",
       "      <td>Sonny Cumbie</td>\n",
       "      <td>2004</td>\n",
       "      <td>421</td>\n",
       "      <td>642</td>\n",
       "      <td>65.6</td>\n",
       "      <td>4,742</td>\n",
       "      <td>7.4</td>\n",
       "      <td>80</td>\n",
       "      <td>32</td>\n",
       "      <td>18</td>\n",
       "      <td>26</td>\n",
       "      <td>138.5</td>\n",
       "    </tr>\n",
       "    <tr>\n",
       "      <td>1</td>\n",
       "      <td>Timmy Chang</td>\n",
       "      <td>2004</td>\n",
       "      <td>358</td>\n",
       "      <td>602</td>\n",
       "      <td>59.5</td>\n",
       "      <td>4,258</td>\n",
       "      <td>7.1</td>\n",
       "      <td>75</td>\n",
       "      <td>37</td>\n",
       "      <td>13</td>\n",
       "      <td>15</td>\n",
       "      <td>134.8</td>\n",
       "    </tr>\n",
       "    <tr>\n",
       "      <td>2</td>\n",
       "      <td>Omar Jacobs</td>\n",
       "      <td>2004</td>\n",
       "      <td>309</td>\n",
       "      <td>462</td>\n",
       "      <td>66.9</td>\n",
       "      <td>4,002</td>\n",
       "      <td>8.7</td>\n",
       "      <td>58</td>\n",
       "      <td>41</td>\n",
       "      <td>4</td>\n",
       "      <td>10</td>\n",
       "      <td>167.2</td>\n",
       "    </tr>\n",
       "    <tr>\n",
       "      <td>3</td>\n",
       "      <td>Derek Anderson</td>\n",
       "      <td>2004</td>\n",
       "      <td>279</td>\n",
       "      <td>515</td>\n",
       "      <td>54.2</td>\n",
       "      <td>3,615</td>\n",
       "      <td>7.0</td>\n",
       "      <td>55</td>\n",
       "      <td>29</td>\n",
       "      <td>17</td>\n",
       "      <td>37</td>\n",
       "      <td>125.1</td>\n",
       "    </tr>\n",
       "    <tr>\n",
       "      <td>4</td>\n",
       "      <td>Bruce Gradkowski</td>\n",
       "      <td>2004</td>\n",
       "      <td>280</td>\n",
       "      <td>399</td>\n",
       "      <td>70.2</td>\n",
       "      <td>3,518</td>\n",
       "      <td>8.8</td>\n",
       "      <td>96</td>\n",
       "      <td>27</td>\n",
       "      <td>8</td>\n",
       "      <td>14</td>\n",
       "      <td>162.6</td>\n",
       "    </tr>\n",
       "  </tbody>\n",
       "</table>\n",
       "</div>"
      ],
      "text/plain": [
       "               NAME  YEAR  CMP  PATT  CMP%   PYDS  PAVG  PLNG  PTD  INT  SACK  \\\n",
       "0      Sonny Cumbie  2004  421   642  65.6  4,742   7.4    80   32   18    26   \n",
       "1       Timmy Chang  2004  358   602  59.5  4,258   7.1    75   37   13    15   \n",
       "2       Omar Jacobs  2004  309   462  66.9  4,002   8.7    58   41    4    10   \n",
       "3    Derek Anderson  2004  279   515  54.2  3,615   7.0    55   29   17    37   \n",
       "4  Bruce Gradkowski  2004  280   399  70.2  3,518   8.8    96   27    8    14   \n",
       "\n",
       "     RTG  \n",
       "0  138.5  \n",
       "1  134.8  \n",
       "2  167.2  \n",
       "3  125.1  \n",
       "4  162.6  "
      ]
     },
     "metadata": {},
     "output_type": "display_data"
    },
    {
     "name": "stdout",
     "output_type": "stream",
     "text": [
      "Rushing\n"
     ]
    },
    {
     "data": {
      "text/html": [
       "<div>\n",
       "<style scoped>\n",
       "    .dataframe tbody tr th:only-of-type {\n",
       "        vertical-align: middle;\n",
       "    }\n",
       "\n",
       "    .dataframe tbody tr th {\n",
       "        vertical-align: top;\n",
       "    }\n",
       "\n",
       "    .dataframe thead th {\n",
       "        text-align: right;\n",
       "    }\n",
       "</style>\n",
       "<table border=\"1\" class=\"dataframe\">\n",
       "  <thead>\n",
       "    <tr style=\"text-align: right;\">\n",
       "      <th></th>\n",
       "      <th>NAME</th>\n",
       "      <th>YEAR</th>\n",
       "      <th>POS</th>\n",
       "      <th>RATT</th>\n",
       "      <th>RYDS</th>\n",
       "      <th>RAVG</th>\n",
       "      <th>RLNG</th>\n",
       "      <th>RTD</th>\n",
       "    </tr>\n",
       "  </thead>\n",
       "  <tbody>\n",
       "    <tr>\n",
       "      <td>0</td>\n",
       "      <td>J.J. Arrington</td>\n",
       "      <td>2004</td>\n",
       "      <td>&lt;div class=\"position\"&gt;RB&lt;/div&gt;</td>\n",
       "      <td>289</td>\n",
       "      <td>2,018</td>\n",
       "      <td>7.0</td>\n",
       "      <td>89</td>\n",
       "      <td>15</td>\n",
       "    </tr>\n",
       "    <tr>\n",
       "      <td>1</td>\n",
       "      <td>DeAngelo Williams</td>\n",
       "      <td>2004</td>\n",
       "      <td>&lt;div class=\"position\"&gt;RB&lt;/div&gt;</td>\n",
       "      <td>313</td>\n",
       "      <td>1,948</td>\n",
       "      <td>6.2</td>\n",
       "      <td>75</td>\n",
       "      <td>22</td>\n",
       "    </tr>\n",
       "    <tr>\n",
       "      <td>2</td>\n",
       "      <td>Adrian Peterson</td>\n",
       "      <td>2004</td>\n",
       "      <td>&lt;div class=\"position\"&gt;RB&lt;/div&gt;</td>\n",
       "      <td>339</td>\n",
       "      <td>1,925</td>\n",
       "      <td>5.7</td>\n",
       "      <td>80</td>\n",
       "      <td>15</td>\n",
       "    </tr>\n",
       "    <tr>\n",
       "      <td>3</td>\n",
       "      <td>Cedric Benson</td>\n",
       "      <td>2004</td>\n",
       "      <td>&lt;div class=\"position\"&gt;RB&lt;/div&gt;</td>\n",
       "      <td>326</td>\n",
       "      <td>1,834</td>\n",
       "      <td>5.6</td>\n",
       "      <td>60</td>\n",
       "      <td>19</td>\n",
       "    </tr>\n",
       "    <tr>\n",
       "      <td>4</td>\n",
       "      <td>Jamario Thomas</td>\n",
       "      <td>2004</td>\n",
       "      <td>&lt;div class=\"position\"&gt;RB&lt;/div&gt;</td>\n",
       "      <td>285</td>\n",
       "      <td>1,801</td>\n",
       "      <td>6.3</td>\n",
       "      <td>77</td>\n",
       "      <td>17</td>\n",
       "    </tr>\n",
       "  </tbody>\n",
       "</table>\n",
       "</div>"
      ],
      "text/plain": [
       "                NAME  YEAR                             POS  RATT   RYDS  RAVG  \\\n",
       "0     J.J. Arrington  2004  <div class=\"position\">RB</div>   289  2,018   7.0   \n",
       "1  DeAngelo Williams  2004  <div class=\"position\">RB</div>   313  1,948   6.2   \n",
       "2    Adrian Peterson  2004  <div class=\"position\">RB</div>   339  1,925   5.7   \n",
       "3      Cedric Benson  2004  <div class=\"position\">RB</div>   326  1,834   5.6   \n",
       "4     Jamario Thomas  2004  <div class=\"position\">RB</div>   285  1,801   6.3   \n",
       "\n",
       "   RLNG  RTD  \n",
       "0    89   15  \n",
       "1    75   22  \n",
       "2    80   15  \n",
       "3    60   19  \n",
       "4    77   17  "
      ]
     },
     "execution_count": 3,
     "metadata": {},
     "output_type": "execute_result"
    }
   ],
   "source": [
    "print('Player')\n",
    "display(player.head())\n",
    "print('Power')\n",
    "display(power.head())\n",
    "print('Passing')\n",
    "display(passing.head())\n",
    "print('Rushing')\n",
    "rushing.head()"
   ]
  },
  {
   "cell_type": "markdown",
   "metadata": {
    "ExecuteTime": {
     "end_time": "2020-10-10T22:24:43.978985Z",
     "start_time": "2020-10-10T22:24:43.951402Z"
    }
   },
   "source": [
    "# Combining data frames"
   ]
  },
  {
   "cell_type": "code",
   "execution_count": 4,
   "metadata": {
    "ExecuteTime": {
     "end_time": "2020-10-11T05:45:14.541516Z",
     "start_time": "2020-10-11T05:45:14.447502Z"
    }
   },
   "outputs": [],
   "source": [
    "rushing['POS'] = [rushing['POS'][i][-8:-6] for i in range(len(rushing['POS']))]"
   ]
  },
  {
   "cell_type": "code",
   "execution_count": 5,
   "metadata": {
    "ExecuteTime": {
     "end_time": "2020-10-11T05:45:14.557517Z",
     "start_time": "2020-10-11T05:45:14.542458Z"
    }
   },
   "outputs": [],
   "source": [
    "df = pd.merge(player, power, on=['COLLEGE', 'YEAR'],how='left' )"
   ]
  },
  {
   "cell_type": "code",
   "execution_count": 6,
   "metadata": {
    "ExecuteTime": {
     "end_time": "2020-10-11T05:45:14.573512Z",
     "start_time": "2020-10-11T05:45:14.559461Z"
    }
   },
   "outputs": [],
   "source": [
    "df = pd.merge(df, passing, on=['NAME', 'YEAR'], how='left')"
   ]
  },
  {
   "cell_type": "code",
   "execution_count": 7,
   "metadata": {
    "ExecuteTime": {
     "end_time": "2020-10-11T05:45:14.605459Z",
     "start_time": "2020-10-11T05:45:14.577462Z"
    }
   },
   "outputs": [],
   "source": [
    "df = pd.merge(df, rushing, on=['NAME', 'YEAR'], how= 'left')"
   ]
  },
  {
   "cell_type": "code",
   "execution_count": 8,
   "metadata": {
    "ExecuteTime": {
     "end_time": "2020-10-11T05:45:14.620466Z",
     "start_time": "2020-10-11T05:45:14.607460Z"
    }
   },
   "outputs": [],
   "source": [
    "df.rename(columns={'SACK_x':'QBR_SACK', 'SACK_y' : 'TOTAL_SACKS'}, inplace=True)"
   ]
  },
  {
   "cell_type": "code",
   "execution_count": 9,
   "metadata": {
    "ExecuteTime": {
     "end_time": "2020-10-11T05:45:14.636458Z",
     "start_time": "2020-10-11T05:45:14.622467Z"
    }
   },
   "outputs": [],
   "source": [
    "df.drop('HT/WT', axis=1, inplace = True)"
   ]
  },
  {
   "cell_type": "markdown",
   "metadata": {},
   "source": [
    "# Binning colleges by conference"
   ]
  },
  {
   "cell_type": "code",
   "execution_count": 10,
   "metadata": {
    "ExecuteTime": {
     "end_time": "2020-10-11T05:45:14.652461Z",
     "start_time": "2020-10-11T05:45:14.638462Z"
    }
   },
   "outputs": [],
   "source": [
    "ACC = ['UNC', 'CLEM', 'MIAMI', 'ND', 'NCST', 'PITT', 'VT', 'GT', 'BC', 'UVA', 'SYR', 'DUKE', 'FSU', 'WAKE', 'LOU', 'MIA']\n",
    "American = ['SMU','CIN', 'HOU', 'TLSA', 'NAVY', 'UCF', 'TEM', 'MEM', 'USF', 'ECU', 'TULN']\n",
    "BIG12 = ['OKST', 'ISU', 'KSU', 'WVU', 'BAY', 'TCU', 'OU', 'TEX', 'TTU', 'KU', 'OKLA']\n",
    "BIG10 = ['IU', 'MD', 'MSU', 'MICH', 'OSU', 'PSU', 'RUTG', 'ILL', 'IOWA', 'MINN', 'NEB', 'NW', 'PUR', 'WISC', 'IND', 'WIS']\n",
    "C_USA = ['FAU', 'WKU', 'MRSH', 'ODU', 'FIU', 'CLT', 'MTSU', 'UAB', 'LT', 'UTSA', 'USM', 'UTEP', 'RICE', 'UNT', 'CHAR']\n",
    "INDEP = ['LIB', 'ARMY', 'BYU', 'NMSU', 'UCONN', 'MASS', 'CONN', 'UMASS']\n",
    "MAC = ['AKR', 'BGSU', 'BUFF', 'KENT', 'M-OH', 'OHIO', 'BALL', 'CMU', 'EMU', 'NIU', 'TOL', 'WMU']\n",
    "MTN_WEST = ['AFA', 'BSU', 'CSU', 'FRES', 'HAW', 'NEV', 'UNM', 'SDSU', 'SJSU', 'UNLV', 'USU', 'WYO']\n",
    "PAC_12 = ['CAL', 'ORE', 'ORST', 'STAN', 'WASH', 'WSU', 'ASU', 'ARIZ', 'COLO', 'UCLA', 'USC', 'UTAH']\n",
    "SEC =['UGA', 'TENN', 'FLA', 'MIZ', 'SC', 'UK', 'VAN', 'ALA', 'TA&M','ARK', 'AUB', 'MSST', 'MISS', 'LSU']\n",
    "SUN_BELT = ['CCU', 'TROY', 'GASO', 'APP', 'GAST', 'UL', 'TXST', 'USA', 'ARST', 'ULM', 'ULL', 'IDHO', 'ARKST']\n",
    "conf = ['ACC', 'American', 'BIG12', 'BIG10', 'C-USA', 'INDEP', 'MAC', 'MTN-WEST', 'PAC-12', 'SEC', 'SUN-BELT']"
   ]
  },
  {
   "cell_type": "code",
   "execution_count": 11,
   "metadata": {
    "ExecuteTime": {
     "end_time": "2020-10-11T05:45:14.683473Z",
     "start_time": "2020-10-11T05:45:14.655460Z"
    }
   },
   "outputs": [],
   "source": [
    "df['COLLEGE'].mask(df['COLLEGE'].isin(ACC), 'ACC', inplace=True)\n",
    "df['COLLEGE'].mask(df['COLLEGE'].isin(American), 'American', inplace=True)\n",
    "df['COLLEGE'].mask(df['COLLEGE'].isin(BIG12), 'BIG12', inplace=True)\n",
    "df['COLLEGE'].mask(df['COLLEGE'].isin(BIG10), 'BIG10', inplace=True)\n",
    "df['COLLEGE'].mask(df['COLLEGE'].isin(C_USA), 'C-USA', inplace=True)\n",
    "df['COLLEGE'].mask(df['COLLEGE'].isin(INDEP), 'INDEP', inplace=True)\n",
    "df['COLLEGE'].mask(df['COLLEGE'].isin(MAC), 'MAC', inplace=True)\n",
    "df['COLLEGE'].mask(df['COLLEGE'].isin(MTN_WEST), 'MTN-WEST', inplace=True)\n",
    "df['COLLEGE'].mask(df['COLLEGE'].isin(PAC_12), 'PAC-12', inplace=True)\n",
    "df['COLLEGE'].mask(df['COLLEGE'].isin(SEC), 'SEC', inplace=True)\n",
    "df['COLLEGE'].mask(df['COLLEGE'].isin(SUN_BELT), 'SUN-BELT', inplace=True)"
   ]
  },
  {
   "cell_type": "code",
   "execution_count": 12,
   "metadata": {
    "ExecuteTime": {
     "end_time": "2020-10-11T05:45:14.699458Z",
     "start_time": "2020-10-11T05:45:14.684458Z"
    }
   },
   "outputs": [],
   "source": [
    "df = df[df['COLLEGE'].isin(conf)]"
   ]
  },
  {
   "cell_type": "markdown",
   "metadata": {},
   "source": [
    "# Adjusting date of birth to age"
   ]
  },
  {
   "cell_type": "code",
   "execution_count": 13,
   "metadata": {
    "ExecuteTime": {
     "end_time": "2020-10-11T05:45:15.374966Z",
     "start_time": "2020-10-11T05:45:14.701461Z"
    }
   },
   "outputs": [],
   "source": [
    "for index, row in enumerate(df['DOB']):\n",
    "    if len(row) <= 10:\n",
    "        df.loc[index, 'DOB'] = row[-4:]\n",
    "        continue\n",
    "    df.loc[index, 'DOB'] = row[-9:-5]"
   ]
  },
  {
   "cell_type": "code",
   "execution_count": 14,
   "metadata": {
    "ExecuteTime": {
     "end_time": "2020-10-11T05:45:15.390966Z",
     "start_time": "2020-10-11T05:45:15.374966Z"
    }
   },
   "outputs": [],
   "source": [
    "df['DOB'] = df['DOB'].replace(['na'], 0)"
   ]
  },
  {
   "cell_type": "code",
   "execution_count": 15,
   "metadata": {
    "ExecuteTime": {
     "end_time": "2020-10-11T05:45:15.406966Z",
     "start_time": "2020-10-11T05:45:15.393977Z"
    }
   },
   "outputs": [],
   "source": [
    "df['DOB'] = df['DOB'].astype('float')"
   ]
  },
  {
   "cell_type": "code",
   "execution_count": 16,
   "metadata": {
    "ExecuteTime": {
     "end_time": "2020-10-11T05:45:15.422966Z",
     "start_time": "2020-10-11T05:45:15.409016Z"
    }
   },
   "outputs": [],
   "source": [
    "df['AGE'] = df['YEAR'] - df['DOB']"
   ]
  },
  {
   "cell_type": "code",
   "execution_count": 17,
   "metadata": {
    "ExecuteTime": {
     "end_time": "2020-10-11T05:45:15.727064Z",
     "start_time": "2020-10-11T05:45:15.424969Z"
    }
   },
   "outputs": [],
   "source": [
    "for index, row in enumerate(df['AGE']):\n",
    "    if row > 100:\n",
    "        df.loc[index, 'AGE'] = 0"
   ]
  },
  {
   "cell_type": "markdown",
   "metadata": {},
   "source": [
    "# Minor changes"
   ]
  },
  {
   "cell_type": "code",
   "execution_count": 45,
   "metadata": {
    "ExecuteTime": {
     "end_time": "2020-10-11T05:55:27.425268Z",
     "start_time": "2020-10-11T05:55:27.403322Z"
    }
   },
   "outputs": [],
   "source": [
    "df['PYDS'] = df['PYDS'].str.replace(',', '')\n",
    "df['PYDS'] = df['PYDS'].astype(float)\n",
    "\n",
    "df['RYDS'] = df['RYDS'].str.replace(',', '')\n",
    "df['RYDS'] = df['RYDS'].astype(float)"
   ]
  },
  {
   "cell_type": "code",
   "execution_count": 18,
   "metadata": {
    "ExecuteTime": {
     "end_time": "2020-10-11T05:45:15.758968Z",
     "start_time": "2020-10-11T05:45:15.729009Z"
    }
   },
   "outputs": [],
   "source": [
    "df.loc[df['DRAFT_STATUS'] != 'na', 'DRAFTED'] = 1"
   ]
  },
  {
   "cell_type": "code",
   "execution_count": 19,
   "metadata": {
    "ExecuteTime": {
     "end_time": "2020-10-11T05:45:15.773965Z",
     "start_time": "2020-10-11T05:45:15.760968Z"
    }
   },
   "outputs": [],
   "source": [
    "df.drop(['DOB', 'DRAFT_STATUS', 'POS'], axis=1, inplace=True)"
   ]
  },
  {
   "cell_type": "code",
   "execution_count": 20,
   "metadata": {
    "ExecuteTime": {
     "end_time": "2020-10-11T05:45:15.789965Z",
     "start_time": "2020-10-11T05:45:15.775971Z"
    }
   },
   "outputs": [],
   "source": [
    "df = df[df['YEAR'] > 2004]"
   ]
  },
  {
   "cell_type": "code",
   "execution_count": 44,
   "metadata": {
    "ExecuteTime": {
     "end_time": "2020-10-11T05:54:52.872809Z",
     "start_time": "2020-10-11T05:54:52.824810Z"
    }
   },
   "outputs": [
    {
     "data": {
      "text/html": [
       "<div>\n",
       "<style scoped>\n",
       "    .dataframe tbody tr th:only-of-type {\n",
       "        vertical-align: middle;\n",
       "    }\n",
       "\n",
       "    .dataframe tbody tr th {\n",
       "        vertical-align: top;\n",
       "    }\n",
       "\n",
       "    .dataframe thead th {\n",
       "        text-align: right;\n",
       "    }\n",
       "</style>\n",
       "<table border=\"1\" class=\"dataframe\">\n",
       "  <thead>\n",
       "    <tr style=\"text-align: right;\">\n",
       "      <th></th>\n",
       "      <th>NAME</th>\n",
       "      <th>COLLEGE</th>\n",
       "      <th>YEAR</th>\n",
       "      <th>QBR</th>\n",
       "      <th>PAA</th>\n",
       "      <th>PLAYS</th>\n",
       "      <th>EPA</th>\n",
       "      <th>PASS</th>\n",
       "      <th>RUN</th>\n",
       "      <th>QBR_SACK</th>\n",
       "      <th>PEN</th>\n",
       "      <th>RAW</th>\n",
       "      <th>OVERALL</th>\n",
       "      <th>OFFENSE</th>\n",
       "      <th>DEFENSE</th>\n",
       "      <th>SPECIAL</th>\n",
       "      <th>CMP</th>\n",
       "      <th>PATT</th>\n",
       "      <th>CMP%</th>\n",
       "      <th>PYDS</th>\n",
       "      <th>PAVG</th>\n",
       "      <th>PLNG</th>\n",
       "      <th>PTD</th>\n",
       "      <th>INT</th>\n",
       "      <th>TOTAL_SACKS</th>\n",
       "      <th>RTG</th>\n",
       "      <th>RATT</th>\n",
       "      <th>RYDS</th>\n",
       "      <th>RAVG</th>\n",
       "      <th>RLNG</th>\n",
       "      <th>RTD</th>\n",
       "      <th>AGE</th>\n",
       "      <th>DRAFTED</th>\n",
       "    </tr>\n",
       "  </thead>\n",
       "  <tbody>\n",
       "    <tr>\n",
       "      <td>50</td>\n",
       "      <td>Pat White</td>\n",
       "      <td>BIG12</td>\n",
       "      <td>2005.0</td>\n",
       "      <td>87.5</td>\n",
       "      <td>42.1</td>\n",
       "      <td>267.0</td>\n",
       "      <td>44.3</td>\n",
       "      <td>15.9</td>\n",
       "      <td>32.3</td>\n",
       "      <td>-2.9</td>\n",
       "      <td>-1.6</td>\n",
       "      <td>83.8</td>\n",
       "      <td>77.0</td>\n",
       "      <td>76.2</td>\n",
       "      <td>69.4</td>\n",
       "      <td>46.7</td>\n",
       "      <td>65.0</td>\n",
       "      <td>114.0</td>\n",
       "      <td>57.0</td>\n",
       "      <td>828</td>\n",
       "      <td>7.3</td>\n",
       "      <td>50.0</td>\n",
       "      <td>8.0</td>\n",
       "      <td>5.0</td>\n",
       "      <td>5.0</td>\n",
       "      <td>132.4</td>\n",
       "      <td>131.0</td>\n",
       "      <td>952</td>\n",
       "      <td>7.3</td>\n",
       "      <td>76.0</td>\n",
       "      <td>7.0</td>\n",
       "      <td>19.0</td>\n",
       "      <td>1.0</td>\n",
       "    </tr>\n",
       "    <tr>\n",
       "      <td>51</td>\n",
       "      <td>Vince Young</td>\n",
       "      <td>BIG12</td>\n",
       "      <td>2005.0</td>\n",
       "      <td>86.1</td>\n",
       "      <td>71.5</td>\n",
       "      <td>532.0</td>\n",
       "      <td>75.0</td>\n",
       "      <td>44.5</td>\n",
       "      <td>36.2</td>\n",
       "      <td>-8.1</td>\n",
       "      <td>2.2</td>\n",
       "      <td>80.2</td>\n",
       "      <td>94.8</td>\n",
       "      <td>92.0</td>\n",
       "      <td>85.0</td>\n",
       "      <td>71.9</td>\n",
       "      <td>212.0</td>\n",
       "      <td>325.0</td>\n",
       "      <td>65.2</td>\n",
       "      <td>3036</td>\n",
       "      <td>9.3</td>\n",
       "      <td>75.0</td>\n",
       "      <td>26.0</td>\n",
       "      <td>10.0</td>\n",
       "      <td>13.0</td>\n",
       "      <td>163.9</td>\n",
       "      <td>155.0</td>\n",
       "      <td>1,050</td>\n",
       "      <td>6.8</td>\n",
       "      <td>80.0</td>\n",
       "      <td>12.0</td>\n",
       "      <td>22.0</td>\n",
       "      <td>1.0</td>\n",
       "    </tr>\n",
       "    <tr>\n",
       "      <td>52</td>\n",
       "      <td>Brian Brohm</td>\n",
       "      <td>ACC</td>\n",
       "      <td>2005.0</td>\n",
       "      <td>81.2</td>\n",
       "      <td>48.9</td>\n",
       "      <td>385.0</td>\n",
       "      <td>49.8</td>\n",
       "      <td>56.1</td>\n",
       "      <td>1.7</td>\n",
       "      <td>-9.4</td>\n",
       "      <td>2.0</td>\n",
       "      <td>78.9</td>\n",
       "      <td>76.3</td>\n",
       "      <td>84.0</td>\n",
       "      <td>54.4</td>\n",
       "      <td>55.2</td>\n",
       "      <td>207.0</td>\n",
       "      <td>301.0</td>\n",
       "      <td>68.8</td>\n",
       "      <td>2883</td>\n",
       "      <td>9.6</td>\n",
       "      <td>76.0</td>\n",
       "      <td>19.0</td>\n",
       "      <td>5.0</td>\n",
       "      <td>17.0</td>\n",
       "      <td>166.7</td>\n",
       "      <td>NaN</td>\n",
       "      <td>NaN</td>\n",
       "      <td>NaN</td>\n",
       "      <td>NaN</td>\n",
       "      <td>NaN</td>\n",
       "      <td>20.0</td>\n",
       "      <td>1.0</td>\n",
       "    </tr>\n",
       "    <tr>\n",
       "      <td>53</td>\n",
       "      <td>Rudy Carpenter</td>\n",
       "      <td>PAC-12</td>\n",
       "      <td>2005.0</td>\n",
       "      <td>80.8</td>\n",
       "      <td>39.5</td>\n",
       "      <td>307.0</td>\n",
       "      <td>42.7</td>\n",
       "      <td>51.6</td>\n",
       "      <td>2.5</td>\n",
       "      <td>-13.1</td>\n",
       "      <td>1.2</td>\n",
       "      <td>79.2</td>\n",
       "      <td>68.1</td>\n",
       "      <td>79.0</td>\n",
       "      <td>48.2</td>\n",
       "      <td>50.1</td>\n",
       "      <td>156.0</td>\n",
       "      <td>228.0</td>\n",
       "      <td>68.4</td>\n",
       "      <td>2273</td>\n",
       "      <td>10.0</td>\n",
       "      <td>69.0</td>\n",
       "      <td>17.0</td>\n",
       "      <td>2.0</td>\n",
       "      <td>21.0</td>\n",
       "      <td>175.0</td>\n",
       "      <td>NaN</td>\n",
       "      <td>NaN</td>\n",
       "      <td>NaN</td>\n",
       "      <td>NaN</td>\n",
       "      <td>NaN</td>\n",
       "      <td>19.0</td>\n",
       "      <td>NaN</td>\n",
       "    </tr>\n",
       "    <tr>\n",
       "      <td>54</td>\n",
       "      <td>Matt Leinart</td>\n",
       "      <td>PAC-12</td>\n",
       "      <td>2005.0</td>\n",
       "      <td>80.5</td>\n",
       "      <td>51.1</td>\n",
       "      <td>529.0</td>\n",
       "      <td>61.5</td>\n",
       "      <td>64.9</td>\n",
       "      <td>6.5</td>\n",
       "      <td>-8.8</td>\n",
       "      <td>-1.0</td>\n",
       "      <td>73.2</td>\n",
       "      <td>94.1</td>\n",
       "      <td>95.8</td>\n",
       "      <td>78.7</td>\n",
       "      <td>40.7</td>\n",
       "      <td>283.0</td>\n",
       "      <td>431.0</td>\n",
       "      <td>65.7</td>\n",
       "      <td>3815</td>\n",
       "      <td>8.9</td>\n",
       "      <td>67.0</td>\n",
       "      <td>28.0</td>\n",
       "      <td>8.0</td>\n",
       "      <td>17.0</td>\n",
       "      <td>157.7</td>\n",
       "      <td>NaN</td>\n",
       "      <td>NaN</td>\n",
       "      <td>NaN</td>\n",
       "      <td>NaN</td>\n",
       "      <td>NaN</td>\n",
       "      <td>22.0</td>\n",
       "      <td>1.0</td>\n",
       "    </tr>\n",
       "  </tbody>\n",
       "</table>\n",
       "</div>"
      ],
      "text/plain": [
       "              NAME COLLEGE    YEAR   QBR   PAA  PLAYS   EPA  PASS   RUN  \\\n",
       "50       Pat White   BIG12  2005.0  87.5  42.1  267.0  44.3  15.9  32.3   \n",
       "51     Vince Young   BIG12  2005.0  86.1  71.5  532.0  75.0  44.5  36.2   \n",
       "52     Brian Brohm     ACC  2005.0  81.2  48.9  385.0  49.8  56.1   1.7   \n",
       "53  Rudy Carpenter  PAC-12  2005.0  80.8  39.5  307.0  42.7  51.6   2.5   \n",
       "54    Matt Leinart  PAC-12  2005.0  80.5  51.1  529.0  61.5  64.9   6.5   \n",
       "\n",
       "    QBR_SACK  PEN   RAW  OVERALL  OFFENSE  DEFENSE  SPECIAL    CMP   PATT  \\\n",
       "50      -2.9 -1.6  83.8     77.0     76.2     69.4     46.7   65.0  114.0   \n",
       "51      -8.1  2.2  80.2     94.8     92.0     85.0     71.9  212.0  325.0   \n",
       "52      -9.4  2.0  78.9     76.3     84.0     54.4     55.2  207.0  301.0   \n",
       "53     -13.1  1.2  79.2     68.1     79.0     48.2     50.1  156.0  228.0   \n",
       "54      -8.8 -1.0  73.2     94.1     95.8     78.7     40.7  283.0  431.0   \n",
       "\n",
       "    CMP%  PYDS  PAVG  PLNG   PTD   INT  TOTAL_SACKS    RTG   RATT   RYDS  \\\n",
       "50  57.0   828   7.3  50.0   8.0   5.0          5.0  132.4  131.0    952   \n",
       "51  65.2  3036   9.3  75.0  26.0  10.0         13.0  163.9  155.0  1,050   \n",
       "52  68.8  2883   9.6  76.0  19.0   5.0         17.0  166.7    NaN    NaN   \n",
       "53  68.4  2273  10.0  69.0  17.0   2.0         21.0  175.0    NaN    NaN   \n",
       "54  65.7  3815   8.9  67.0  28.0   8.0         17.0  157.7    NaN    NaN   \n",
       "\n",
       "    RAVG  RLNG   RTD   AGE  DRAFTED  \n",
       "50   7.3  76.0   7.0  19.0      1.0  \n",
       "51   6.8  80.0  12.0  22.0      1.0  \n",
       "52   NaN   NaN   NaN  20.0      1.0  \n",
       "53   NaN   NaN   NaN  19.0      NaN  \n",
       "54   NaN   NaN   NaN  22.0      1.0  "
      ]
     },
     "execution_count": 44,
     "metadata": {},
     "output_type": "execute_result"
    }
   ],
   "source": [
    "df.head()"
   ]
  },
  {
   "cell_type": "code",
   "execution_count": 46,
   "metadata": {
    "ExecuteTime": {
     "end_time": "2020-10-11T05:55:37.987418Z",
     "start_time": "2020-10-11T05:55:37.962386Z"
    }
   },
   "outputs": [
    {
     "name": "stdout",
     "output_type": "stream",
     "text": [
      "<class 'pandas.core.frame.DataFrame'>\n",
      "Int64Index: 1796 entries, 50 to 1862\n",
      "Data columns (total 33 columns):\n",
      "NAME           1796 non-null object\n",
      "COLLEGE        1796 non-null object\n",
      "YEAR           1796 non-null float64\n",
      "QBR            1796 non-null float64\n",
      "PAA            1796 non-null float64\n",
      "PLAYS          1796 non-null float64\n",
      "EPA            1796 non-null float64\n",
      "PASS           1796 non-null float64\n",
      "RUN            1796 non-null float64\n",
      "QBR_SACK       1796 non-null float64\n",
      "PEN            1796 non-null float64\n",
      "RAW            1796 non-null float64\n",
      "OVERALL        1796 non-null float64\n",
      "OFFENSE        1796 non-null float64\n",
      "DEFENSE        1796 non-null float64\n",
      "SPECIAL        1796 non-null float64\n",
      "CMP            1795 non-null float64\n",
      "PATT           1795 non-null float64\n",
      "CMP%           1795 non-null float64\n",
      "PYDS           1795 non-null float64\n",
      "PAVG           1795 non-null float64\n",
      "PLNG           1795 non-null float64\n",
      "PTD            1795 non-null float64\n",
      "INT            1795 non-null float64\n",
      "TOTAL_SACKS    1795 non-null float64\n",
      "RTG            1795 non-null float64\n",
      "RATT           718 non-null float64\n",
      "RYDS           718 non-null float64\n",
      "RAVG           718 non-null float64\n",
      "RLNG           718 non-null float64\n",
      "RTD            718 non-null float64\n",
      "AGE            1796 non-null float64\n",
      "DRAFTED        432 non-null float64\n",
      "dtypes: float64(31), object(2)\n",
      "memory usage: 557.1+ KB\n"
     ]
    }
   ],
   "source": [
    "df.info()"
   ]
  },
  {
   "cell_type": "code",
   "execution_count": 47,
   "metadata": {
    "ExecuteTime": {
     "end_time": "2020-10-11T05:56:20.132605Z",
     "start_time": "2020-10-11T05:56:20.063617Z"
    }
   },
   "outputs": [],
   "source": [
    "df.to_csv('csv_files/full_stats.csv')"
   ]
  },
  {
   "cell_type": "code",
   "execution_count": null,
   "metadata": {},
   "outputs": [],
   "source": []
  }
 ],
 "metadata": {
  "kernelspec": {
   "display_name": "Python 3",
   "language": "python",
   "name": "python3"
  },
  "language_info": {
   "codemirror_mode": {
    "name": "ipython",
    "version": 3
   },
   "file_extension": ".py",
   "mimetype": "text/x-python",
   "name": "python",
   "nbconvert_exporter": "python",
   "pygments_lexer": "ipython3",
   "version": "3.6.9"
  },
  "toc": {
   "base_numbering": 1,
   "nav_menu": {},
   "number_sections": true,
   "sideBar": true,
   "skip_h1_title": false,
   "title_cell": "Table of Contents",
   "title_sidebar": "Contents",
   "toc_cell": false,
   "toc_position": {},
   "toc_section_display": true,
   "toc_window_display": true
  },
  "varInspector": {
   "cols": {
    "lenName": 16,
    "lenType": 16,
    "lenVar": 40
   },
   "kernels_config": {
    "python": {
     "delete_cmd_postfix": "",
     "delete_cmd_prefix": "del ",
     "library": "var_list.py",
     "varRefreshCmd": "print(var_dic_list())"
    },
    "r": {
     "delete_cmd_postfix": ") ",
     "delete_cmd_prefix": "rm(",
     "library": "var_list.r",
     "varRefreshCmd": "cat(var_dic_list()) "
    }
   },
   "types_to_exclude": [
    "module",
    "function",
    "builtin_function_or_method",
    "instance",
    "_Feature"
   ],
   "window_display": false
  }
 },
 "nbformat": 4,
 "nbformat_minor": 2
}
