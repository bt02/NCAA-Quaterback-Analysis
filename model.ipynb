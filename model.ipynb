{
 "cells": [
  {
   "cell_type": "markdown",
   "metadata": {},
   "source": [
    "*See eda for background of analysis\n",
    "\n",
    "The goal of this notebook is to analyze what various quarterback statistics affect their ratings. Various machine learning models will be sampled to find an optimized model that best fits the data to a regression model. The findings can the be used to infer what are the best and east areas a quarterback and or college can focus on to improve the players skill. With subsequent results the data can move over for visualization and plotting of feature importances."
   ]
  },
  {
   "cell_type": "code",
   "execution_count": 1,
   "metadata": {
    "ExecuteTime": {
     "end_time": "2021-01-01T20:38:56.821726Z",
     "start_time": "2021-01-01T20:38:53.691887Z"
    }
   },
   "outputs": [],
   "source": [
    "import numpy as np\n",
    "import seaborn as sns\n",
    "import pandas as pd\n",
    "pd.set_option('display.max_columns', None)\n",
    "pd.set_option('display.max_rows', None)"
   ]
  },
  {
   "cell_type": "code",
   "execution_count": 2,
   "metadata": {
    "ExecuteTime": {
     "end_time": "2021-01-01T20:38:56.911362Z",
     "start_time": "2021-01-01T20:38:56.857796Z"
    }
   },
   "outputs": [],
   "source": [
    "df = pd.read_csv('csv_files/full_stats.csv')"
   ]
  },
  {
   "cell_type": "code",
   "execution_count": 3,
   "metadata": {
    "ExecuteTime": {
     "end_time": "2021-01-01T20:39:00.279418Z",
     "start_time": "2021-01-01T20:39:00.245409Z"
    }
   },
   "outputs": [],
   "source": [
    "df.drop('Unnamed: 0', axis=1 , inplace=True)"
   ]
  },
  {
   "cell_type": "code",
   "execution_count": 4,
   "metadata": {
    "ExecuteTime": {
     "end_time": "2021-01-01T20:39:03.683070Z",
     "start_time": "2021-01-01T20:39:03.577003Z"
    }
   },
   "outputs": [
    {
     "data": {
      "text/html": [
       "<div>\n",
       "<style scoped>\n",
       "    .dataframe tbody tr th:only-of-type {\n",
       "        vertical-align: middle;\n",
       "    }\n",
       "\n",
       "    .dataframe tbody tr th {\n",
       "        vertical-align: top;\n",
       "    }\n",
       "\n",
       "    .dataframe thead th {\n",
       "        text-align: right;\n",
       "    }\n",
       "</style>\n",
       "<table border=\"1\" class=\"dataframe\">\n",
       "  <thead>\n",
       "    <tr style=\"text-align: right;\">\n",
       "      <th></th>\n",
       "      <th>NAME</th>\n",
       "      <th>COLLEGE</th>\n",
       "      <th>YEAR</th>\n",
       "      <th>QBR</th>\n",
       "      <th>PAA</th>\n",
       "      <th>PLAYS</th>\n",
       "      <th>EPA</th>\n",
       "      <th>PASS</th>\n",
       "      <th>RUN</th>\n",
       "      <th>QBR_SACK</th>\n",
       "      <th>PEN</th>\n",
       "      <th>RAW</th>\n",
       "      <th>OVERALL</th>\n",
       "      <th>OFFENSE</th>\n",
       "      <th>DEFENSE</th>\n",
       "      <th>SPECIAL</th>\n",
       "      <th>CMP</th>\n",
       "      <th>PATT</th>\n",
       "      <th>CMP%</th>\n",
       "      <th>PYDS</th>\n",
       "      <th>PAVG</th>\n",
       "      <th>PLNG</th>\n",
       "      <th>PTD</th>\n",
       "      <th>INT</th>\n",
       "      <th>TOTAL_SACKS</th>\n",
       "      <th>RTG</th>\n",
       "      <th>RATT</th>\n",
       "      <th>RYDS</th>\n",
       "      <th>RAVG</th>\n",
       "      <th>RLNG</th>\n",
       "      <th>RTD</th>\n",
       "      <th>AGE</th>\n",
       "      <th>DRAFTED</th>\n",
       "    </tr>\n",
       "  </thead>\n",
       "  <tbody>\n",
       "    <tr>\n",
       "      <td>0</td>\n",
       "      <td>Pat White</td>\n",
       "      <td>BIG12</td>\n",
       "      <td>2005.0</td>\n",
       "      <td>87.5</td>\n",
       "      <td>42.1</td>\n",
       "      <td>267.0</td>\n",
       "      <td>44.3</td>\n",
       "      <td>15.9</td>\n",
       "      <td>32.3</td>\n",
       "      <td>-2.9</td>\n",
       "      <td>-1.6</td>\n",
       "      <td>83.8</td>\n",
       "      <td>77.0</td>\n",
       "      <td>76.2</td>\n",
       "      <td>69.4</td>\n",
       "      <td>46.7</td>\n",
       "      <td>65.0</td>\n",
       "      <td>114.0</td>\n",
       "      <td>57.0</td>\n",
       "      <td>828.0</td>\n",
       "      <td>7.3</td>\n",
       "      <td>50.0</td>\n",
       "      <td>8.0</td>\n",
       "      <td>5.0</td>\n",
       "      <td>5.0</td>\n",
       "      <td>132.4</td>\n",
       "      <td>131.0</td>\n",
       "      <td>952.0</td>\n",
       "      <td>7.3</td>\n",
       "      <td>76.0</td>\n",
       "      <td>7.0</td>\n",
       "      <td>19.0</td>\n",
       "      <td>1.0</td>\n",
       "    </tr>\n",
       "    <tr>\n",
       "      <td>1</td>\n",
       "      <td>Vince Young</td>\n",
       "      <td>BIG12</td>\n",
       "      <td>2005.0</td>\n",
       "      <td>86.1</td>\n",
       "      <td>71.5</td>\n",
       "      <td>532.0</td>\n",
       "      <td>75.0</td>\n",
       "      <td>44.5</td>\n",
       "      <td>36.2</td>\n",
       "      <td>-8.1</td>\n",
       "      <td>2.2</td>\n",
       "      <td>80.2</td>\n",
       "      <td>94.8</td>\n",
       "      <td>92.0</td>\n",
       "      <td>85.0</td>\n",
       "      <td>71.9</td>\n",
       "      <td>212.0</td>\n",
       "      <td>325.0</td>\n",
       "      <td>65.2</td>\n",
       "      <td>3036.0</td>\n",
       "      <td>9.3</td>\n",
       "      <td>75.0</td>\n",
       "      <td>26.0</td>\n",
       "      <td>10.0</td>\n",
       "      <td>13.0</td>\n",
       "      <td>163.9</td>\n",
       "      <td>155.0</td>\n",
       "      <td>1050.0</td>\n",
       "      <td>6.8</td>\n",
       "      <td>80.0</td>\n",
       "      <td>12.0</td>\n",
       "      <td>22.0</td>\n",
       "      <td>1.0</td>\n",
       "    </tr>\n",
       "    <tr>\n",
       "      <td>2</td>\n",
       "      <td>Brian Brohm</td>\n",
       "      <td>ACC</td>\n",
       "      <td>2005.0</td>\n",
       "      <td>81.2</td>\n",
       "      <td>48.9</td>\n",
       "      <td>385.0</td>\n",
       "      <td>49.8</td>\n",
       "      <td>56.1</td>\n",
       "      <td>1.7</td>\n",
       "      <td>-9.4</td>\n",
       "      <td>2.0</td>\n",
       "      <td>78.9</td>\n",
       "      <td>76.3</td>\n",
       "      <td>84.0</td>\n",
       "      <td>54.4</td>\n",
       "      <td>55.2</td>\n",
       "      <td>207.0</td>\n",
       "      <td>301.0</td>\n",
       "      <td>68.8</td>\n",
       "      <td>2883.0</td>\n",
       "      <td>9.6</td>\n",
       "      <td>76.0</td>\n",
       "      <td>19.0</td>\n",
       "      <td>5.0</td>\n",
       "      <td>17.0</td>\n",
       "      <td>166.7</td>\n",
       "      <td>NaN</td>\n",
       "      <td>NaN</td>\n",
       "      <td>NaN</td>\n",
       "      <td>NaN</td>\n",
       "      <td>NaN</td>\n",
       "      <td>20.0</td>\n",
       "      <td>1.0</td>\n",
       "    </tr>\n",
       "    <tr>\n",
       "      <td>3</td>\n",
       "      <td>Rudy Carpenter</td>\n",
       "      <td>PAC-12</td>\n",
       "      <td>2005.0</td>\n",
       "      <td>80.8</td>\n",
       "      <td>39.5</td>\n",
       "      <td>307.0</td>\n",
       "      <td>42.7</td>\n",
       "      <td>51.6</td>\n",
       "      <td>2.5</td>\n",
       "      <td>-13.1</td>\n",
       "      <td>1.2</td>\n",
       "      <td>79.2</td>\n",
       "      <td>68.1</td>\n",
       "      <td>79.0</td>\n",
       "      <td>48.2</td>\n",
       "      <td>50.1</td>\n",
       "      <td>156.0</td>\n",
       "      <td>228.0</td>\n",
       "      <td>68.4</td>\n",
       "      <td>2273.0</td>\n",
       "      <td>10.0</td>\n",
       "      <td>69.0</td>\n",
       "      <td>17.0</td>\n",
       "      <td>2.0</td>\n",
       "      <td>21.0</td>\n",
       "      <td>175.0</td>\n",
       "      <td>NaN</td>\n",
       "      <td>NaN</td>\n",
       "      <td>NaN</td>\n",
       "      <td>NaN</td>\n",
       "      <td>NaN</td>\n",
       "      <td>19.0</td>\n",
       "      <td>NaN</td>\n",
       "    </tr>\n",
       "    <tr>\n",
       "      <td>4</td>\n",
       "      <td>Matt Leinart</td>\n",
       "      <td>PAC-12</td>\n",
       "      <td>2005.0</td>\n",
       "      <td>80.5</td>\n",
       "      <td>51.1</td>\n",
       "      <td>529.0</td>\n",
       "      <td>61.5</td>\n",
       "      <td>64.9</td>\n",
       "      <td>6.5</td>\n",
       "      <td>-8.8</td>\n",
       "      <td>-1.0</td>\n",
       "      <td>73.2</td>\n",
       "      <td>94.1</td>\n",
       "      <td>95.8</td>\n",
       "      <td>78.7</td>\n",
       "      <td>40.7</td>\n",
       "      <td>283.0</td>\n",
       "      <td>431.0</td>\n",
       "      <td>65.7</td>\n",
       "      <td>3815.0</td>\n",
       "      <td>8.9</td>\n",
       "      <td>67.0</td>\n",
       "      <td>28.0</td>\n",
       "      <td>8.0</td>\n",
       "      <td>17.0</td>\n",
       "      <td>157.7</td>\n",
       "      <td>NaN</td>\n",
       "      <td>NaN</td>\n",
       "      <td>NaN</td>\n",
       "      <td>NaN</td>\n",
       "      <td>NaN</td>\n",
       "      <td>22.0</td>\n",
       "      <td>1.0</td>\n",
       "    </tr>\n",
       "  </tbody>\n",
       "</table>\n",
       "</div>"
      ],
      "text/plain": [
       "             NAME COLLEGE    YEAR   QBR   PAA  PLAYS   EPA  PASS   RUN  \\\n",
       "0       Pat White   BIG12  2005.0  87.5  42.1  267.0  44.3  15.9  32.3   \n",
       "1     Vince Young   BIG12  2005.0  86.1  71.5  532.0  75.0  44.5  36.2   \n",
       "2     Brian Brohm     ACC  2005.0  81.2  48.9  385.0  49.8  56.1   1.7   \n",
       "3  Rudy Carpenter  PAC-12  2005.0  80.8  39.5  307.0  42.7  51.6   2.5   \n",
       "4    Matt Leinart  PAC-12  2005.0  80.5  51.1  529.0  61.5  64.9   6.5   \n",
       "\n",
       "   QBR_SACK  PEN   RAW  OVERALL  OFFENSE  DEFENSE  SPECIAL    CMP   PATT  \\\n",
       "0      -2.9 -1.6  83.8     77.0     76.2     69.4     46.7   65.0  114.0   \n",
       "1      -8.1  2.2  80.2     94.8     92.0     85.0     71.9  212.0  325.0   \n",
       "2      -9.4  2.0  78.9     76.3     84.0     54.4     55.2  207.0  301.0   \n",
       "3     -13.1  1.2  79.2     68.1     79.0     48.2     50.1  156.0  228.0   \n",
       "4      -8.8 -1.0  73.2     94.1     95.8     78.7     40.7  283.0  431.0   \n",
       "\n",
       "   CMP%    PYDS  PAVG  PLNG   PTD   INT  TOTAL_SACKS    RTG   RATT    RYDS  \\\n",
       "0  57.0   828.0   7.3  50.0   8.0   5.0          5.0  132.4  131.0   952.0   \n",
       "1  65.2  3036.0   9.3  75.0  26.0  10.0         13.0  163.9  155.0  1050.0   \n",
       "2  68.8  2883.0   9.6  76.0  19.0   5.0         17.0  166.7    NaN     NaN   \n",
       "3  68.4  2273.0  10.0  69.0  17.0   2.0         21.0  175.0    NaN     NaN   \n",
       "4  65.7  3815.0   8.9  67.0  28.0   8.0         17.0  157.7    NaN     NaN   \n",
       "\n",
       "   RAVG  RLNG   RTD   AGE  DRAFTED  \n",
       "0   7.3  76.0   7.0  19.0      1.0  \n",
       "1   6.8  80.0  12.0  22.0      1.0  \n",
       "2   NaN   NaN   NaN  20.0      1.0  \n",
       "3   NaN   NaN   NaN  19.0      NaN  \n",
       "4   NaN   NaN   NaN  22.0      1.0  "
      ]
     },
     "execution_count": 4,
     "metadata": {},
     "output_type": "execute_result"
    }
   ],
   "source": [
    "df.head()"
   ]
  },
  {
   "cell_type": "markdown",
   "metadata": {},
   "source": [
    "# Regression Model"
   ]
  },
  {
   "cell_type": "code",
   "execution_count": 5,
   "metadata": {
    "ExecuteTime": {
     "end_time": "2021-01-01T20:39:08.945632Z",
     "start_time": "2021-01-01T20:39:06.840384Z"
    }
   },
   "outputs": [],
   "source": [
    "from statsmodels.formula.api import ols\n",
    "import statsmodels.api as sm\n",
    "from sklearn.model_selection import train_test_split\n",
    "from sklearn.linear_model import LinearRegression\n",
    "from sklearn.metrics import mean_absolute_error as mae\n",
    "from sklearn.metrics import mean_squared_error as mse\n",
    "from sklearn.metrics import r2_score\n",
    "from scipy import stats"
   ]
  },
  {
   "cell_type": "code",
   "execution_count": 6,
   "metadata": {
    "ExecuteTime": {
     "end_time": "2021-01-01T20:39:12.145318Z",
     "start_time": "2021-01-01T20:39:12.129264Z"
    }
   },
   "outputs": [],
   "source": [
    "df.drop(['NAME', 'PAA', 'EPA', 'RAW', 'RTG', 'RATT', 'RYDS', 'RAVG', 'RTD', 'RLNG', 'AGE', 'DRAFTED'], axis=1, inplace=True)"
   ]
  },
  {
   "cell_type": "code",
   "execution_count": 7,
   "metadata": {
    "ExecuteTime": {
     "end_time": "2021-01-01T20:39:14.367963Z",
     "start_time": "2021-01-01T20:39:14.348002Z"
    }
   },
   "outputs": [],
   "source": [
    "dum = pd.get_dummies(df['COLLEGE'])"
   ]
  },
  {
   "cell_type": "code",
   "execution_count": 8,
   "metadata": {
    "ExecuteTime": {
     "end_time": "2021-01-01T20:39:14.385072Z",
     "start_time": "2021-01-01T20:39:14.369049Z"
    }
   },
   "outputs": [],
   "source": [
    "df = pd.concat([df, dum], axis=1)"
   ]
  },
  {
   "cell_type": "code",
   "execution_count": 9,
   "metadata": {
    "ExecuteTime": {
     "end_time": "2021-01-01T20:39:17.509352Z",
     "start_time": "2021-01-01T20:39:17.492555Z"
    }
   },
   "outputs": [],
   "source": [
    "df.drop('COLLEGE', axis = 1, inplace = True)"
   ]
  },
  {
   "cell_type": "code",
   "execution_count": 10,
   "metadata": {
    "ExecuteTime": {
     "end_time": "2021-01-01T20:39:23.572097Z",
     "start_time": "2021-01-01T20:39:23.541610Z"
    }
   },
   "outputs": [],
   "source": [
    "df = df.dropna()"
   ]
  },
  {
   "cell_type": "code",
   "execution_count": 11,
   "metadata": {
    "ExecuteTime": {
     "end_time": "2021-01-01T20:39:26.572473Z",
     "start_time": "2021-01-01T20:39:26.545165Z"
    }
   },
   "outputs": [],
   "source": [
    "df2 = df.copy()"
   ]
  },
  {
   "cell_type": "code",
   "execution_count": 12,
   "metadata": {
    "ExecuteTime": {
     "end_time": "2021-01-01T20:39:32.194095Z",
     "start_time": "2021-01-01T20:39:32.042102Z"
    }
   },
   "outputs": [
    {
     "name": "stderr",
     "output_type": "stream",
     "text": [
      "C:\\Users\\bdtol\\anaconda3\\envs\\learn-env\\lib\\site-packages\\numpy\\core\\fromnumeric.py:2389: FutureWarning: Method .ptp is deprecated and will be removed in a future version. Use numpy.ptp instead.\n",
      "  return ptp(axis=axis, out=out, **kwargs)\n"
     ]
    },
    {
     "data": {
      "text/html": [
       "<table class=\"simpletable\">\n",
       "<caption>OLS Regression Results</caption>\n",
       "<tr>\n",
       "  <th>Dep. Variable:</th>           <td>QBR</td>       <th>  R-squared:         </th> <td>   0.936</td> \n",
       "</tr>\n",
       "<tr>\n",
       "  <th>Model:</th>                   <td>OLS</td>       <th>  Adj. R-squared:    </th> <td>   0.935</td> \n",
       "</tr>\n",
       "<tr>\n",
       "  <th>Method:</th>             <td>Least Squares</td>  <th>  F-statistic:       </th> <td>   887.8</td> \n",
       "</tr>\n",
       "<tr>\n",
       "  <th>Date:</th>             <td>Fri, 01 Jan 2021</td> <th>  Prob (F-statistic):</th>  <td>  0.00</td>  \n",
       "</tr>\n",
       "<tr>\n",
       "  <th>Time:</th>                 <td>15:39:32</td>     <th>  Log-Likelihood:    </th> <td> -5142.1</td> \n",
       "</tr>\n",
       "<tr>\n",
       "  <th>No. Observations:</th>      <td>  1795</td>      <th>  AIC:               </th> <td>1.034e+04</td>\n",
       "</tr>\n",
       "<tr>\n",
       "  <th>Df Residuals:</th>          <td>  1765</td>      <th>  BIC:               </th> <td>1.051e+04</td>\n",
       "</tr>\n",
       "<tr>\n",
       "  <th>Df Model:</th>              <td>    29</td>      <th>                     </th>     <td> </td>    \n",
       "</tr>\n",
       "<tr>\n",
       "  <th>Covariance Type:</th>      <td>nonrobust</td>    <th>                     </th>     <td> </td>    \n",
       "</tr>\n",
       "</table>\n",
       "<table class=\"simpletable\">\n",
       "<tr>\n",
       "       <td></td>          <th>coef</th>     <th>std err</th>      <th>t</th>      <th>P>|t|</th>  <th>[0.025</th>    <th>0.975]</th>  \n",
       "</tr>\n",
       "<tr>\n",
       "  <th>const</th>       <td> -197.4122</td> <td>   49.896</td> <td>   -3.957</td> <td> 0.000</td> <td> -295.273</td> <td>  -99.552</td>\n",
       "</tr>\n",
       "<tr>\n",
       "  <th>YEAR</th>        <td>    0.0896</td> <td>    0.027</td> <td>    3.320</td> <td> 0.001</td> <td>    0.037</td> <td>    0.143</td>\n",
       "</tr>\n",
       "<tr>\n",
       "  <th>PLAYS</th>       <td>   -0.0345</td> <td>    0.003</td> <td>  -11.517</td> <td> 0.000</td> <td>   -0.040</td> <td>   -0.029</td>\n",
       "</tr>\n",
       "<tr>\n",
       "  <th>PASS</th>        <td>    0.4626</td> <td>    0.017</td> <td>   27.669</td> <td> 0.000</td> <td>    0.430</td> <td>    0.495</td>\n",
       "</tr>\n",
       "<tr>\n",
       "  <th>RUN</th>         <td>    0.4849</td> <td>    0.013</td> <td>   38.023</td> <td> 0.000</td> <td>    0.460</td> <td>    0.510</td>\n",
       "</tr>\n",
       "<tr>\n",
       "  <th>QBR_SACK</th>    <td>    0.5893</td> <td>    0.058</td> <td>   10.122</td> <td> 0.000</td> <td>    0.475</td> <td>    0.703</td>\n",
       "</tr>\n",
       "<tr>\n",
       "  <th>PEN</th>         <td>    0.5549</td> <td>    0.053</td> <td>   10.395</td> <td> 0.000</td> <td>    0.450</td> <td>    0.660</td>\n",
       "</tr>\n",
       "<tr>\n",
       "  <th>OVERALL</th>     <td>   -0.4117</td> <td>    0.079</td> <td>   -5.184</td> <td> 0.000</td> <td>   -0.567</td> <td>   -0.256</td>\n",
       "</tr>\n",
       "<tr>\n",
       "  <th>OFFENSE</th>     <td>    0.4914</td> <td>    0.049</td> <td>   10.035</td> <td> 0.000</td> <td>    0.395</td> <td>    0.587</td>\n",
       "</tr>\n",
       "<tr>\n",
       "  <th>DEFENSE</th>     <td>    0.2833</td> <td>    0.048</td> <td>    5.903</td> <td> 0.000</td> <td>    0.189</td> <td>    0.377</td>\n",
       "</tr>\n",
       "<tr>\n",
       "  <th>SPECIAL</th>     <td>    0.0881</td> <td>    0.017</td> <td>    5.059</td> <td> 0.000</td> <td>    0.054</td> <td>    0.122</td>\n",
       "</tr>\n",
       "<tr>\n",
       "  <th>CMP</th>         <td>   -0.2067</td> <td>    0.018</td> <td>  -11.218</td> <td> 0.000</td> <td>   -0.243</td> <td>   -0.171</td>\n",
       "</tr>\n",
       "<tr>\n",
       "  <th>PATT</th>        <td>    0.2169</td> <td>    0.012</td> <td>   18.627</td> <td> 0.000</td> <td>    0.194</td> <td>    0.240</td>\n",
       "</tr>\n",
       "<tr>\n",
       "  <th>CMP%</th>        <td>    0.7209</td> <td>    0.059</td> <td>   12.312</td> <td> 0.000</td> <td>    0.606</td> <td>    0.836</td>\n",
       "</tr>\n",
       "<tr>\n",
       "  <th>PYDS</th>        <td>   -0.0107</td> <td>    0.001</td> <td>  -10.053</td> <td> 0.000</td> <td>   -0.013</td> <td>   -0.009</td>\n",
       "</tr>\n",
       "<tr>\n",
       "  <th>PAVG</th>        <td>    3.3046</td> <td>    0.302</td> <td>   10.944</td> <td> 0.000</td> <td>    2.712</td> <td>    3.897</td>\n",
       "</tr>\n",
       "<tr>\n",
       "  <th>PLNG</th>        <td>   -0.0015</td> <td>    0.009</td> <td>   -0.169</td> <td> 0.866</td> <td>   -0.019</td> <td>    0.016</td>\n",
       "</tr>\n",
       "<tr>\n",
       "  <th>PTD</th>         <td>   -0.0794</td> <td>    0.028</td> <td>   -2.810</td> <td> 0.005</td> <td>   -0.135</td> <td>   -0.024</td>\n",
       "</tr>\n",
       "<tr>\n",
       "  <th>INT</th>         <td>    0.0146</td> <td>    0.038</td> <td>    0.384</td> <td> 0.701</td> <td>   -0.060</td> <td>    0.089</td>\n",
       "</tr>\n",
       "<tr>\n",
       "  <th>TOTAL_SACKS</th> <td>    0.0814</td> <td>    0.037</td> <td>    2.173</td> <td> 0.030</td> <td>    0.008</td> <td>    0.155</td>\n",
       "</tr>\n",
       "<tr>\n",
       "  <th>ACC</th>         <td>  -14.2186</td> <td>    4.557</td> <td>   -3.120</td> <td> 0.002</td> <td>  -23.157</td> <td>   -5.280</td>\n",
       "</tr>\n",
       "<tr>\n",
       "  <th>American</th>    <td>  -19.6102</td> <td>    4.534</td> <td>   -4.325</td> <td> 0.000</td> <td>  -28.502</td> <td>  -10.718</td>\n",
       "</tr>\n",
       "<tr>\n",
       "  <th>BIG10</th>       <td>  -14.8229</td> <td>    4.559</td> <td>   -3.252</td> <td> 0.001</td> <td>  -23.764</td> <td>   -5.882</td>\n",
       "</tr>\n",
       "<tr>\n",
       "  <th>BIG12</th>       <td>  -15.7418</td> <td>    4.553</td> <td>   -3.458</td> <td> 0.001</td> <td>  -24.671</td> <td>   -6.812</td>\n",
       "</tr>\n",
       "<tr>\n",
       "  <th>C-USA</th>       <td>  -21.6144</td> <td>    4.534</td> <td>   -4.767</td> <td> 0.000</td> <td>  -30.507</td> <td>  -12.722</td>\n",
       "</tr>\n",
       "<tr>\n",
       "  <th>INDEP</th>       <td>  -19.9348</td> <td>    4.571</td> <td>   -4.361</td> <td> 0.000</td> <td>  -28.900</td> <td>  -10.970</td>\n",
       "</tr>\n",
       "<tr>\n",
       "  <th>MAC</th>         <td>  -21.5184</td> <td>    4.522</td> <td>   -4.758</td> <td> 0.000</td> <td>  -30.388</td> <td>  -12.649</td>\n",
       "</tr>\n",
       "<tr>\n",
       "  <th>MTN-WEST</th>    <td>  -20.7094</td> <td>    4.525</td> <td>   -4.577</td> <td> 0.000</td> <td>  -29.584</td> <td>  -11.834</td>\n",
       "</tr>\n",
       "<tr>\n",
       "  <th>PAC-12</th>      <td>  -14.0803</td> <td>    4.562</td> <td>   -3.086</td> <td> 0.002</td> <td>  -23.029</td> <td>   -5.132</td>\n",
       "</tr>\n",
       "<tr>\n",
       "  <th>SEC</th>         <td>  -12.8156</td> <td>    4.567</td> <td>   -2.806</td> <td> 0.005</td> <td>  -21.773</td> <td>   -3.858</td>\n",
       "</tr>\n",
       "<tr>\n",
       "  <th>SUN-BELT</th>    <td>  -22.3458</td> <td>    4.567</td> <td>   -4.893</td> <td> 0.000</td> <td>  -31.304</td> <td>  -13.388</td>\n",
       "</tr>\n",
       "</table>\n",
       "<table class=\"simpletable\">\n",
       "<tr>\n",
       "  <th>Omnibus:</th>       <td>25.172</td> <th>  Durbin-Watson:     </th> <td>   1.550</td>\n",
       "</tr>\n",
       "<tr>\n",
       "  <th>Prob(Omnibus):</th> <td> 0.000</td> <th>  Jarque-Bera (JB):  </th> <td>  41.670</td>\n",
       "</tr>\n",
       "<tr>\n",
       "  <th>Skew:</th>          <td>-0.084</td> <th>  Prob(JB):          </th> <td>8.94e-10</td>\n",
       "</tr>\n",
       "<tr>\n",
       "  <th>Kurtosis:</th>      <td> 3.727</td> <th>  Cond. No.          </th> <td>2.35e+15</td>\n",
       "</tr>\n",
       "</table><br/><br/>Warnings:<br/>[1] Standard Errors assume that the covariance matrix of the errors is correctly specified.<br/>[2] The smallest eigenvalue is 3.55e-21. This might indicate that there are<br/>strong multicollinearity problems or that the design matrix is singular."
      ],
      "text/plain": [
       "<class 'statsmodels.iolib.summary.Summary'>\n",
       "\"\"\"\n",
       "                            OLS Regression Results                            \n",
       "==============================================================================\n",
       "Dep. Variable:                    QBR   R-squared:                       0.936\n",
       "Model:                            OLS   Adj. R-squared:                  0.935\n",
       "Method:                 Least Squares   F-statistic:                     887.8\n",
       "Date:                Fri, 01 Jan 2021   Prob (F-statistic):               0.00\n",
       "Time:                        15:39:32   Log-Likelihood:                -5142.1\n",
       "No. Observations:                1795   AIC:                         1.034e+04\n",
       "Df Residuals:                    1765   BIC:                         1.051e+04\n",
       "Df Model:                          29                                         \n",
       "Covariance Type:            nonrobust                                         \n",
       "===============================================================================\n",
       "                  coef    std err          t      P>|t|      [0.025      0.975]\n",
       "-------------------------------------------------------------------------------\n",
       "const        -197.4122     49.896     -3.957      0.000    -295.273     -99.552\n",
       "YEAR            0.0896      0.027      3.320      0.001       0.037       0.143\n",
       "PLAYS          -0.0345      0.003    -11.517      0.000      -0.040      -0.029\n",
       "PASS            0.4626      0.017     27.669      0.000       0.430       0.495\n",
       "RUN             0.4849      0.013     38.023      0.000       0.460       0.510\n",
       "QBR_SACK        0.5893      0.058     10.122      0.000       0.475       0.703\n",
       "PEN             0.5549      0.053     10.395      0.000       0.450       0.660\n",
       "OVERALL        -0.4117      0.079     -5.184      0.000      -0.567      -0.256\n",
       "OFFENSE         0.4914      0.049     10.035      0.000       0.395       0.587\n",
       "DEFENSE         0.2833      0.048      5.903      0.000       0.189       0.377\n",
       "SPECIAL         0.0881      0.017      5.059      0.000       0.054       0.122\n",
       "CMP            -0.2067      0.018    -11.218      0.000      -0.243      -0.171\n",
       "PATT            0.2169      0.012     18.627      0.000       0.194       0.240\n",
       "CMP%            0.7209      0.059     12.312      0.000       0.606       0.836\n",
       "PYDS           -0.0107      0.001    -10.053      0.000      -0.013      -0.009\n",
       "PAVG            3.3046      0.302     10.944      0.000       2.712       3.897\n",
       "PLNG           -0.0015      0.009     -0.169      0.866      -0.019       0.016\n",
       "PTD            -0.0794      0.028     -2.810      0.005      -0.135      -0.024\n",
       "INT             0.0146      0.038      0.384      0.701      -0.060       0.089\n",
       "TOTAL_SACKS     0.0814      0.037      2.173      0.030       0.008       0.155\n",
       "ACC           -14.2186      4.557     -3.120      0.002     -23.157      -5.280\n",
       "American      -19.6102      4.534     -4.325      0.000     -28.502     -10.718\n",
       "BIG10         -14.8229      4.559     -3.252      0.001     -23.764      -5.882\n",
       "BIG12         -15.7418      4.553     -3.458      0.001     -24.671      -6.812\n",
       "C-USA         -21.6144      4.534     -4.767      0.000     -30.507     -12.722\n",
       "INDEP         -19.9348      4.571     -4.361      0.000     -28.900     -10.970\n",
       "MAC           -21.5184      4.522     -4.758      0.000     -30.388     -12.649\n",
       "MTN-WEST      -20.7094      4.525     -4.577      0.000     -29.584     -11.834\n",
       "PAC-12        -14.0803      4.562     -3.086      0.002     -23.029      -5.132\n",
       "SEC           -12.8156      4.567     -2.806      0.005     -21.773      -3.858\n",
       "SUN-BELT      -22.3458      4.567     -4.893      0.000     -31.304     -13.388\n",
       "==============================================================================\n",
       "Omnibus:                       25.172   Durbin-Watson:                   1.550\n",
       "Prob(Omnibus):                  0.000   Jarque-Bera (JB):               41.670\n",
       "Skew:                          -0.084   Prob(JB):                     8.94e-10\n",
       "Kurtosis:                       3.727   Cond. No.                     2.35e+15\n",
       "==============================================================================\n",
       "\n",
       "Warnings:\n",
       "[1] Standard Errors assume that the covariance matrix of the errors is correctly specified.\n",
       "[2] The smallest eigenvalue is 3.55e-21. This might indicate that there are\n",
       "strong multicollinearity problems or that the design matrix is singular.\n",
       "\"\"\""
      ]
     },
     "execution_count": 12,
     "metadata": {},
     "output_type": "execute_result"
    }
   ],
   "source": [
    "predictors = df.drop(['QBR'], axis= 1)\n",
    "predictors_int = sm.add_constant(predictors)\n",
    "model = sm.OLS(df['QBR'],predictors_int).fit()\n",
    "model.summary()"
   ]
  },
  {
   "cell_type": "code",
   "execution_count": 19,
   "metadata": {
    "ExecuteTime": {
     "end_time": "2021-01-01T20:18:57.390738Z",
     "start_time": "2021-01-01T20:18:57.345694Z"
    }
   },
   "outputs": [
    {
     "data": {
      "text/html": [
       "<div>\n",
       "<style scoped>\n",
       "    .dataframe tbody tr th:only-of-type {\n",
       "        vertical-align: middle;\n",
       "    }\n",
       "\n",
       "    .dataframe tbody tr th {\n",
       "        vertical-align: top;\n",
       "    }\n",
       "\n",
       "    .dataframe thead th {\n",
       "        text-align: right;\n",
       "    }\n",
       "</style>\n",
       "<table border=\"1\" class=\"dataframe\">\n",
       "  <thead>\n",
       "    <tr style=\"text-align: right;\">\n",
       "      <th></th>\n",
       "      <th>Model</th>\n",
       "      <th>R-sq</th>\n",
       "      <th>RMSE</th>\n",
       "      <th>MAE</th>\n",
       "    </tr>\n",
       "  </thead>\n",
       "  <tbody>\n",
       "    <tr>\n",
       "      <td>0</td>\n",
       "      <td>Linear Regression</td>\n",
       "      <td>0.938907</td>\n",
       "      <td>4.26609</td>\n",
       "      <td>3.25493</td>\n",
       "    </tr>\n",
       "  </tbody>\n",
       "</table>\n",
       "</div>"
      ],
      "text/plain": [
       "               Model      R-sq     RMSE      MAE\n",
       "0  Linear Regression  0.938907  4.26609  3.25493"
      ]
     },
     "execution_count": 19,
     "metadata": {},
     "output_type": "execute_result"
    }
   ],
   "source": [
    "y = df['QBR']\n",
    "X = predictors\n",
    "\n",
    "X_train, X_test, y_train, y_test = train_test_split(X, y, random_state=123)\n",
    "\n",
    "linreg = LinearRegression()\n",
    "linreg.fit(X_train, y_train)\n",
    "\n",
    "y_hat_train = linreg.predict(X_train)\n",
    "y_hat_test = linreg.predict(X_test)\n",
    "\n",
    "mse_train = mse(y_train,y_hat_train)\n",
    "mse_test = mse(y_test, y_hat_test)\n",
    "\n",
    "\n",
    "linR2 = r2_score(y_test,y_hat_test)\n",
    "linRMSE =  np.sqrt(mse_test)\n",
    "linMAE =  mae(y_test, y_hat_test)\n",
    "\n",
    "lin = pd.DataFrame(['Linear Regression', linR2, linRMSE, linMAE])\n",
    "lin = pd.DataFrame.transpose(lin)\n",
    "lin.columns = ['Model', 'R-sq', 'RMSE', 'MAE']\n",
    "lin"
   ]
  },
  {
   "cell_type": "markdown",
   "metadata": {},
   "source": [
    "Initial model performed well will good fit of data and low error "
   ]
  },
  {
   "cell_type": "markdown",
   "metadata": {
    "ExecuteTime": {
     "end_time": "2020-10-19T06:50:51.533549Z",
     "start_time": "2020-10-19T06:50:51.524731Z"
    }
   },
   "source": [
    "## Remove outliers"
   ]
  },
  {
   "cell_type": "code",
   "execution_count": 134,
   "metadata": {
    "ExecuteTime": {
     "end_time": "2020-10-19T07:53:23.211842Z",
     "start_time": "2020-10-19T07:53:23.192853Z"
    }
   },
   "outputs": [],
   "source": [
    "df2_col = df2.columns[:20]"
   ]
  },
  {
   "cell_type": "code",
   "execution_count": 143,
   "metadata": {
    "ExecuteTime": {
     "end_time": "2020-10-19T07:57:05.671567Z",
     "start_time": "2020-10-19T07:57:05.623152Z"
    }
   },
   "outputs": [],
   "source": [
    "for i in df2_col:\n",
    "    df2 = df2.loc[np.abs(stats.zscore(df2[i])) < 3]"
   ]
  },
  {
   "cell_type": "code",
   "execution_count": 145,
   "metadata": {
    "ExecuteTime": {
     "end_time": "2020-10-19T07:57:54.600076Z",
     "start_time": "2020-10-19T07:57:54.535177Z"
    }
   },
   "outputs": [
    {
     "data": {
      "text/html": [
       "<table class=\"simpletable\">\n",
       "<caption>OLS Regression Results</caption>\n",
       "<tr>\n",
       "  <th>Dep. Variable:</th>           <td>QBR</td>       <th>  R-squared:         </th> <td>   0.937</td>\n",
       "</tr>\n",
       "<tr>\n",
       "  <th>Model:</th>                   <td>OLS</td>       <th>  Adj. R-squared:    </th> <td>   0.936</td>\n",
       "</tr>\n",
       "<tr>\n",
       "  <th>Method:</th>             <td>Least Squares</td>  <th>  F-statistic:       </th> <td>   843.2</td>\n",
       "</tr>\n",
       "<tr>\n",
       "  <th>Date:</th>             <td>Mon, 19 Oct 2020</td> <th>  Prob (F-statistic):</th>  <td>  0.00</td> \n",
       "</tr>\n",
       "<tr>\n",
       "  <th>Time:</th>                 <td>03:57:54</td>     <th>  Log-Likelihood:    </th> <td> -4728.7</td>\n",
       "</tr>\n",
       "<tr>\n",
       "  <th>No. Observations:</th>      <td>  1677</td>      <th>  AIC:               </th> <td>   9517.</td>\n",
       "</tr>\n",
       "<tr>\n",
       "  <th>Df Residuals:</th>          <td>  1647</td>      <th>  BIC:               </th> <td>   9680.</td>\n",
       "</tr>\n",
       "<tr>\n",
       "  <th>Df Model:</th>              <td>    29</td>      <th>                     </th>     <td> </td>   \n",
       "</tr>\n",
       "<tr>\n",
       "  <th>Covariance Type:</th>      <td>nonrobust</td>    <th>                     </th>     <td> </td>   \n",
       "</tr>\n",
       "</table>\n",
       "<table class=\"simpletable\">\n",
       "<tr>\n",
       "       <td></td>          <th>coef</th>     <th>std err</th>      <th>t</th>      <th>P>|t|</th>  <th>[0.025</th>    <th>0.975]</th>  \n",
       "</tr>\n",
       "<tr>\n",
       "  <th>const</th>       <td> -176.3855</td> <td>   49.278</td> <td>   -3.579</td> <td> 0.000</td> <td> -273.040</td> <td>  -79.731</td>\n",
       "</tr>\n",
       "<tr>\n",
       "  <th>YEAR</th>        <td>    0.0797</td> <td>    0.027</td> <td>    2.994</td> <td> 0.003</td> <td>    0.027</td> <td>    0.132</td>\n",
       "</tr>\n",
       "<tr>\n",
       "  <th>PLAYS</th>       <td>   -0.0343</td> <td>    0.003</td> <td>  -11.299</td> <td> 0.000</td> <td>   -0.040</td> <td>   -0.028</td>\n",
       "</tr>\n",
       "<tr>\n",
       "  <th>PASS</th>        <td>    0.4724</td> <td>    0.017</td> <td>   28.142</td> <td> 0.000</td> <td>    0.439</td> <td>    0.505</td>\n",
       "</tr>\n",
       "<tr>\n",
       "  <th>RUN</th>         <td>    0.5383</td> <td>    0.014</td> <td>   37.466</td> <td> 0.000</td> <td>    0.510</td> <td>    0.566</td>\n",
       "</tr>\n",
       "<tr>\n",
       "  <th>QBR_SACK</th>    <td>    0.6342</td> <td>    0.058</td> <td>   10.901</td> <td> 0.000</td> <td>    0.520</td> <td>    0.748</td>\n",
       "</tr>\n",
       "<tr>\n",
       "  <th>PEN</th>         <td>    0.5430</td> <td>    0.055</td> <td>    9.862</td> <td> 0.000</td> <td>    0.435</td> <td>    0.651</td>\n",
       "</tr>\n",
       "<tr>\n",
       "  <th>OVERALL</th>     <td>   -0.1746</td> <td>    0.086</td> <td>   -2.041</td> <td> 0.041</td> <td>   -0.342</td> <td>   -0.007</td>\n",
       "</tr>\n",
       "<tr>\n",
       "  <th>OFFENSE</th>     <td>    0.3399</td> <td>    0.052</td> <td>    6.475</td> <td> 0.000</td> <td>    0.237</td> <td>    0.443</td>\n",
       "</tr>\n",
       "<tr>\n",
       "  <th>DEFENSE</th>     <td>    0.1345</td> <td>    0.052</td> <td>    2.586</td> <td> 0.010</td> <td>    0.032</td> <td>    0.236</td>\n",
       "</tr>\n",
       "<tr>\n",
       "  <th>SPECIAL</th>     <td>    0.0418</td> <td>    0.019</td> <td>    2.251</td> <td> 0.024</td> <td>    0.005</td> <td>    0.078</td>\n",
       "</tr>\n",
       "<tr>\n",
       "  <th>CMP</th>         <td>   -0.1955</td> <td>    0.022</td> <td>   -8.937</td> <td> 0.000</td> <td>   -0.238</td> <td>   -0.153</td>\n",
       "</tr>\n",
       "<tr>\n",
       "  <th>PATT</th>        <td>    0.2200</td> <td>    0.013</td> <td>   16.821</td> <td> 0.000</td> <td>    0.194</td> <td>    0.246</td>\n",
       "</tr>\n",
       "<tr>\n",
       "  <th>CMP%</th>        <td>    0.6884</td> <td>    0.069</td> <td>   10.003</td> <td> 0.000</td> <td>    0.553</td> <td>    0.823</td>\n",
       "</tr>\n",
       "<tr>\n",
       "  <th>PYDS</th>        <td>   -0.0120</td> <td>    0.001</td> <td>   -9.923</td> <td> 0.000</td> <td>   -0.014</td> <td>   -0.010</td>\n",
       "</tr>\n",
       "<tr>\n",
       "  <th>PAVG</th>        <td>    3.8808</td> <td>    0.360</td> <td>   10.777</td> <td> 0.000</td> <td>    3.175</td> <td>    4.587</td>\n",
       "</tr>\n",
       "<tr>\n",
       "  <th>PLNG</th>        <td>   -0.0018</td> <td>    0.009</td> <td>   -0.200</td> <td> 0.841</td> <td>   -0.019</td> <td>    0.015</td>\n",
       "</tr>\n",
       "<tr>\n",
       "  <th>PTD</th>         <td>   -0.0766</td> <td>    0.029</td> <td>   -2.682</td> <td> 0.007</td> <td>   -0.133</td> <td>   -0.021</td>\n",
       "</tr>\n",
       "<tr>\n",
       "  <th>INT</th>         <td>    0.0150</td> <td>    0.038</td> <td>    0.394</td> <td> 0.693</td> <td>   -0.059</td> <td>    0.089</td>\n",
       "</tr>\n",
       "<tr>\n",
       "  <th>TOTAL_SACKS</th> <td>    0.0858</td> <td>    0.038</td> <td>    2.287</td> <td> 0.022</td> <td>    0.012</td> <td>    0.159</td>\n",
       "</tr>\n",
       "<tr>\n",
       "  <th>ACC</th>         <td>  -12.3124</td> <td>    4.500</td> <td>   -2.736</td> <td> 0.006</td> <td>  -21.138</td> <td>   -3.487</td>\n",
       "</tr>\n",
       "<tr>\n",
       "  <th>American</th>    <td>  -17.8060</td> <td>    4.481</td> <td>   -3.974</td> <td> 0.000</td> <td>  -26.595</td> <td>   -9.017</td>\n",
       "</tr>\n",
       "<tr>\n",
       "  <th>BIG10</th>       <td>  -12.9348</td> <td>    4.501</td> <td>   -2.874</td> <td> 0.004</td> <td>  -21.763</td> <td>   -4.107</td>\n",
       "</tr>\n",
       "<tr>\n",
       "  <th>BIG12</th>       <td>  -13.6542</td> <td>    4.500</td> <td>   -3.034</td> <td> 0.002</td> <td>  -22.480</td> <td>   -4.828</td>\n",
       "</tr>\n",
       "<tr>\n",
       "  <th>C-USA</th>       <td>  -19.7506</td> <td>    4.476</td> <td>   -4.412</td> <td> 0.000</td> <td>  -28.530</td> <td>  -10.971</td>\n",
       "</tr>\n",
       "<tr>\n",
       "  <th>INDEP</th>       <td>  -18.2043</td> <td>    4.515</td> <td>   -4.032</td> <td> 0.000</td> <td>  -27.060</td> <td>   -9.349</td>\n",
       "</tr>\n",
       "<tr>\n",
       "  <th>MAC</th>         <td>  -19.5517</td> <td>    4.467</td> <td>   -4.377</td> <td> 0.000</td> <td>  -28.313</td> <td>  -10.790</td>\n",
       "</tr>\n",
       "<tr>\n",
       "  <th>MTN-WEST</th>    <td>  -18.8366</td> <td>    4.473</td> <td>   -4.211</td> <td> 0.000</td> <td>  -27.610</td> <td>  -10.064</td>\n",
       "</tr>\n",
       "<tr>\n",
       "  <th>PAC-12</th>      <td>  -12.0609</td> <td>    4.502</td> <td>   -2.679</td> <td> 0.007</td> <td>  -20.891</td> <td>   -3.231</td>\n",
       "</tr>\n",
       "<tr>\n",
       "  <th>SEC</th>         <td>  -10.5846</td> <td>    4.510</td> <td>   -2.347</td> <td> 0.019</td> <td>  -19.431</td> <td>   -1.738</td>\n",
       "</tr>\n",
       "<tr>\n",
       "  <th>SUN-BELT</th>    <td>  -20.6894</td> <td>    4.508</td> <td>   -4.589</td> <td> 0.000</td> <td>  -29.532</td> <td>  -11.847</td>\n",
       "</tr>\n",
       "</table>\n",
       "<table class=\"simpletable\">\n",
       "<tr>\n",
       "  <th>Omnibus:</th>       <td> 8.812</td> <th>  Durbin-Watson:     </th> <td>   1.635</td>\n",
       "</tr>\n",
       "<tr>\n",
       "  <th>Prob(Omnibus):</th> <td> 0.012</td> <th>  Jarque-Bera (JB):  </th> <td>  11.680</td>\n",
       "</tr>\n",
       "<tr>\n",
       "  <th>Skew:</th>          <td> 0.014</td> <th>  Prob(JB):          </th> <td> 0.00291</td>\n",
       "</tr>\n",
       "<tr>\n",
       "  <th>Kurtosis:</th>      <td> 3.408</td> <th>  Cond. No.          </th> <td>2.35e+15</td>\n",
       "</tr>\n",
       "</table><br/><br/>Warnings:<br/>[1] Standard Errors assume that the covariance matrix of the errors is correctly specified.<br/>[2] The smallest eigenvalue is 3.21e-21. This might indicate that there are<br/>strong multicollinearity problems or that the design matrix is singular."
      ],
      "text/plain": [
       "<class 'statsmodels.iolib.summary.Summary'>\n",
       "\"\"\"\n",
       "                            OLS Regression Results                            \n",
       "==============================================================================\n",
       "Dep. Variable:                    QBR   R-squared:                       0.937\n",
       "Model:                            OLS   Adj. R-squared:                  0.936\n",
       "Method:                 Least Squares   F-statistic:                     843.2\n",
       "Date:                Mon, 19 Oct 2020   Prob (F-statistic):               0.00\n",
       "Time:                        03:57:54   Log-Likelihood:                -4728.7\n",
       "No. Observations:                1677   AIC:                             9517.\n",
       "Df Residuals:                    1647   BIC:                             9680.\n",
       "Df Model:                          29                                         \n",
       "Covariance Type:            nonrobust                                         \n",
       "===============================================================================\n",
       "                  coef    std err          t      P>|t|      [0.025      0.975]\n",
       "-------------------------------------------------------------------------------\n",
       "const        -176.3855     49.278     -3.579      0.000    -273.040     -79.731\n",
       "YEAR            0.0797      0.027      2.994      0.003       0.027       0.132\n",
       "PLAYS          -0.0343      0.003    -11.299      0.000      -0.040      -0.028\n",
       "PASS            0.4724      0.017     28.142      0.000       0.439       0.505\n",
       "RUN             0.5383      0.014     37.466      0.000       0.510       0.566\n",
       "QBR_SACK        0.6342      0.058     10.901      0.000       0.520       0.748\n",
       "PEN             0.5430      0.055      9.862      0.000       0.435       0.651\n",
       "OVERALL        -0.1746      0.086     -2.041      0.041      -0.342      -0.007\n",
       "OFFENSE         0.3399      0.052      6.475      0.000       0.237       0.443\n",
       "DEFENSE         0.1345      0.052      2.586      0.010       0.032       0.236\n",
       "SPECIAL         0.0418      0.019      2.251      0.024       0.005       0.078\n",
       "CMP            -0.1955      0.022     -8.937      0.000      -0.238      -0.153\n",
       "PATT            0.2200      0.013     16.821      0.000       0.194       0.246\n",
       "CMP%            0.6884      0.069     10.003      0.000       0.553       0.823\n",
       "PYDS           -0.0120      0.001     -9.923      0.000      -0.014      -0.010\n",
       "PAVG            3.8808      0.360     10.777      0.000       3.175       4.587\n",
       "PLNG           -0.0018      0.009     -0.200      0.841      -0.019       0.015\n",
       "PTD            -0.0766      0.029     -2.682      0.007      -0.133      -0.021\n",
       "INT             0.0150      0.038      0.394      0.693      -0.059       0.089\n",
       "TOTAL_SACKS     0.0858      0.038      2.287      0.022       0.012       0.159\n",
       "ACC           -12.3124      4.500     -2.736      0.006     -21.138      -3.487\n",
       "American      -17.8060      4.481     -3.974      0.000     -26.595      -9.017\n",
       "BIG10         -12.9348      4.501     -2.874      0.004     -21.763      -4.107\n",
       "BIG12         -13.6542      4.500     -3.034      0.002     -22.480      -4.828\n",
       "C-USA         -19.7506      4.476     -4.412      0.000     -28.530     -10.971\n",
       "INDEP         -18.2043      4.515     -4.032      0.000     -27.060      -9.349\n",
       "MAC           -19.5517      4.467     -4.377      0.000     -28.313     -10.790\n",
       "MTN-WEST      -18.8366      4.473     -4.211      0.000     -27.610     -10.064\n",
       "PAC-12        -12.0609      4.502     -2.679      0.007     -20.891      -3.231\n",
       "SEC           -10.5846      4.510     -2.347      0.019     -19.431      -1.738\n",
       "SUN-BELT      -20.6894      4.508     -4.589      0.000     -29.532     -11.847\n",
       "==============================================================================\n",
       "Omnibus:                        8.812   Durbin-Watson:                   1.635\n",
       "Prob(Omnibus):                  0.012   Jarque-Bera (JB):               11.680\n",
       "Skew:                           0.014   Prob(JB):                      0.00291\n",
       "Kurtosis:                       3.408   Cond. No.                     2.35e+15\n",
       "==============================================================================\n",
       "\n",
       "Warnings:\n",
       "[1] Standard Errors assume that the covariance matrix of the errors is correctly specified.\n",
       "[2] The smallest eigenvalue is 3.21e-21. This might indicate that there are\n",
       "strong multicollinearity problems or that the design matrix is singular.\n",
       "\"\"\""
      ]
     },
     "execution_count": 145,
     "metadata": {},
     "output_type": "execute_result"
    }
   ],
   "source": [
    "predictors = df2.drop(['QBR'], axis= 1)\n",
    "predictors_int = sm.add_constant(predictors)\n",
    "model = sm.OLS(df2['QBR'],predictors_int).fit()\n",
    "model.summary()"
   ]
  },
  {
   "cell_type": "markdown",
   "metadata": {
    "ExecuteTime": {
     "end_time": "2020-10-19T20:47:55.124003Z",
     "start_time": "2020-10-19T20:47:55.107942Z"
    }
   },
   "source": [
    "As the final model the outlier were removed. This had little change in the data, but now we can assume all data present is relevant"
   ]
  },
  {
   "cell_type": "markdown",
   "metadata": {},
   "source": [
    "## Dropping non-significant figures"
   ]
  },
  {
   "cell_type": "code",
   "execution_count": 146,
   "metadata": {
    "ExecuteTime": {
     "end_time": "2020-10-19T08:00:05.613267Z",
     "start_time": "2020-10-19T08:00:05.602280Z"
    }
   },
   "outputs": [],
   "source": [
    "df2.drop(['PLNG', 'INT'], axis=1, inplace=True)"
   ]
  },
  {
   "cell_type": "code",
   "execution_count": 147,
   "metadata": {
    "ExecuteTime": {
     "end_time": "2020-10-19T08:00:16.773318Z",
     "start_time": "2020-10-19T08:00:16.707011Z"
    }
   },
   "outputs": [
    {
     "data": {
      "text/html": [
       "<table class=\"simpletable\">\n",
       "<caption>OLS Regression Results</caption>\n",
       "<tr>\n",
       "  <th>Dep. Variable:</th>           <td>QBR</td>       <th>  R-squared:         </th> <td>   0.937</td>\n",
       "</tr>\n",
       "<tr>\n",
       "  <th>Model:</th>                   <td>OLS</td>       <th>  Adj. R-squared:    </th> <td>   0.936</td>\n",
       "</tr>\n",
       "<tr>\n",
       "  <th>Method:</th>             <td>Least Squares</td>  <th>  F-statistic:       </th> <td>   906.7</td>\n",
       "</tr>\n",
       "<tr>\n",
       "  <th>Date:</th>             <td>Mon, 19 Oct 2020</td> <th>  Prob (F-statistic):</th>  <td>  0.00</td> \n",
       "</tr>\n",
       "<tr>\n",
       "  <th>Time:</th>                 <td>04:00:16</td>     <th>  Log-Likelihood:    </th> <td> -4728.8</td>\n",
       "</tr>\n",
       "<tr>\n",
       "  <th>No. Observations:</th>      <td>  1677</td>      <th>  AIC:               </th> <td>   9514.</td>\n",
       "</tr>\n",
       "<tr>\n",
       "  <th>Df Residuals:</th>          <td>  1649</td>      <th>  BIC:               </th> <td>   9666.</td>\n",
       "</tr>\n",
       "<tr>\n",
       "  <th>Df Model:</th>              <td>    27</td>      <th>                     </th>     <td> </td>   \n",
       "</tr>\n",
       "<tr>\n",
       "  <th>Covariance Type:</th>      <td>nonrobust</td>    <th>                     </th>     <td> </td>   \n",
       "</tr>\n",
       "</table>\n",
       "<table class=\"simpletable\">\n",
       "<tr>\n",
       "       <td></td>          <th>coef</th>     <th>std err</th>      <th>t</th>      <th>P>|t|</th>  <th>[0.025</th>    <th>0.975]</th>  \n",
       "</tr>\n",
       "<tr>\n",
       "  <th>const</th>       <td> -171.7352</td> <td>   48.076</td> <td>   -3.572</td> <td> 0.000</td> <td> -266.031</td> <td>  -77.439</td>\n",
       "</tr>\n",
       "<tr>\n",
       "  <th>YEAR</th>        <td>    0.0772</td> <td>    0.026</td> <td>    2.972</td> <td> 0.003</td> <td>    0.026</td> <td>    0.128</td>\n",
       "</tr>\n",
       "<tr>\n",
       "  <th>PLAYS</th>       <td>   -0.0342</td> <td>    0.003</td> <td>  -11.319</td> <td> 0.000</td> <td>   -0.040</td> <td>   -0.028</td>\n",
       "</tr>\n",
       "<tr>\n",
       "  <th>PASS</th>        <td>    0.4704</td> <td>    0.015</td> <td>   30.553</td> <td> 0.000</td> <td>    0.440</td> <td>    0.501</td>\n",
       "</tr>\n",
       "<tr>\n",
       "  <th>RUN</th>         <td>    0.5379</td> <td>    0.014</td> <td>   37.564</td> <td> 0.000</td> <td>    0.510</td> <td>    0.566</td>\n",
       "</tr>\n",
       "<tr>\n",
       "  <th>QBR_SACK</th>    <td>    0.6338</td> <td>    0.058</td> <td>   10.907</td> <td> 0.000</td> <td>    0.520</td> <td>    0.748</td>\n",
       "</tr>\n",
       "<tr>\n",
       "  <th>PEN</th>         <td>    0.5445</td> <td>    0.055</td> <td>    9.909</td> <td> 0.000</td> <td>    0.437</td> <td>    0.652</td>\n",
       "</tr>\n",
       "<tr>\n",
       "  <th>OVERALL</th>     <td>   -0.1737</td> <td>    0.085</td> <td>   -2.033</td> <td> 0.042</td> <td>   -0.341</td> <td>   -0.006</td>\n",
       "</tr>\n",
       "<tr>\n",
       "  <th>OFFENSE</th>     <td>    0.3391</td> <td>    0.052</td> <td>    6.468</td> <td> 0.000</td> <td>    0.236</td> <td>    0.442</td>\n",
       "</tr>\n",
       "<tr>\n",
       "  <th>DEFENSE</th>     <td>    0.1339</td> <td>    0.052</td> <td>    2.577</td> <td> 0.010</td> <td>    0.032</td> <td>    0.236</td>\n",
       "</tr>\n",
       "<tr>\n",
       "  <th>SPECIAL</th>     <td>    0.0415</td> <td>    0.019</td> <td>    2.239</td> <td> 0.025</td> <td>    0.005</td> <td>    0.078</td>\n",
       "</tr>\n",
       "<tr>\n",
       "  <th>CMP</th>         <td>   -0.1953</td> <td>    0.022</td> <td>   -8.942</td> <td> 0.000</td> <td>   -0.238</td> <td>   -0.152</td>\n",
       "</tr>\n",
       "<tr>\n",
       "  <th>PATT</th>        <td>    0.2200</td> <td>    0.013</td> <td>   16.827</td> <td> 0.000</td> <td>    0.194</td> <td>    0.246</td>\n",
       "</tr>\n",
       "<tr>\n",
       "  <th>CMP%</th>        <td>    0.6891</td> <td>    0.069</td> <td>   10.026</td> <td> 0.000</td> <td>    0.554</td> <td>    0.824</td>\n",
       "</tr>\n",
       "<tr>\n",
       "  <th>PYDS</th>        <td>   -0.0120</td> <td>    0.001</td> <td>   -9.959</td> <td> 0.000</td> <td>   -0.014</td> <td>   -0.010</td>\n",
       "</tr>\n",
       "<tr>\n",
       "  <th>PAVG</th>        <td>    3.8731</td> <td>    0.354</td> <td>   10.940</td> <td> 0.000</td> <td>    3.179</td> <td>    4.568</td>\n",
       "</tr>\n",
       "<tr>\n",
       "  <th>PTD</th>         <td>   -0.0759</td> <td>    0.028</td> <td>   -2.681</td> <td> 0.007</td> <td>   -0.131</td> <td>   -0.020</td>\n",
       "</tr>\n",
       "<tr>\n",
       "  <th>TOTAL_SACKS</th> <td>    0.0853</td> <td>    0.037</td> <td>    2.277</td> <td> 0.023</td> <td>    0.012</td> <td>    0.159</td>\n",
       "</tr>\n",
       "<tr>\n",
       "  <th>ACC</th>         <td>  -11.8884</td> <td>    4.390</td> <td>   -2.708</td> <td> 0.007</td> <td>  -20.498</td> <td>   -3.279</td>\n",
       "</tr>\n",
       "<tr>\n",
       "  <th>American</th>    <td>  -17.3816</td> <td>    4.371</td> <td>   -3.977</td> <td> 0.000</td> <td>  -25.954</td> <td>   -8.809</td>\n",
       "</tr>\n",
       "<tr>\n",
       "  <th>BIG10</th>       <td>  -12.5017</td> <td>    4.387</td> <td>   -2.850</td> <td> 0.004</td> <td>  -21.106</td> <td>   -3.897</td>\n",
       "</tr>\n",
       "<tr>\n",
       "  <th>BIG12</th>       <td>  -13.2298</td> <td>    4.390</td> <td>   -3.014</td> <td> 0.003</td> <td>  -21.841</td> <td>   -4.619</td>\n",
       "</tr>\n",
       "<tr>\n",
       "  <th>C-USA</th>       <td>  -19.3371</td> <td>    4.371</td> <td>   -4.424</td> <td> 0.000</td> <td>  -27.910</td> <td>  -10.764</td>\n",
       "</tr>\n",
       "<tr>\n",
       "  <th>INDEP</th>       <td>  -17.7792</td> <td>    4.406</td> <td>   -4.035</td> <td> 0.000</td> <td>  -26.421</td> <td>   -9.137</td>\n",
       "</tr>\n",
       "<tr>\n",
       "  <th>MAC</th>         <td>  -19.1330</td> <td>    4.359</td> <td>   -4.389</td> <td> 0.000</td> <td>  -27.683</td> <td>  -10.583</td>\n",
       "</tr>\n",
       "<tr>\n",
       "  <th>MTN-WEST</th>    <td>  -18.4152</td> <td>    4.364</td> <td>   -4.220</td> <td> 0.000</td> <td>  -26.975</td> <td>   -9.855</td>\n",
       "</tr>\n",
       "<tr>\n",
       "  <th>PAC-12</th>      <td>  -11.6402</td> <td>    4.395</td> <td>   -2.649</td> <td> 0.008</td> <td>  -20.260</td> <td>   -3.020</td>\n",
       "</tr>\n",
       "<tr>\n",
       "  <th>SEC</th>         <td>  -10.1650</td> <td>    4.403</td> <td>   -2.309</td> <td> 0.021</td> <td>  -18.801</td> <td>   -1.529</td>\n",
       "</tr>\n",
       "<tr>\n",
       "  <th>SUN-BELT</th>    <td>  -20.2640</td> <td>    4.399</td> <td>   -4.607</td> <td> 0.000</td> <td>  -28.892</td> <td>  -11.636</td>\n",
       "</tr>\n",
       "</table>\n",
       "<table class=\"simpletable\">\n",
       "<tr>\n",
       "  <th>Omnibus:</th>       <td> 8.694</td> <th>  Durbin-Watson:     </th> <td>   1.636</td>\n",
       "</tr>\n",
       "<tr>\n",
       "  <th>Prob(Omnibus):</th> <td> 0.013</td> <th>  Jarque-Bera (JB):  </th> <td>  11.485</td>\n",
       "</tr>\n",
       "<tr>\n",
       "  <th>Skew:</th>          <td> 0.015</td> <th>  Prob(JB):          </th> <td> 0.00321</td>\n",
       "</tr>\n",
       "<tr>\n",
       "  <th>Kurtosis:</th>      <td> 3.404</td> <th>  Cond. No.          </th> <td>2.35e+15</td>\n",
       "</tr>\n",
       "</table><br/><br/>Warnings:<br/>[1] Standard Errors assume that the covariance matrix of the errors is correctly specified.<br/>[2] The smallest eigenvalue is 3.21e-21. This might indicate that there are<br/>strong multicollinearity problems or that the design matrix is singular."
      ],
      "text/plain": [
       "<class 'statsmodels.iolib.summary.Summary'>\n",
       "\"\"\"\n",
       "                            OLS Regression Results                            \n",
       "==============================================================================\n",
       "Dep. Variable:                    QBR   R-squared:                       0.937\n",
       "Model:                            OLS   Adj. R-squared:                  0.936\n",
       "Method:                 Least Squares   F-statistic:                     906.7\n",
       "Date:                Mon, 19 Oct 2020   Prob (F-statistic):               0.00\n",
       "Time:                        04:00:16   Log-Likelihood:                -4728.8\n",
       "No. Observations:                1677   AIC:                             9514.\n",
       "Df Residuals:                    1649   BIC:                             9666.\n",
       "Df Model:                          27                                         \n",
       "Covariance Type:            nonrobust                                         \n",
       "===============================================================================\n",
       "                  coef    std err          t      P>|t|      [0.025      0.975]\n",
       "-------------------------------------------------------------------------------\n",
       "const        -171.7352     48.076     -3.572      0.000    -266.031     -77.439\n",
       "YEAR            0.0772      0.026      2.972      0.003       0.026       0.128\n",
       "PLAYS          -0.0342      0.003    -11.319      0.000      -0.040      -0.028\n",
       "PASS            0.4704      0.015     30.553      0.000       0.440       0.501\n",
       "RUN             0.5379      0.014     37.564      0.000       0.510       0.566\n",
       "QBR_SACK        0.6338      0.058     10.907      0.000       0.520       0.748\n",
       "PEN             0.5445      0.055      9.909      0.000       0.437       0.652\n",
       "OVERALL        -0.1737      0.085     -2.033      0.042      -0.341      -0.006\n",
       "OFFENSE         0.3391      0.052      6.468      0.000       0.236       0.442\n",
       "DEFENSE         0.1339      0.052      2.577      0.010       0.032       0.236\n",
       "SPECIAL         0.0415      0.019      2.239      0.025       0.005       0.078\n",
       "CMP            -0.1953      0.022     -8.942      0.000      -0.238      -0.152\n",
       "PATT            0.2200      0.013     16.827      0.000       0.194       0.246\n",
       "CMP%            0.6891      0.069     10.026      0.000       0.554       0.824\n",
       "PYDS           -0.0120      0.001     -9.959      0.000      -0.014      -0.010\n",
       "PAVG            3.8731      0.354     10.940      0.000       3.179       4.568\n",
       "PTD            -0.0759      0.028     -2.681      0.007      -0.131      -0.020\n",
       "TOTAL_SACKS     0.0853      0.037      2.277      0.023       0.012       0.159\n",
       "ACC           -11.8884      4.390     -2.708      0.007     -20.498      -3.279\n",
       "American      -17.3816      4.371     -3.977      0.000     -25.954      -8.809\n",
       "BIG10         -12.5017      4.387     -2.850      0.004     -21.106      -3.897\n",
       "BIG12         -13.2298      4.390     -3.014      0.003     -21.841      -4.619\n",
       "C-USA         -19.3371      4.371     -4.424      0.000     -27.910     -10.764\n",
       "INDEP         -17.7792      4.406     -4.035      0.000     -26.421      -9.137\n",
       "MAC           -19.1330      4.359     -4.389      0.000     -27.683     -10.583\n",
       "MTN-WEST      -18.4152      4.364     -4.220      0.000     -26.975      -9.855\n",
       "PAC-12        -11.6402      4.395     -2.649      0.008     -20.260      -3.020\n",
       "SEC           -10.1650      4.403     -2.309      0.021     -18.801      -1.529\n",
       "SUN-BELT      -20.2640      4.399     -4.607      0.000     -28.892     -11.636\n",
       "==============================================================================\n",
       "Omnibus:                        8.694   Durbin-Watson:                   1.636\n",
       "Prob(Omnibus):                  0.013   Jarque-Bera (JB):               11.485\n",
       "Skew:                           0.015   Prob(JB):                      0.00321\n",
       "Kurtosis:                       3.404   Cond. No.                     2.35e+15\n",
       "==============================================================================\n",
       "\n",
       "Warnings:\n",
       "[1] Standard Errors assume that the covariance matrix of the errors is correctly specified.\n",
       "[2] The smallest eigenvalue is 3.21e-21. This might indicate that there are\n",
       "strong multicollinearity problems or that the design matrix is singular.\n",
       "\"\"\""
      ]
     },
     "execution_count": 147,
     "metadata": {},
     "output_type": "execute_result"
    }
   ],
   "source": [
    "predictors = df2.drop(['QBR'], axis= 1)\n",
    "predictors_int = sm.add_constant(predictors)\n",
    "model = sm.OLS(df2['QBR'],predictors_int).fit()\n",
    "model.summary()"
   ]
  },
  {
   "cell_type": "code",
   "execution_count": 148,
   "metadata": {
    "ExecuteTime": {
     "end_time": "2020-10-19T08:04:26.945287Z",
     "start_time": "2020-10-19T08:04:26.900349Z"
    }
   },
   "outputs": [
    {
     "name": "stdout",
     "output_type": "stream",
     "text": [
      "R-sq: 0.9364954233109246\n",
      "MAE: 3.125458741045584\n",
      "Test RMSE: 4.024091651404655\n",
      "Train RMSE: 4.083011047914904\n"
     ]
    }
   ],
   "source": [
    "y = df2['QBR']\n",
    "X = predictors\n",
    "\n",
    "X_train, X_test, y_train, y_test = train_test_split(X, y, random_state=123)\n",
    "\n",
    "linreg = LinearRegression()\n",
    "linreg.fit(X_train, y_train)\n",
    "\n",
    "y_hat_train = linreg.predict(X_train)\n",
    "y_hat_test = linreg.predict(X_test)\n",
    "\n",
    "mse_train = mse(y_train,y_hat_train)\n",
    "mse_test = mse(y_test, y_hat_test)\n",
    "\n",
    "\n",
    "print('R-sq:', r2_score(y_test,y_hat_test))\n",
    "print('MAE:', mae(y_test, y_hat_test))\n",
    "print('Test RMSE:', np.sqrt(mse_test))\n",
    "print('Train RMSE:', np.sqrt(mse_train))"
   ]
  },
  {
   "cell_type": "markdown",
   "metadata": {},
   "source": [
    "The finalized model only displayed two features with P-values greater than 0.05, which were then dropped. With only significant value left there was a small reduction of the fit of the model while giving a reduction in error. With low variance between out train and test RMSE it can be assumed that the data is well fitted.\n"
   ]
  },
  {
   "cell_type": "markdown",
   "metadata": {},
   "source": [
    "# Decision Tree"
   ]
  },
  {
   "cell_type": "code",
   "execution_count": 17,
   "metadata": {
    "ExecuteTime": {
     "end_time": "2020-10-18T09:05:31.319541Z",
     "start_time": "2020-10-18T09:05:31.144576Z"
    }
   },
   "outputs": [],
   "source": [
    "from sklearn.tree import DecisionTreeRegressor\n",
    "import matplotlib.pyplot as plt\n",
    "from sklearn import tree"
   ]
  },
  {
   "cell_type": "code",
   "execution_count": 18,
   "metadata": {
    "ExecuteTime": {
     "end_time": "2020-10-18T09:05:44.312803Z",
     "start_time": "2020-10-18T09:05:44.281168Z"
    }
   },
   "outputs": [],
   "source": [
    "X = df.drop(['QBR'], axis = 1)\n",
    "y = df['QBR']\n",
    "\n",
    "X_train, X_test, y_train, y_test = train_test_split(X, y, random_state=123)"
   ]
  },
  {
   "cell_type": "code",
   "execution_count": 19,
   "metadata": {
    "ExecuteTime": {
     "end_time": "2020-10-18T09:05:57.274089Z",
     "start_time": "2020-10-18T09:05:57.183804Z"
    }
   },
   "outputs": [],
   "source": [
    "regressor = DecisionTreeRegressor()\n",
    "\n",
    "regressor.fit(X_train, y_train)\n",
    "\n",
    "y_pred = regressor.predict(X_test)"
   ]
  },
  {
   "cell_type": "code",
   "execution_count": 16,
   "metadata": {
    "ExecuteTime": {
     "end_time": "2020-10-15T22:13:21.391806Z",
     "start_time": "2020-10-15T22:10:28.757623Z"
    }
   },
   "outputs": [
    {
     "data": {
      "image/png": "[encoded data removed]",
      "text/plain": [
       "<Figure size 1800x1440 with 1 Axes>"
      ]
     },
     "metadata": {
      "needs_background": "light"
     },
     "output_type": "display_data"
    }
   ],
   "source": [
    "fig = plt.figure(figsize=(25,20))\n",
    "tree.plot_tree(regressor, \n",
    "               feature_names=X.columns,\n",
    "               class_names=np.unique(y).astype('str'),\n",
    "               filled=True, rounded=True)\n",
    "plt.show()"
   ]
  },
  {
   "cell_type": "code",
   "execution_count": 17,
   "metadata": {
    "ExecuteTime": {
     "end_time": "2020-10-15T22:13:21.425421Z",
     "start_time": "2020-10-15T22:13:21.391806Z"
    }
   },
   "outputs": [],
   "source": [
    "def plot_feature_importance(importance,names,model_type, f,l):\n",
    "\n",
    "    #Create arrays from feature importance and feature names\n",
    "    feature_importance = np.array(importance)\n",
    "    feature_names = np.array(names)\n",
    "\n",
    "    #Create a DataFrame using a Dictionary\n",
    "    data={'feature_names':feature_names,'feature_importance':feature_importance}\n",
    "    fi_df = pd.DataFrame(data)\n",
    "\n",
    "    #Sort the DataFrame in order decreasing feature importance\n",
    "    fi_df.sort_values(by=['feature_importance'], ascending=False,inplace=True)\n",
    "\n",
    "    #Define size of bar plot\n",
    "    plt.figure(figsize=(10,8))\n",
    "    #Plot Searborn bar chart\n",
    "    sns.barplot(x=fi_df['feature_importance'][f:l], y=fi_df['feature_names'][f:l])\n",
    "    #Add chart labels\n",
    "    plt.title(model_type + ' FEATURE IMPORTANCE')\n",
    "    plt.xlabel('FEATURE IMPORTANCE')\n",
    "    plt.ylabel('FEATURE NAMES')"
   ]
  },
  {
   "cell_type": "code",
   "execution_count": 18,
   "metadata": {
    "ExecuteTime": {
     "end_time": "2020-10-15T22:13:21.957513Z",
     "start_time": "2020-10-15T22:13:21.427877Z"
    }
   },
   "outputs": [
    {
     "data": {
      "image/png": "[encoded data removed]",
      "text/plain": [
       "<Figure size 720x576 with 1 Axes>"
      ]
     },
     "metadata": {
      "needs_background": "light"
     },
     "output_type": "display_data"
    }
   ],
   "source": [
    "plot_feature_importance(regressor.feature_importances_, X_train.columns, 'Decision Tree', 0, 10)"
   ]
  },
  {
   "cell_type": "code",
   "execution_count": 20,
   "metadata": {
    "ExecuteTime": {
     "end_time": "2020-10-18T09:06:10.265931Z",
     "start_time": "2020-10-18T09:06:10.208631Z"
    }
   },
   "outputs": [
    {
     "data": {
      "text/html": [
       "<div>\n",
       "<style scoped>\n",
       "    .dataframe tbody tr th:only-of-type {\n",
       "        vertical-align: middle;\n",
       "    }\n",
       "\n",
       "    .dataframe tbody tr th {\n",
       "        vertical-align: top;\n",
       "    }\n",
       "\n",
       "    .dataframe thead th {\n",
       "        text-align: right;\n",
       "    }\n",
       "</style>\n",
       "<table border=\"1\" class=\"dataframe\">\n",
       "  <thead>\n",
       "    <tr style=\"text-align: right;\">\n",
       "      <th></th>\n",
       "      <th>Model</th>\n",
       "      <th>R-sq</th>\n",
       "      <th>RMSE</th>\n",
       "      <th>MAE</th>\n",
       "    </tr>\n",
       "  </thead>\n",
       "  <tbody>\n",
       "    <tr>\n",
       "      <td>0</td>\n",
       "      <td>Decision Tree</td>\n",
       "      <td>0.792624</td>\n",
       "      <td>7.85983</td>\n",
       "      <td>5.93007</td>\n",
       "    </tr>\n",
       "  </tbody>\n",
       "</table>\n",
       "</div>"
      ],
      "text/plain": [
       "           Model      R-sq     RMSE      MAE\n",
       "0  Decision Tree  0.792624  7.85983  5.93007"
      ]
     },
     "execution_count": 20,
     "metadata": {},
     "output_type": "execute_result"
    }
   ],
   "source": [
    "# Make predictions and evaluate \n",
    "y_pred = regressor.predict(X_test)\n",
    "\n",
    "dtR2 = r2_score(y_test,y_pred)\n",
    "dtRMSE = np.sqrt(mse(y_test, y_pred))\n",
    "dtMAE = mae(y_test, y_pred)\n",
    "                 \n",
    "dt = pd.DataFrame(['Decision Tree', dtR2, dtRMSE, dtMAE])\n",
    "dt = pd.DataFrame.transpose(dt)\n",
    "dt.columns = ['Model', 'R-sq', 'RMSE', 'MAE']\n",
    "dt"
   ]
  },
  {
   "cell_type": "markdown",
   "metadata": {
    "ExecuteTime": {
     "end_time": "2020-10-19T20:52:57.048181Z",
     "start_time": "2020-10-19T20:52:57.030129Z"
    }
   },
   "source": [
    "As the next model made, the performance had gone down drastically with the error increasing. Several iterations of this will need to be done to try and improve its performance."
   ]
  },
  {
   "cell_type": "markdown",
   "metadata": {},
   "source": [
    "# Random Forest"
   ]
  },
  {
   "cell_type": "code",
   "execution_count": 21,
   "metadata": {
    "ExecuteTime": {
     "end_time": "2020-10-18T09:06:23.438873Z",
     "start_time": "2020-10-18T09:06:23.267803Z"
    }
   },
   "outputs": [],
   "source": [
    "from sklearn.ensemble import RandomForestRegressor\n",
    "from sklearn.datasets import make_regression"
   ]
  },
  {
   "cell_type": "code",
   "execution_count": 22,
   "metadata": {
    "ExecuteTime": {
     "end_time": "2020-10-18T09:06:36.375844Z",
     "start_time": "2020-10-18T09:06:36.351783Z"
    }
   },
   "outputs": [],
   "source": [
    "X = df.drop(['QBR'], axis = 1)\n",
    "y = df['QBR']\n",
    "\n",
    "X_train, X_test, y_train, y_test = train_test_split(X, y, random_state=123)"
   ]
  },
  {
   "cell_type": "code",
   "execution_count": 23,
   "metadata": {
    "ExecuteTime": {
     "end_time": "2020-10-18T09:06:52.708029Z",
     "start_time": "2020-10-18T09:06:49.313097Z"
    }
   },
   "outputs": [
    {
     "data": {
      "text/plain": [
       "RandomForestRegressor()"
      ]
     },
     "execution_count": 23,
     "metadata": {},
     "output_type": "execute_result"
    }
   ],
   "source": [
    "forest = RandomForestRegressor()\n",
    "forest.fit(X_train, y_train)"
   ]
  },
  {
   "cell_type": "code",
   "execution_count": 24,
   "metadata": {
    "ExecuteTime": {
     "end_time": "2020-10-18T09:07:05.626182Z",
     "start_time": "2020-10-18T09:07:05.542907Z"
    }
   },
   "outputs": [
    {
     "data": {
      "text/html": [
       "<div>\n",
       "<style scoped>\n",
       "    .dataframe tbody tr th:only-of-type {\n",
       "        vertical-align: middle;\n",
       "    }\n",
       "\n",
       "    .dataframe tbody tr th {\n",
       "        vertical-align: top;\n",
       "    }\n",
       "\n",
       "    .dataframe thead th {\n",
       "        text-align: right;\n",
       "    }\n",
       "</style>\n",
       "<table border=\"1\" class=\"dataframe\">\n",
       "  <thead>\n",
       "    <tr style=\"text-align: right;\">\n",
       "      <th></th>\n",
       "      <th>Model</th>\n",
       "      <th>R-sq</th>\n",
       "      <th>RMSE</th>\n",
       "      <th>MAE</th>\n",
       "    </tr>\n",
       "  </thead>\n",
       "  <tbody>\n",
       "    <tr>\n",
       "      <td>0</td>\n",
       "      <td>Random Forest</td>\n",
       "      <td>0.900877</td>\n",
       "      <td>5.43402</td>\n",
       "      <td>4.25432</td>\n",
       "    </tr>\n",
       "  </tbody>\n",
       "</table>\n",
       "</div>"
      ],
      "text/plain": [
       "           Model      R-sq     RMSE      MAE\n",
       "0  Random Forest  0.900877  5.43402  4.25432"
      ]
     },
     "execution_count": 24,
     "metadata": {},
     "output_type": "execute_result"
    }
   ],
   "source": [
    "y_pred = forest.predict(X_test)\n",
    "\n",
    "rfRMSE =  np.sqrt(mse(y_test, y_pred))\n",
    "rfMAE = mae(y_test, y_pred)\n",
    "rfR2 =  r2_score(y_test,y_pred)\n",
    "                  \n",
    "rf = pd.DataFrame(['Random Forest', rfR2, rfRMSE, rfMAE])\n",
    "rf = pd.DataFrame.transpose(rf)\n",
    "rf.columns = ['Model', 'R-sq', 'RMSE', 'MAE']\n",
    "rf"
   ]
  },
  {
   "cell_type": "markdown",
   "metadata": {
    "ExecuteTime": {
     "end_time": "2020-10-19T20:54:10.092329Z",
     "start_time": "2020-10-19T20:54:10.077331Z"
    }
   },
   "source": [
    "Switch the Decision Tree to a Random Forest gave us a much better fit of our data points and reduced our error down to an acceptable amount. As compared to the linear model it is still lacking "
   ]
  },
  {
   "cell_type": "code",
   "execution_count": 24,
   "metadata": {
    "ExecuteTime": {
     "end_time": "2020-10-15T22:13:26.334812Z",
     "start_time": "2020-10-15T22:13:25.704014Z"
    }
   },
   "outputs": [
    {
     "data": {
      "image/png": "[encoded data removed]",
      "text/plain": [
       "<Figure size 720x576 with 1 Axes>"
      ]
     },
     "metadata": {
      "needs_background": "light"
     },
     "output_type": "display_data"
    }
   ],
   "source": [
    "plot_feature_importance(forest.feature_importances_, X_train.columns, 'Random Forest', 1, 11)"
   ]
  },
  {
   "cell_type": "markdown",
   "metadata": {},
   "source": [
    "# Grid Search"
   ]
  },
  {
   "cell_type": "code",
   "execution_count": 25,
   "metadata": {
    "ExecuteTime": {
     "end_time": "2020-10-18T09:07:18.444284Z",
     "start_time": "2020-10-18T09:07:18.428829Z"
    }
   },
   "outputs": [],
   "source": [
    "from sklearn.model_selection import  GridSearchCV"
   ]
  },
  {
   "cell_type": "code",
   "execution_count": 26,
   "metadata": {
    "ExecuteTime": {
     "end_time": "2020-10-18T09:07:31.437727Z",
     "start_time": "2020-10-18T09:07:31.396337Z"
    }
   },
   "outputs": [],
   "source": [
    "X = df.drop(['QBR'], axis = 1)\n",
    "y = df['QBR']\n",
    "\n",
    "X_train, X_test, y_train, y_test = train_test_split(X, y, random_state=123)"
   ]
  },
  {
   "cell_type": "code",
   "execution_count": 234,
   "metadata": {
    "ExecuteTime": {
     "end_time": "2020-10-18T08:57:19.416263Z",
     "start_time": "2020-10-18T08:57:19.399725Z"
    }
   },
   "outputs": [],
   "source": [
    "ft_param_grid = {\n",
    "    'criterion':['mse'],\n",
    "    'max_features' : [0.2, 0.4, 0.7, 1.0],\n",
    "    'max_depth': [120, 130, 140],\n",
    "    'min_samples_split': [2,3,4],\n",
    "    'min_samples_leaf': [1, 2, 3]\n",
    "}\n"
   ]
  },
  {
   "cell_type": "code",
   "execution_count": 78,
   "metadata": {
    "ExecuteTime": {
     "end_time": "2020-10-18T07:48:00.696280Z",
     "start_time": "2020-10-18T07:46:14.236633Z"
    }
   },
   "outputs": [
    {
     "data": {
      "text/plain": [
       "GridSearchCV(cv=3, estimator=RandomForestRegressor(),\n",
       "             param_grid={'criterion': ['mse'], 'max_depth': [120, 130, 140],\n",
       "                         'max_features': [0.2, 0.4, 0.7, 1.0],\n",
       "                         'min_samples_leaf': [1, 2, 3],\n",
       "                         'min_samples_split': [2, 3, 4]},\n",
       "             return_train_score=True)"
      ]
     },
     "execution_count": 78,
     "metadata": {},
     "output_type": "execute_result"
    }
   ],
   "source": [
    "# Instantiate GridSearchCV\n",
    "ft_regressor = RandomForestRegressor()\n",
    "ft_grid_search = GridSearchCV(ft_regressor, ft_param_grid, cv=3, return_train_score=True)\n",
    "\n",
    "# Fit to the data\n",
    "ft_grid_search.fit(X_train, y_train)"
   ]
  },
  {
   "cell_type": "code",
   "execution_count": 79,
   "metadata": {
    "ExecuteTime": {
     "end_time": "2020-10-18T07:48:04.451805Z",
     "start_time": "2020-10-18T07:48:04.436831Z"
    }
   },
   "outputs": [
    {
     "data": {
      "text/plain": [
       "{'criterion': 'mse',\n",
       " 'max_depth': 120,\n",
       " 'max_features': 0.7,\n",
       " 'min_samples_leaf': 1,\n",
       " 'min_samples_split': 4}"
      ]
     },
     "execution_count": 79,
     "metadata": {},
     "output_type": "execute_result"
    }
   ],
   "source": [
    "ft_grid_search.best_params_"
   ]
  },
  {
   "cell_type": "code",
   "execution_count": 27,
   "metadata": {
    "ExecuteTime": {
     "end_time": "2020-10-18T09:07:46.894231Z",
     "start_time": "2020-10-18T09:07:44.490574Z"
    }
   },
   "outputs": [
    {
     "data": {
      "text/plain": [
       "RandomForestRegressor(max_depth=120, max_features=0.7, min_samples_split=4)"
      ]
     },
     "execution_count": 27,
     "metadata": {},
     "output_type": "execute_result"
    }
   ],
   "source": [
    "forest = RandomForestRegressor(criterion = 'mse',\n",
    "                              max_depth = 120,\n",
    "                              max_features = 0.7,\n",
    "                              min_samples_leaf = 1,\n",
    "                              min_samples_split = 4)\n",
    "forest.fit(X_train, y_train)"
   ]
  },
  {
   "cell_type": "code",
   "execution_count": 28,
   "metadata": {
    "ExecuteTime": {
     "end_time": "2020-10-18T09:08:00.015402Z",
     "start_time": "2020-10-18T09:07:59.930619Z"
    }
   },
   "outputs": [
    {
     "data": {
      "text/html": [
       "<div>\n",
       "<style scoped>\n",
       "    .dataframe tbody tr th:only-of-type {\n",
       "        vertical-align: middle;\n",
       "    }\n",
       "\n",
       "    .dataframe tbody tr th {\n",
       "        vertical-align: top;\n",
       "    }\n",
       "\n",
       "    .dataframe thead th {\n",
       "        text-align: right;\n",
       "    }\n",
       "</style>\n",
       "<table border=\"1\" class=\"dataframe\">\n",
       "  <thead>\n",
       "    <tr style=\"text-align: right;\">\n",
       "      <th></th>\n",
       "      <th>Model</th>\n",
       "      <th>R-sq</th>\n",
       "      <th>RMSE</th>\n",
       "      <th>MAE</th>\n",
       "    </tr>\n",
       "  </thead>\n",
       "  <tbody>\n",
       "    <tr>\n",
       "      <td>0</td>\n",
       "      <td>Grid Search-(RF)</td>\n",
       "      <td>0.902107</td>\n",
       "      <td>5.40021</td>\n",
       "      <td>4.19218</td>\n",
       "    </tr>\n",
       "  </tbody>\n",
       "</table>\n",
       "</div>"
      ],
      "text/plain": [
       "              Model      R-sq     RMSE      MAE\n",
       "0  Grid Search-(RF)  0.902107  5.40021  4.19218"
      ]
     },
     "execution_count": 28,
     "metadata": {},
     "output_type": "execute_result"
    }
   ],
   "source": [
    "y_pred = forest.predict(X_test)\n",
    "\n",
    "gsR2 = r2_score(y_test,y_pred)\n",
    "gsRMSE = np.sqrt(mse(y_test, y_pred))\n",
    "gsMAE = mae(y_test, y_pred)\n",
    "\n",
    "gs = pd.DataFrame(['Grid Search-(RF)', gsR2, gsRMSE, gsMAE])\n",
    "gs = pd.DataFrame.transpose(gs)\n",
    "gs.columns = ['Model', 'R-sq', 'RMSE', 'MAE']\n",
    "gs"
   ]
  },
  {
   "cell_type": "markdown",
   "metadata": {},
   "source": [
    "With a grid search to find the best parameter on the random forest the results were disappointing. There was such a small change in the metrics it could be assumed to be negligible."
   ]
  },
  {
   "cell_type": "markdown",
   "metadata": {
    "ExecuteTime": {
     "end_time": "2020-10-13T22:30:35.748924Z",
     "start_time": "2020-10-13T22:30:35.737695Z"
    }
   },
   "source": [
    "# Neural Nerwork"
   ]
  },
  {
   "cell_type": "code",
   "execution_count": 29,
   "metadata": {
    "ExecuteTime": {
     "end_time": "2020-10-18T09:08:18.888002Z",
     "start_time": "2020-10-18T09:08:12.898335Z"
    }
   },
   "outputs": [],
   "source": [
    "from sklearn.impute import SimpleImputer\n",
    "from sklearn.metrics import mean_squared_error\n",
    "from sklearn.model_selection import cross_val_predict\n",
    "from keras import models\n",
    "from keras import layers\n",
    "from keras import regularizers\n",
    "from keras.wrappers.scikit_learn import KerasRegressor\n",
    "from keras.models import Sequential\n",
    "from keras.layers import Dense\n",
    "from sklearn.metrics import r2_score"
   ]
  },
  {
   "cell_type": "code",
   "execution_count": 30,
   "metadata": {
    "ExecuteTime": {
     "end_time": "2020-10-18T09:08:32.123785Z",
     "start_time": "2020-10-18T09:08:32.073582Z"
    }
   },
   "outputs": [],
   "source": [
    "X = df.drop(['QBR'], axis = 1)\n",
    "y = df['QBR']\n",
    "\n",
    "X_train, X_test, y_train, y_test  = train_test_split(X, y, test_size=0.2, random_state=123)\n",
    "\n",
    "X_train, X_val, y_train, y_val  = train_test_split(X_train, y_train, test_size=0.25, random_state=123) # 0.25 x 0.8 = 0.2\n",
    "\n",
    "n_features = X_train.shape[1]"
   ]
  },
  {
   "cell_type": "code",
   "execution_count": 31,
   "metadata": {
    "ExecuteTime": {
     "end_time": "2020-10-18T09:08:53.466365Z",
     "start_time": "2020-10-18T09:08:53.440910Z"
    }
   },
   "outputs": [],
   "source": [
    "from sklearn.preprocessing import StandardScaler\n",
    "ss_X = StandardScaler()"
   ]
  },
  {
   "cell_type": "code",
   "execution_count": 32,
   "metadata": {
    "ExecuteTime": {
     "end_time": "2020-10-18T09:09:06.516818Z",
     "start_time": "2020-10-18T09:09:06.465789Z"
    }
   },
   "outputs": [],
   "source": [
    "numeric_columns = X_train.columns \n",
    "\n",
    "# Instantiate StandardScaler\n",
    "ss_X = StandardScaler()\n",
    "\n",
    "# Fit and transform train data\n",
    "X_train_scaled = pd.DataFrame(ss_X.fit_transform(X_train), columns=numeric_columns)\n",
    "\n",
    "# Transform validate and test data\n",
    "X_val_scaled = pd.DataFrame(ss_X.transform(X_val), columns=numeric_columns)\n",
    "X_test_scaled = pd.DataFrame(ss_X.transform(X_test), columns=numeric_columns)"
   ]
  },
  {
   "cell_type": "code",
   "execution_count": 33,
   "metadata": {
    "ExecuteTime": {
     "end_time": "2020-10-18T09:09:21.449392Z",
     "start_time": "2020-10-18T09:09:21.419381Z"
    }
   },
   "outputs": [],
   "source": [
    "# Instantiate StandardScaler\n",
    "ss_y = StandardScaler()\n",
    "\n",
    "# Fit and transform train labels\n",
    "y_train = y_train.values.reshape(-1,1)\n",
    "y_train_scaled = ss_y.fit_transform(y_train)\n",
    "\n",
    "# Transform validate and test labels\n",
    "y_val = y_val.values.reshape(-1,1)\n",
    "y_test = y_test.values.reshape(-1,1)\n",
    "y_val_scaled = ss_y.transform(y_val)\n",
    "y_test_scaled = ss_y.transform(y_test)"
   ]
  },
  {
   "cell_type": "code",
   "execution_count": 34,
   "metadata": {
    "ExecuteTime": {
     "end_time": "2020-10-18T09:09:36.330806Z",
     "start_time": "2020-10-18T09:09:36.310916Z"
    }
   },
   "outputs": [],
   "source": [
    "def nn_metrics(model):\n",
    "    # Generate predictions on validate data\n",
    "    np.random.seed(123)\n",
    "    y_val_pred_scaled = model.predict(X_val_scaled)\n",
    "\n",
    "    # Transform the predictions back to original scale\n",
    "    y_val_pred = ss_y.inverse_transform(y_val_pred_scaled)\n",
    "   \n",
    "    print('R-sq score:', r2_score(y_val,y_val_pred))\n",
    "    print('RMSE:',np.sqrt(mse(y_val, y_val_pred)))\n",
    "    print('MAE:', mae(y_val, y_val_pred))\n"
   ]
  },
  {
   "cell_type": "markdown",
   "metadata": {},
   "source": [
    "## normalized"
   ]
  },
  {
   "cell_type": "code",
   "execution_count": 35,
   "metadata": {
    "ExecuteTime": {
     "end_time": "2020-10-18T09:10:14.605659Z",
     "start_time": "2020-10-18T09:09:51.050147Z"
    }
   },
   "outputs": [
    {
     "name": "stdout",
     "output_type": "stream",
     "text": [
      "Epoch 1/150\n",
      "34/34 [==============================] - 1s 18ms/step - loss: 0.6094 - mse: 0.6094 - val_loss: 0.2706 - val_mse: 0.2706\n",
      "Epoch 2/150\n",
      "34/34 [==============================] - 0s 4ms/step - loss: 0.2040 - mse: 0.2040 - val_loss: 0.1563 - val_mse: 0.1563\n",
      "Epoch 3/150\n",
      "34/34 [==============================] - 0s 4ms/step - loss: 0.1441 - mse: 0.1441 - val_loss: 0.1277 - val_mse: 0.1277\n",
      "Epoch 4/150\n",
      "34/34 [==============================] - 0s 4ms/step - loss: 0.1213 - mse: 0.1213 - val_loss: 0.1154 - val_mse: 0.1154\n",
      "Epoch 5/150\n",
      "34/34 [==============================] - 0s 4ms/step - loss: 0.1092 - mse: 0.1092 - val_loss: 0.1099 - val_mse: 0.1099\n",
      "Epoch 6/150\n",
      "34/34 [==============================] - 0s 4ms/step - loss: 0.1010 - mse: 0.1010 - val_loss: 0.1050 - val_mse: 0.1050\n",
      "Epoch 7/150\n",
      "34/34 [==============================] - 0s 4ms/step - loss: 0.0945 - mse: 0.0945 - val_loss: 0.1050 - val_mse: 0.1050\n",
      "Epoch 8/150\n",
      "34/34 [==============================] - 0s 4ms/step - loss: 0.0904 - mse: 0.0904 - val_loss: 0.1011 - val_mse: 0.1011\n",
      "Epoch 9/150\n",
      "34/34 [==============================] - 0s 4ms/step - loss: 0.0859 - mse: 0.0859 - val_loss: 0.0985 - val_mse: 0.0985\n",
      "Epoch 10/150\n",
      "34/34 [==============================] - 0s 4ms/step - loss: 0.0826 - mse: 0.0826 - val_loss: 0.0964 - val_mse: 0.0964\n",
      "Epoch 11/150\n",
      "34/34 [==============================] - 0s 4ms/step - loss: 0.0797 - mse: 0.0797 - val_loss: 0.0951 - val_mse: 0.0951\n",
      "Epoch 12/150\n",
      "34/34 [==============================] - 0s 4ms/step - loss: 0.0766 - mse: 0.0766 - val_loss: 0.0935 - val_mse: 0.0935\n",
      "Epoch 13/150\n",
      "34/34 [==============================] - 0s 4ms/step - loss: 0.0743 - mse: 0.0743 - val_loss: 0.0922 - val_mse: 0.0922\n",
      "Epoch 14/150\n",
      "34/34 [==============================] - 0s 4ms/step - loss: 0.0720 - mse: 0.0720 - val_loss: 0.0911 - val_mse: 0.0911\n",
      "Epoch 15/150\n",
      "34/34 [==============================] - 0s 4ms/step - loss: 0.0701 - mse: 0.0701 - val_loss: 0.0905 - val_mse: 0.0905\n",
      "Epoch 16/150\n",
      "34/34 [==============================] - 0s 4ms/step - loss: 0.0682 - mse: 0.0682 - val_loss: 0.0907 - val_mse: 0.0907\n",
      "Epoch 17/150\n",
      "34/34 [==============================] - 0s 4ms/step - loss: 0.0666 - mse: 0.0666 - val_loss: 0.0894 - val_mse: 0.0894\n",
      "Epoch 18/150\n",
      "34/34 [==============================] - 0s 4ms/step - loss: 0.0649 - mse: 0.0649 - val_loss: 0.0884 - val_mse: 0.0884\n",
      "Epoch 19/150\n",
      "34/34 [==============================] - 0s 4ms/step - loss: 0.0634 - mse: 0.0634 - val_loss: 0.0881 - val_mse: 0.0881\n",
      "Epoch 20/150\n",
      "34/34 [==============================] - 0s 4ms/step - loss: 0.0623 - mse: 0.0623 - val_loss: 0.0871 - val_mse: 0.0871\n",
      "Epoch 21/150\n",
      "34/34 [==============================] - 0s 4ms/step - loss: 0.0609 - mse: 0.0609 - val_loss: 0.0871 - val_mse: 0.0871\n",
      "Epoch 22/150\n",
      "34/34 [==============================] - 0s 4ms/step - loss: 0.0596 - mse: 0.0596 - val_loss: 0.0859 - val_mse: 0.0859\n",
      "Epoch 23/150\n",
      "34/34 [==============================] - 0s 3ms/step - loss: 0.0584 - mse: 0.0584 - val_loss: 0.0856 - val_mse: 0.0856\n",
      "Epoch 24/150\n",
      "34/34 [==============================] - 0s 4ms/step - loss: 0.0575 - mse: 0.0575 - val_loss: 0.0844 - val_mse: 0.0844\n",
      "Epoch 25/150\n",
      "34/34 [==============================] - 0s 3ms/step - loss: 0.0560 - mse: 0.0560 - val_loss: 0.0845 - val_mse: 0.0845\n",
      "Epoch 26/150\n",
      "34/34 [==============================] - 0s 4ms/step - loss: 0.0553 - mse: 0.0553 - val_loss: 0.0833 - val_mse: 0.0833\n",
      "Epoch 27/150\n",
      "34/34 [==============================] - 0s 4ms/step - loss: 0.0544 - mse: 0.0544 - val_loss: 0.0833 - val_mse: 0.0833\n",
      "Epoch 28/150\n",
      "34/34 [==============================] - 0s 4ms/step - loss: 0.0535 - mse: 0.0535 - val_loss: 0.0826 - val_mse: 0.0826\n",
      "Epoch 29/150\n",
      "34/34 [==============================] - 0s 4ms/step - loss: 0.0526 - mse: 0.0526 - val_loss: 0.0818 - val_mse: 0.0818\n",
      "Epoch 30/150\n",
      "34/34 [==============================] - 0s 4ms/step - loss: 0.0519 - mse: 0.0519 - val_loss: 0.0813 - val_mse: 0.0813\n",
      "Epoch 31/150\n",
      "34/34 [==============================] - 0s 4ms/step - loss: 0.0511 - mse: 0.0511 - val_loss: 0.0810 - val_mse: 0.0810\n",
      "Epoch 32/150\n",
      "34/34 [==============================] - 0s 4ms/step - loss: 0.0503 - mse: 0.0503 - val_loss: 0.0807 - val_mse: 0.0807\n",
      "Epoch 33/150\n",
      "34/34 [==============================] - 0s 4ms/step - loss: 0.0495 - mse: 0.0495 - val_loss: 0.0802 - val_mse: 0.0802\n",
      "Epoch 34/150\n",
      "34/34 [==============================] - 0s 4ms/step - loss: 0.0487 - mse: 0.0487 - val_loss: 0.0800 - val_mse: 0.0800\n",
      "Epoch 35/150\n",
      "34/34 [==============================] - 0s 4ms/step - loss: 0.0481 - mse: 0.0481 - val_loss: 0.0803 - val_mse: 0.0803\n",
      "Epoch 36/150\n",
      "34/34 [==============================] - 0s 4ms/step - loss: 0.0477 - mse: 0.0477 - val_loss: 0.0797 - val_mse: 0.0797\n",
      "Epoch 37/150\n",
      "34/34 [==============================] - 0s 4ms/step - loss: 0.0464 - mse: 0.0464 - val_loss: 0.0798 - val_mse: 0.0798\n",
      "Epoch 38/150\n",
      "34/34 [==============================] - 0s 4ms/step - loss: 0.0461 - mse: 0.0461 - val_loss: 0.0792 - val_mse: 0.0792\n",
      "Epoch 39/150\n",
      "34/34 [==============================] - 0s 4ms/step - loss: 0.0453 - mse: 0.0453 - val_loss: 0.0788 - val_mse: 0.0788\n",
      "Epoch 40/150\n",
      "34/34 [==============================] - 0s 4ms/step - loss: 0.0450 - mse: 0.0450 - val_loss: 0.0778 - val_mse: 0.0778\n",
      "Epoch 41/150\n",
      "34/34 [==============================] - 0s 4ms/step - loss: 0.0444 - mse: 0.0444 - val_loss: 0.0781 - val_mse: 0.0781\n",
      "Epoch 42/150\n",
      "34/34 [==============================] - 0s 4ms/step - loss: 0.0442 - mse: 0.0442 - val_loss: 0.0775 - val_mse: 0.0775\n",
      "Epoch 43/150\n",
      "34/34 [==============================] - 0s 4ms/step - loss: 0.0431 - mse: 0.0431 - val_loss: 0.0767 - val_mse: 0.0767\n",
      "Epoch 44/150\n",
      "34/34 [==============================] - 0s 4ms/step - loss: 0.0427 - mse: 0.0427 - val_loss: 0.0792 - val_mse: 0.0792\n",
      "Epoch 45/150\n",
      "34/34 [==============================] - 0s 4ms/step - loss: 0.0423 - mse: 0.0423 - val_loss: 0.0766 - val_mse: 0.0766\n",
      "Epoch 46/150\n",
      "34/34 [==============================] - 0s 4ms/step - loss: 0.0418 - mse: 0.0418 - val_loss: 0.0765 - val_mse: 0.0765\n",
      "Epoch 47/150\n",
      "34/34 [==============================] - 0s 4ms/step - loss: 0.0409 - mse: 0.0409 - val_loss: 0.0761 - val_mse: 0.0761\n",
      "Epoch 48/150\n",
      "34/34 [==============================] - 0s 4ms/step - loss: 0.0408 - mse: 0.0408 - val_loss: 0.0767 - val_mse: 0.0767\n",
      "Epoch 49/150\n",
      "34/34 [==============================] - 0s 4ms/step - loss: 0.0403 - mse: 0.0403 - val_loss: 0.0761 - val_mse: 0.0761\n",
      "Epoch 50/150\n",
      "34/34 [==============================] - 0s 4ms/step - loss: 0.0399 - mse: 0.0399 - val_loss: 0.0760 - val_mse: 0.0760\n",
      "Epoch 51/150\n",
      "34/34 [==============================] - 0s 4ms/step - loss: 0.0393 - mse: 0.0393 - val_loss: 0.0758 - val_mse: 0.0758\n",
      "Epoch 52/150\n",
      "34/34 [==============================] - 0s 4ms/step - loss: 0.0392 - mse: 0.0392 - val_loss: 0.0749 - val_mse: 0.0749\n",
      "Epoch 53/150\n",
      "34/34 [==============================] - 0s 4ms/step - loss: 0.0387 - mse: 0.0387 - val_loss: 0.0752 - val_mse: 0.0752\n",
      "Epoch 54/150\n",
      "34/34 [==============================] - 0s 4ms/step - loss: 0.0382 - mse: 0.0382 - val_loss: 0.0743 - val_mse: 0.0743\n",
      "Epoch 55/150\n",
      "34/34 [==============================] - 0s 4ms/step - loss: 0.0378 - mse: 0.0378 - val_loss: 0.0756 - val_mse: 0.0756\n",
      "Epoch 56/150\n",
      "34/34 [==============================] - 0s 4ms/step - loss: 0.0371 - mse: 0.0371 - val_loss: 0.0742 - val_mse: 0.0742\n",
      "Epoch 57/150\n",
      "34/34 [==============================] - 0s 4ms/step - loss: 0.0371 - mse: 0.0371 - val_loss: 0.0738 - val_mse: 0.0738\n",
      "Epoch 58/150\n",
      "34/34 [==============================] - 0s 4ms/step - loss: 0.0368 - mse: 0.0368 - val_loss: 0.0742 - val_mse: 0.0742\n",
      "Epoch 59/150\n",
      "34/34 [==============================] - 0s 4ms/step - loss: 0.0361 - mse: 0.0361 - val_loss: 0.0753 - val_mse: 0.0753\n",
      "Epoch 60/150\n",
      "34/34 [==============================] - 0s 4ms/step - loss: 0.0360 - mse: 0.0360 - val_loss: 0.0737 - val_mse: 0.0737\n",
      "Epoch 61/150\n",
      "34/34 [==============================] - 0s 4ms/step - loss: 0.0357 - mse: 0.0357 - val_loss: 0.0733 - val_mse: 0.0733\n",
      "Epoch 62/150\n",
      "34/34 [==============================] - 0s 4ms/step - loss: 0.0354 - mse: 0.0354 - val_loss: 0.0730 - val_mse: 0.0730\n",
      "Epoch 63/150\n",
      "34/34 [==============================] - 0s 4ms/step - loss: 0.0348 - mse: 0.0348 - val_loss: 0.0729 - val_mse: 0.0729\n",
      "Epoch 64/150\n",
      "34/34 [==============================] - 0s 4ms/step - loss: 0.0345 - mse: 0.0345 - val_loss: 0.0728 - val_mse: 0.0728\n",
      "Epoch 65/150\n",
      "34/34 [==============================] - 0s 4ms/step - loss: 0.0343 - mse: 0.0343 - val_loss: 0.0738 - val_mse: 0.0738\n",
      "Epoch 66/150\n",
      "34/34 [==============================] - 0s 4ms/step - loss: 0.0340 - mse: 0.0340 - val_loss: 0.0728 - val_mse: 0.0728\n",
      "Epoch 67/150\n",
      "34/34 [==============================] - 0s 4ms/step - loss: 0.0338 - mse: 0.0338 - val_loss: 0.0728 - val_mse: 0.0728\n",
      "Epoch 68/150\n",
      "34/34 [==============================] - 0s 4ms/step - loss: 0.0334 - mse: 0.0334 - val_loss: 0.0737 - val_mse: 0.0737\n",
      "Epoch 69/150\n",
      "34/34 [==============================] - 0s 4ms/step - loss: 0.0332 - mse: 0.0332 - val_loss: 0.0724 - val_mse: 0.0724\n",
      "Epoch 70/150\n",
      "34/34 [==============================] - 0s 4ms/step - loss: 0.0327 - mse: 0.0327 - val_loss: 0.0719 - val_mse: 0.0719\n",
      "Epoch 71/150\n",
      "34/34 [==============================] - 0s 4ms/step - loss: 0.0325 - mse: 0.0325 - val_loss: 0.0716 - val_mse: 0.0716\n",
      "Epoch 72/150\n",
      "34/34 [==============================] - 0s 4ms/step - loss: 0.0322 - mse: 0.0322 - val_loss: 0.0712 - val_mse: 0.0712\n",
      "Epoch 73/150\n",
      "34/34 [==============================] - 0s 4ms/step - loss: 0.0319 - mse: 0.0319 - val_loss: 0.0715 - val_mse: 0.0715\n",
      "Epoch 74/150\n",
      "34/34 [==============================] - 0s 4ms/step - loss: 0.0316 - mse: 0.0316 - val_loss: 0.0724 - val_mse: 0.0724\n",
      "Epoch 75/150\n",
      "34/34 [==============================] - 0s 4ms/step - loss: 0.0315 - mse: 0.0315 - val_loss: 0.0717 - val_mse: 0.0717\n",
      "Epoch 76/150\n",
      "34/34 [==============================] - 0s 4ms/step - loss: 0.0313 - mse: 0.0313 - val_loss: 0.0711 - val_mse: 0.0711\n",
      "Epoch 77/150\n",
      "34/34 [==============================] - 0s 4ms/step - loss: 0.0309 - mse: 0.0309 - val_loss: 0.0719 - val_mse: 0.0719\n",
      "Epoch 78/150\n",
      "34/34 [==============================] - 0s 4ms/step - loss: 0.0307 - mse: 0.0307 - val_loss: 0.0711 - val_mse: 0.0711\n",
      "Epoch 79/150\n",
      "34/34 [==============================] - 0s 4ms/step - loss: 0.0304 - mse: 0.0304 - val_loss: 0.0714 - val_mse: 0.0714\n",
      "Epoch 80/150\n",
      "34/34 [==============================] - 0s 4ms/step - loss: 0.0301 - mse: 0.0301 - val_loss: 0.0717 - val_mse: 0.0717\n",
      "Epoch 81/150\n",
      "34/34 [==============================] - 0s 4ms/step - loss: 0.0299 - mse: 0.0299 - val_loss: 0.0709 - val_mse: 0.0709\n",
      "Epoch 82/150\n",
      "34/34 [==============================] - 0s 4ms/step - loss: 0.0298 - mse: 0.0298 - val_loss: 0.0716 - val_mse: 0.0716\n",
      "Epoch 83/150\n",
      "34/34 [==============================] - 0s 4ms/step - loss: 0.0295 - mse: 0.0295 - val_loss: 0.0711 - val_mse: 0.0711\n",
      "Epoch 84/150\n",
      "34/34 [==============================] - 0s 4ms/step - loss: 0.0292 - mse: 0.0292 - val_loss: 0.0708 - val_mse: 0.0708\n",
      "Epoch 85/150\n",
      "34/34 [==============================] - 0s 4ms/step - loss: 0.0290 - mse: 0.0290 - val_loss: 0.0703 - val_mse: 0.0703\n",
      "Epoch 86/150\n",
      "34/34 [==============================] - 0s 4ms/step - loss: 0.0289 - mse: 0.0289 - val_loss: 0.0704 - val_mse: 0.0704\n",
      "Epoch 87/150\n",
      "34/34 [==============================] - 0s 4ms/step - loss: 0.0285 - mse: 0.0285 - val_loss: 0.0702 - val_mse: 0.0702\n",
      "Epoch 88/150\n",
      "34/34 [==============================] - 0s 4ms/step - loss: 0.0284 - mse: 0.0284 - val_loss: 0.0708 - val_mse: 0.0708\n",
      "Epoch 89/150\n",
      "34/34 [==============================] - 0s 4ms/step - loss: 0.0283 - mse: 0.0283 - val_loss: 0.0700 - val_mse: 0.0700\n",
      "Epoch 90/150\n",
      "34/34 [==============================] - 0s 4ms/step - loss: 0.0281 - mse: 0.0281 - val_loss: 0.0696 - val_mse: 0.0696\n",
      "Epoch 91/150\n",
      "34/34 [==============================] - 0s 4ms/step - loss: 0.0279 - mse: 0.0279 - val_loss: 0.0697 - val_mse: 0.0697\n",
      "Epoch 92/150\n",
      "34/34 [==============================] - 0s 4ms/step - loss: 0.0277 - mse: 0.0277 - val_loss: 0.0697 - val_mse: 0.0697\n",
      "Epoch 93/150\n",
      "34/34 [==============================] - 0s 4ms/step - loss: 0.0273 - mse: 0.0273 - val_loss: 0.0700 - val_mse: 0.0700\n",
      "Epoch 94/150\n",
      "34/34 [==============================] - 0s 4ms/step - loss: 0.0274 - mse: 0.0274 - val_loss: 0.0700 - val_mse: 0.0700\n",
      "Epoch 95/150\n",
      "34/34 [==============================] - 0s 4ms/step - loss: 0.0271 - mse: 0.0271 - val_loss: 0.0699 - val_mse: 0.0699\n",
      "Epoch 96/150\n",
      "34/34 [==============================] - 0s 4ms/step - loss: 0.0269 - mse: 0.0269 - val_loss: 0.0703 - val_mse: 0.0703\n",
      "Epoch 97/150\n",
      "34/34 [==============================] - 0s 4ms/step - loss: 0.0267 - mse: 0.0267 - val_loss: 0.0692 - val_mse: 0.0692\n",
      "Epoch 98/150\n",
      "34/34 [==============================] - 0s 4ms/step - loss: 0.0264 - mse: 0.0264 - val_loss: 0.0696 - val_mse: 0.0696\n",
      "Epoch 99/150\n",
      "34/34 [==============================] - 0s 4ms/step - loss: 0.0262 - mse: 0.0262 - val_loss: 0.0695 - val_mse: 0.0695\n",
      "Epoch 100/150\n",
      "34/34 [==============================] - 0s 4ms/step - loss: 0.0261 - mse: 0.0261 - val_loss: 0.0697 - val_mse: 0.0697\n",
      "Epoch 101/150\n",
      "34/34 [==============================] - 0s 4ms/step - loss: 0.0260 - mse: 0.0260 - val_loss: 0.0696 - val_mse: 0.0696\n",
      "Epoch 102/150\n",
      "34/34 [==============================] - 0s 4ms/step - loss: 0.0258 - mse: 0.0258 - val_loss: 0.0691 - val_mse: 0.0691\n",
      "Epoch 103/150\n",
      "34/34 [==============================] - 0s 4ms/step - loss: 0.0257 - mse: 0.0257 - val_loss: 0.0690 - val_mse: 0.0690\n",
      "Epoch 104/150\n",
      "34/34 [==============================] - 0s 4ms/step - loss: 0.0256 - mse: 0.0256 - val_loss: 0.0695 - val_mse: 0.0695\n",
      "Epoch 105/150\n",
      "34/34 [==============================] - 0s 4ms/step - loss: 0.0254 - mse: 0.0254 - val_loss: 0.0697 - val_mse: 0.0697\n",
      "Epoch 106/150\n",
      "34/34 [==============================] - 0s 4ms/step - loss: 0.0252 - mse: 0.0252 - val_loss: 0.0695 - val_mse: 0.0695\n",
      "Epoch 107/150\n",
      "34/34 [==============================] - 0s 4ms/step - loss: 0.0250 - mse: 0.0250 - val_loss: 0.0688 - val_mse: 0.0688\n",
      "Epoch 108/150\n",
      "34/34 [==============================] - 0s 4ms/step - loss: 0.0250 - mse: 0.0250 - val_loss: 0.0692 - val_mse: 0.0692\n",
      "Epoch 109/150\n",
      "34/34 [==============================] - 0s 4ms/step - loss: 0.0247 - mse: 0.0247 - val_loss: 0.0692 - val_mse: 0.0692\n",
      "Epoch 110/150\n",
      "34/34 [==============================] - 0s 4ms/step - loss: 0.0245 - mse: 0.0245 - val_loss: 0.0701 - val_mse: 0.0701\n",
      "Epoch 111/150\n",
      "34/34 [==============================] - 0s 4ms/step - loss: 0.0245 - mse: 0.0245 - val_loss: 0.0693 - val_mse: 0.0693\n",
      "Epoch 112/150\n",
      "34/34 [==============================] - 0s 4ms/step - loss: 0.0243 - mse: 0.0243 - val_loss: 0.0694 - val_mse: 0.0694\n",
      "Epoch 113/150\n",
      "34/34 [==============================] - 0s 4ms/step - loss: 0.0242 - mse: 0.0242 - val_loss: 0.0684 - val_mse: 0.0684\n",
      "Epoch 114/150\n",
      "34/34 [==============================] - 0s 4ms/step - loss: 0.0239 - mse: 0.0239 - val_loss: 0.0702 - val_mse: 0.0702\n",
      "Epoch 115/150\n",
      "34/34 [==============================] - 0s 4ms/step - loss: 0.0240 - mse: 0.0240 - val_loss: 0.0689 - val_mse: 0.0689\n",
      "Epoch 116/150\n",
      "34/34 [==============================] - 0s 4ms/step - loss: 0.0236 - mse: 0.0236 - val_loss: 0.0685 - val_mse: 0.0685\n",
      "Epoch 117/150\n",
      "34/34 [==============================] - 0s 4ms/step - loss: 0.0234 - mse: 0.0234 - val_loss: 0.0691 - val_mse: 0.0691\n",
      "Epoch 118/150\n",
      "34/34 [==============================] - 0s 4ms/step - loss: 0.0234 - mse: 0.0234 - val_loss: 0.0680 - val_mse: 0.0680\n",
      "Epoch 119/150\n",
      "34/34 [==============================] - 0s 4ms/step - loss: 0.0233 - mse: 0.0233 - val_loss: 0.0680 - val_mse: 0.0680\n",
      "Epoch 120/150\n",
      "34/34 [==============================] - 0s 4ms/step - loss: 0.0233 - mse: 0.0233 - val_loss: 0.0682 - val_mse: 0.0682\n",
      "Epoch 121/150\n",
      "34/34 [==============================] - 0s 4ms/step - loss: 0.0230 - mse: 0.0230 - val_loss: 0.0685 - val_mse: 0.0685\n",
      "Epoch 122/150\n",
      "34/34 [==============================] - 0s 4ms/step - loss: 0.0228 - mse: 0.0228 - val_loss: 0.0695 - val_mse: 0.0695\n",
      "Epoch 123/150\n",
      "34/34 [==============================] - 0s 4ms/step - loss: 0.0228 - mse: 0.0228 - val_loss: 0.0692 - val_mse: 0.0692\n",
      "Epoch 124/150\n",
      "34/34 [==============================] - 0s 4ms/step - loss: 0.0226 - mse: 0.0226 - val_loss: 0.0687 - val_mse: 0.0687\n"
     ]
    },
    {
     "name": "stdout",
     "output_type": "stream",
     "text": [
      "Epoch 125/150\n",
      "34/34 [==============================] - 0s 4ms/step - loss: 0.0225 - mse: 0.0225 - val_loss: 0.0687 - val_mse: 0.0687\n",
      "Epoch 126/150\n",
      "34/34 [==============================] - 0s 4ms/step - loss: 0.0224 - mse: 0.0224 - val_loss: 0.0684 - val_mse: 0.0684\n",
      "Epoch 127/150\n",
      "34/34 [==============================] - 0s 4ms/step - loss: 0.0221 - mse: 0.0221 - val_loss: 0.0685 - val_mse: 0.0685\n",
      "Epoch 128/150\n",
      "34/34 [==============================] - 0s 4ms/step - loss: 0.0221 - mse: 0.0221 - val_loss: 0.0683 - val_mse: 0.0683\n",
      "Epoch 129/150\n",
      "34/34 [==============================] - 0s 4ms/step - loss: 0.0219 - mse: 0.0219 - val_loss: 0.0686 - val_mse: 0.0686\n",
      "Epoch 130/150\n",
      "34/34 [==============================] - 0s 4ms/step - loss: 0.0219 - mse: 0.0219 - val_loss: 0.0685 - val_mse: 0.0685\n",
      "Epoch 131/150\n",
      "34/34 [==============================] - 0s 4ms/step - loss: 0.0219 - mse: 0.0219 - val_loss: 0.0688 - val_mse: 0.0688\n",
      "Epoch 132/150\n",
      "34/34 [==============================] - 0s 4ms/step - loss: 0.0216 - mse: 0.0216 - val_loss: 0.0683 - val_mse: 0.0683\n",
      "Epoch 133/150\n",
      "34/34 [==============================] - 0s 4ms/step - loss: 0.0214 - mse: 0.0214 - val_loss: 0.0682 - val_mse: 0.0682\n",
      "Epoch 134/150\n",
      "34/34 [==============================] - 0s 4ms/step - loss: 0.0214 - mse: 0.0214 - val_loss: 0.0689 - val_mse: 0.0689\n",
      "Epoch 135/150\n",
      "34/34 [==============================] - 0s 4ms/step - loss: 0.0212 - mse: 0.0212 - val_loss: 0.0681 - val_mse: 0.0681\n",
      "Epoch 136/150\n",
      "34/34 [==============================] - 0s 4ms/step - loss: 0.0210 - mse: 0.0210 - val_loss: 0.0678 - val_mse: 0.0678\n",
      "Epoch 137/150\n",
      "34/34 [==============================] - 0s 4ms/step - loss: 0.0210 - mse: 0.0210 - val_loss: 0.0683 - val_mse: 0.0683\n",
      "Epoch 138/150\n",
      "34/34 [==============================] - 0s 4ms/step - loss: 0.0208 - mse: 0.0208 - val_loss: 0.0689 - val_mse: 0.0689\n",
      "Epoch 139/150\n",
      "34/34 [==============================] - 0s 4ms/step - loss: 0.0208 - mse: 0.0208 - val_loss: 0.0683 - val_mse: 0.0683\n",
      "Epoch 140/150\n",
      "34/34 [==============================] - 0s 4ms/step - loss: 0.0205 - mse: 0.0205 - val_loss: 0.0680 - val_mse: 0.0680\n",
      "Epoch 141/150\n",
      "34/34 [==============================] - 0s 4ms/step - loss: 0.0206 - mse: 0.0206 - val_loss: 0.0678 - val_mse: 0.0678\n",
      "Epoch 142/150\n",
      "34/34 [==============================] - 0s 4ms/step - loss: 0.0204 - mse: 0.0204 - val_loss: 0.0691 - val_mse: 0.0691\n",
      "Epoch 143/150\n",
      "34/34 [==============================] - 0s 4ms/step - loss: 0.0203 - mse: 0.0203 - val_loss: 0.0676 - val_mse: 0.0676\n",
      "Epoch 144/150\n",
      "34/34 [==============================] - 0s 4ms/step - loss: 0.0201 - mse: 0.0201 - val_loss: 0.0689 - val_mse: 0.0689\n",
      "Epoch 145/150\n",
      "34/34 [==============================] - 0s 4ms/step - loss: 0.0200 - mse: 0.0200 - val_loss: 0.0685 - val_mse: 0.0685\n",
      "Epoch 146/150\n",
      "34/34 [==============================] - 0s 4ms/step - loss: 0.0199 - mse: 0.0199 - val_loss: 0.0685 - val_mse: 0.0685\n",
      "Epoch 147/150\n",
      "34/34 [==============================] - 0s 4ms/step - loss: 0.0199 - mse: 0.0199 - val_loss: 0.0686 - val_mse: 0.0686\n",
      "Epoch 148/150\n",
      "34/34 [==============================] - 0s 4ms/step - loss: 0.0197 - mse: 0.0197 - val_loss: 0.0680 - val_mse: 0.0680\n",
      "Epoch 149/150\n",
      "34/34 [==============================] - 0s 4ms/step - loss: 0.0196 - mse: 0.0196 - val_loss: 0.0686 - val_mse: 0.0686\n",
      "Epoch 150/150\n",
      "34/34 [==============================] - 0s 4ms/step - loss: 0.0195 - mse: 0.0195 - val_loss: 0.0684 - val_mse: 0.0684\n"
     ]
    }
   ],
   "source": [
    "# Model with all normalized inputs and outputs\n",
    "np.random.seed(123)\n",
    "normalized_model = Sequential()\n",
    "normalized_model.add(layers.Dense(100, activation='relu', input_shape=(n_features,)))\n",
    "normalized_model.add(layers.Dense(50, activation='relu'))\n",
    "normalized_model.add(layers.Dense(1, activation='linear'))\n",
    "\n",
    "# Compile the model\n",
    "normalized_model.compile(optimizer='SGD', \n",
    "                         loss='mse', \n",
    "                         metrics=['mse']) \n",
    "\n",
    "# Train the model\n",
    "history = normalized_model.fit(X_train_scaled, \n",
    "                     y_train_scaled, \n",
    "                     batch_size=32, \n",
    "                     epochs=150, \n",
    "                     validation_data=(X_val_scaled, y_val_scaled))"
   ]
  },
  {
   "cell_type": "code",
   "execution_count": 36,
   "metadata": {
    "ExecuteTime": {
     "end_time": "2020-10-18T09:10:29.884740Z",
     "start_time": "2020-10-18T09:10:29.405113Z"
    }
   },
   "outputs": [
    {
     "name": "stdout",
     "output_type": "stream",
     "text": [
      "R-sq score: 0.9365980842628355\n",
      "RMSE: 4.313411321842538\n",
      "MAE: 3.3750813215887976\n"
     ]
    }
   ],
   "source": [
    "nn_metrics(normalized_model)"
   ]
  },
  {
   "cell_type": "code",
   "execution_count": 37,
   "metadata": {
    "ExecuteTime": {
     "end_time": "2020-10-18T09:10:45.400874Z",
     "start_time": "2020-10-18T09:10:45.050572Z"
    }
   },
   "outputs": [
    {
     "data": {
      "text/html": [
       "<div>\n",
       "<style scoped>\n",
       "    .dataframe tbody tr th:only-of-type {\n",
       "        vertical-align: middle;\n",
       "    }\n",
       "\n",
       "    .dataframe tbody tr th {\n",
       "        vertical-align: top;\n",
       "    }\n",
       "\n",
       "    .dataframe thead th {\n",
       "        text-align: right;\n",
       "    }\n",
       "</style>\n",
       "<table border=\"1\" class=\"dataframe\">\n",
       "  <thead>\n",
       "    <tr style=\"text-align: right;\">\n",
       "      <th></th>\n",
       "      <th>Model</th>\n",
       "      <th>R-sq</th>\n",
       "      <th>RMSE</th>\n",
       "      <th>MAE</th>\n",
       "    </tr>\n",
       "  </thead>\n",
       "  <tbody>\n",
       "    <tr>\n",
       "      <td>0</td>\n",
       "      <td>NN-normalized</td>\n",
       "      <td>0.936273</td>\n",
       "      <td>4.3311</td>\n",
       "      <td>3.45474</td>\n",
       "    </tr>\n",
       "  </tbody>\n",
       "</table>\n",
       "</div>"
      ],
      "text/plain": [
       "           Model      R-sq    RMSE      MAE\n",
       "0  NN-normalized  0.936273  4.3311  3.45474"
      ]
     },
     "execution_count": 37,
     "metadata": {},
     "output_type": "execute_result"
    }
   ],
   "source": [
    "# Generate predictions on test data\n",
    "y_test_pred_scaled = normalized_model.predict(X_test_scaled)\n",
    "\n",
    "# Transform the predictions back to original scale\n",
    "y_test_pred = ss_y.inverse_transform(y_test_pred_scaled)\n",
    "\n",
    "nnR2 =  r2_score(y_test,y_test_pred)\n",
    "nnRMSE = np.sqrt(mse(y_test, y_test_pred))\n",
    "nnMAE = mae(y_test, y_test_pred)\n",
    "\n",
    "nn = pd.DataFrame(['NN-normalized', nnR2, nnRMSE, nnMAE])\n",
    "nn = pd.DataFrame.transpose(nn)\n",
    "nn.columns = ['Model', 'R-sq', 'RMSE', 'MAE']\n",
    "nn"
   ]
  },
  {
   "cell_type": "markdown",
   "metadata": {},
   "source": [
    "As the first neural network made the model performed well. It is comparable to our linear model with only a slight decrease in its performance. Other optimizers will have to be compared to get the best overview of neural networks"
   ]
  },
  {
   "cell_type": "code",
   "execution_count": 38,
   "metadata": {
    "ExecuteTime": {
     "end_time": "2020-10-18T09:11:00.246136Z",
     "start_time": "2020-10-18T09:11:00.215891Z"
    }
   },
   "outputs": [],
   "source": [
    "def plot_performance(model):\n",
    "    \"\"\"\n",
    "    Input a trained model.\n",
    "    \n",
    "    Outputs plots of the Training and Validation mse and loss.  \n",
    "    \"\"\"\n",
    "    \n",
    "    mse = model.history['mse']\n",
    "    val_mse = model.history['val_mse']\n",
    "    loss = model.history['loss']\n",
    "    val_loss = model.history['val_loss']\n",
    "    epochs = range(len(mse))\n",
    "    \n",
    "    plt.plot(epochs, mse, 'blue', label='Training MSE')\n",
    "    plt.plot(epochs, val_mse, 'red', label='Validation MSE')\n",
    "    plt.title('Training and Validation MSE')\n",
    "    plt.legend()\n",
    "    \n",
    "    plt.figure()\n",
    "    plt.plot(epochs, loss, 'blue', label='Training Loss')\n",
    "    plt.plot(epochs, val_loss, 'red', label='Validation Loss')\n",
    "    plt.title('Training and Validation loss')\n",
    "    plt.legend()\n",
    "    plt.show()"
   ]
  },
  {
   "cell_type": "code",
   "execution_count": 39,
   "metadata": {
    "ExecuteTime": {
     "end_time": "2020-10-18T09:11:15.812509Z",
     "start_time": "2020-10-18T09:11:15.070981Z"
    }
   },
   "outputs": [
    {
     "data": {
      "image/png": "[encoded data removed]",
      "text/plain": [
       "<Figure size 432x288 with 1 Axes>"
      ]
     },
     "metadata": {
      "needs_background": "light"
     },
     "output_type": "display_data"
    },
    {
     "data": {
      "image/png": "[encoded data removed]",
      "text/plain": [
       "<Figure size 432x288 with 1 Axes>"
      ]
     },
     "metadata": {
      "needs_background": "light"
     },
     "output_type": "display_data"
    }
   ],
   "source": [
    "plot_performance(history)"
   ]
  },
  {
   "cell_type": "markdown",
   "metadata": {},
   "source": [
    "## he"
   ]
  },
  {
   "cell_type": "code",
   "execution_count": 40,
   "metadata": {
    "ExecuteTime": {
     "end_time": "2020-10-18T09:11:53.393990Z",
     "start_time": "2020-10-18T09:11:30.743173Z"
    }
   },
   "outputs": [
    {
     "name": "stdout",
     "output_type": "stream",
     "text": [
      "Epoch 1/150\n",
      "34/34 [==============================] - 1s 17ms/step - loss: 0.4994 - mse: 0.4994 - val_loss: 92762.7344 - val_mse: 92762.7344\n",
      "Epoch 2/150\n",
      "34/34 [==============================] - 0s 4ms/step - loss: 0.2420 - mse: 0.2420 - val_loss: 76907.5391 - val_mse: 76907.5391\n",
      "Epoch 3/150\n",
      "34/34 [==============================] - 0s 4ms/step - loss: 0.1913 - mse: 0.1913 - val_loss: 79829.7031 - val_mse: 79829.7031\n",
      "Epoch 4/150\n",
      "34/34 [==============================] - 0s 4ms/step - loss: 0.1643 - mse: 0.1643 - val_loss: 80152.4844 - val_mse: 80152.4844\n",
      "Epoch 5/150\n",
      "34/34 [==============================] - 0s 4ms/step - loss: 0.1477 - mse: 0.1477 - val_loss: 87932.4531 - val_mse: 87932.4531\n",
      "Epoch 6/150\n",
      "34/34 [==============================] - 0s 4ms/step - loss: 0.1338 - mse: 0.1338 - val_loss: 82235.8047 - val_mse: 82235.8047\n",
      "Epoch 7/150\n",
      "34/34 [==============================] - 0s 4ms/step - loss: 0.1246 - mse: 0.1246 - val_loss: 86996.4062 - val_mse: 86996.4062\n",
      "Epoch 8/150\n",
      "34/34 [==============================] - 0s 4ms/step - loss: 0.1164 - mse: 0.1164 - val_loss: 35760.3242 - val_mse: 35760.3242\n",
      "Epoch 9/150\n",
      "34/34 [==============================] - 0s 4ms/step - loss: 0.1105 - mse: 0.1105 - val_loss: 82929.7188 - val_mse: 82929.7188\n",
      "Epoch 10/150\n",
      "34/34 [==============================] - 0s 4ms/step - loss: 0.1049 - mse: 0.1049 - val_loss: 41273.6953 - val_mse: 41273.6953\n",
      "Epoch 11/150\n",
      "34/34 [==============================] - 0s 4ms/step - loss: 0.1016 - mse: 0.1016 - val_loss: 63458.3047 - val_mse: 63458.3047\n",
      "Epoch 12/150\n",
      "34/34 [==============================] - 0s 3ms/step - loss: 0.0953 - mse: 0.0953 - val_loss: 75499.7578 - val_mse: 75499.7578\n",
      "Epoch 13/150\n",
      "34/34 [==============================] - 0s 4ms/step - loss: 0.0926 - mse: 0.0926 - val_loss: 45170.7617 - val_mse: 45170.7617\n",
      "Epoch 14/150\n",
      "34/34 [==============================] - 0s 4ms/step - loss: 0.0890 - mse: 0.0890 - val_loss: 88288.8906 - val_mse: 88288.8906\n",
      "Epoch 15/150\n",
      "34/34 [==============================] - 0s 4ms/step - loss: 0.0870 - mse: 0.0870 - val_loss: 63257.9258 - val_mse: 63257.9258\n",
      "Epoch 16/150\n",
      "34/34 [==============================] - 0s 4ms/step - loss: 0.0836 - mse: 0.0836 - val_loss: 46674.6758 - val_mse: 46674.6758\n",
      "Epoch 17/150\n",
      "34/34 [==============================] - 0s 4ms/step - loss: 0.0825 - mse: 0.0825 - val_loss: 52899.3594 - val_mse: 52899.3594\n",
      "Epoch 18/150\n",
      "34/34 [==============================] - 0s 4ms/step - loss: 0.0795 - mse: 0.0795 - val_loss: 26871.8555 - val_mse: 26871.8555\n",
      "Epoch 19/150\n",
      "34/34 [==============================] - 0s 4ms/step - loss: 0.0777 - mse: 0.0777 - val_loss: 54053.4336 - val_mse: 54053.4336\n",
      "Epoch 20/150\n",
      "34/34 [==============================] - 0s 4ms/step - loss: 0.0761 - mse: 0.0761 - val_loss: 54138.5391 - val_mse: 54138.5391\n",
      "Epoch 21/150\n",
      "34/34 [==============================] - 0s 4ms/step - loss: 0.0745 - mse: 0.0745 - val_loss: 44467.4062 - val_mse: 44467.4062\n",
      "Epoch 22/150\n",
      "34/34 [==============================] - 0s 4ms/step - loss: 0.0729 - mse: 0.0729 - val_loss: 44970.7891 - val_mse: 44970.7891\n",
      "Epoch 23/150\n",
      "34/34 [==============================] - 0s 4ms/step - loss: 0.0710 - mse: 0.0710 - val_loss: 35169.4141 - val_mse: 35169.4141\n",
      "Epoch 24/150\n",
      "34/34 [==============================] - 0s 4ms/step - loss: 0.0696 - mse: 0.0696 - val_loss: 24327.5039 - val_mse: 24327.5039\n",
      "Epoch 25/150\n",
      "34/34 [==============================] - 0s 4ms/step - loss: 0.0685 - mse: 0.0685 - val_loss: 35628.7500 - val_mse: 35628.7500\n",
      "Epoch 26/150\n",
      "34/34 [==============================] - 0s 4ms/step - loss: 0.0673 - mse: 0.0673 - val_loss: 32471.3652 - val_mse: 32471.3652\n",
      "Epoch 27/150\n",
      "34/34 [==============================] - 0s 4ms/step - loss: 0.0665 - mse: 0.0665 - val_loss: 41100.8398 - val_mse: 41100.8398\n",
      "Epoch 28/150\n",
      "34/34 [==============================] - 0s 4ms/step - loss: 0.0647 - mse: 0.0647 - val_loss: 20814.7031 - val_mse: 20814.7031\n",
      "Epoch 29/150\n",
      "34/34 [==============================] - 0s 4ms/step - loss: 0.0649 - mse: 0.0649 - val_loss: 51340.8320 - val_mse: 51340.8320\n",
      "Epoch 30/150\n",
      "34/34 [==============================] - 0s 4ms/step - loss: 0.0630 - mse: 0.0630 - val_loss: 30657.5098 - val_mse: 30657.5098\n",
      "Epoch 31/150\n",
      "34/34 [==============================] - 0s 4ms/step - loss: 0.0617 - mse: 0.0617 - val_loss: 42817.4766 - val_mse: 42817.4766\n",
      "Epoch 32/150\n",
      "34/34 [==============================] - 0s 4ms/step - loss: 0.0611 - mse: 0.0611 - val_loss: 30587.0371 - val_mse: 30587.0371\n",
      "Epoch 33/150\n",
      "34/34 [==============================] - 0s 4ms/step - loss: 0.0599 - mse: 0.0599 - val_loss: 22160.8223 - val_mse: 22160.8223\n",
      "Epoch 34/150\n",
      "34/34 [==============================] - 0s 4ms/step - loss: 0.0591 - mse: 0.0591 - val_loss: 32853.6250 - val_mse: 32853.6250\n",
      "Epoch 35/150\n",
      "34/34 [==============================] - 0s 4ms/step - loss: 0.0588 - mse: 0.0588 - val_loss: 23815.9336 - val_mse: 23815.9336\n",
      "Epoch 36/150\n",
      "34/34 [==============================] - 0s 4ms/step - loss: 0.0581 - mse: 0.0581 - val_loss: 31988.8320 - val_mse: 31988.8320\n",
      "Epoch 37/150\n",
      "34/34 [==============================] - 0s 4ms/step - loss: 0.0568 - mse: 0.0568 - val_loss: 28291.0703 - val_mse: 28291.0703\n",
      "Epoch 38/150\n",
      "34/34 [==============================] - 0s 4ms/step - loss: 0.0575 - mse: 0.0575 - val_loss: 23196.0723 - val_mse: 23196.0723\n",
      "Epoch 39/150\n",
      "34/34 [==============================] - 0s 4ms/step - loss: 0.0557 - mse: 0.0557 - val_loss: 16103.4336 - val_mse: 16103.4336\n",
      "Epoch 40/150\n",
      "34/34 [==============================] - 0s 4ms/step - loss: 0.0551 - mse: 0.0551 - val_loss: 23954.0215 - val_mse: 23954.0215\n",
      "Epoch 41/150\n",
      "34/34 [==============================] - 0s 4ms/step - loss: 0.0543 - mse: 0.0543 - val_loss: 27278.0664 - val_mse: 27278.0664\n",
      "Epoch 42/150\n",
      "34/34 [==============================] - 0s 4ms/step - loss: 0.0536 - mse: 0.0536 - val_loss: 16562.0723 - val_mse: 16562.0723\n",
      "Epoch 43/150\n",
      "34/34 [==============================] - 0s 4ms/step - loss: 0.0529 - mse: 0.0529 - val_loss: 16716.3359 - val_mse: 16716.3359\n",
      "Epoch 44/150\n",
      "34/34 [==============================] - 0s 4ms/step - loss: 0.0525 - mse: 0.0525 - val_loss: 26040.9473 - val_mse: 26040.9473\n",
      "Epoch 45/150\n",
      "34/34 [==============================] - 0s 4ms/step - loss: 0.0521 - mse: 0.0521 - val_loss: 23988.1895 - val_mse: 23988.1895\n",
      "Epoch 46/150\n",
      "34/34 [==============================] - 0s 4ms/step - loss: 0.0510 - mse: 0.0510 - val_loss: 18626.2754 - val_mse: 18626.2754\n",
      "Epoch 47/150\n",
      "34/34 [==============================] - 0s 4ms/step - loss: 0.0509 - mse: 0.0509 - val_loss: 28634.7363 - val_mse: 28634.7363\n",
      "Epoch 48/150\n",
      "34/34 [==============================] - 0s 4ms/step - loss: 0.0505 - mse: 0.0505 - val_loss: 10466.7266 - val_mse: 10466.7266\n",
      "Epoch 49/150\n",
      "34/34 [==============================] - 0s 4ms/step - loss: 0.0496 - mse: 0.0496 - val_loss: 13340.0459 - val_mse: 13340.0459\n",
      "Epoch 50/150\n",
      "34/34 [==============================] - 0s 4ms/step - loss: 0.0494 - mse: 0.0494 - val_loss: 15379.9346 - val_mse: 15379.9346\n",
      "Epoch 51/150\n",
      "34/34 [==============================] - 0s 4ms/step - loss: 0.0484 - mse: 0.0484 - val_loss: 8875.4580 - val_mse: 8875.4580\n",
      "Epoch 52/150\n",
      "34/34 [==============================] - 0s 4ms/step - loss: 0.0488 - mse: 0.0488 - val_loss: 10931.9307 - val_mse: 10931.9307\n",
      "Epoch 53/150\n",
      "34/34 [==============================] - 0s 4ms/step - loss: 0.0474 - mse: 0.0474 - val_loss: 19532.5215 - val_mse: 19532.5215\n",
      "Epoch 54/150\n",
      "34/34 [==============================] - 0s 4ms/step - loss: 0.0474 - mse: 0.0474 - val_loss: 19250.4551 - val_mse: 19250.4551\n",
      "Epoch 55/150\n",
      "34/34 [==============================] - 0s 4ms/step - loss: 0.0460 - mse: 0.0460 - val_loss: 15290.9863 - val_mse: 15290.9863\n",
      "Epoch 56/150\n",
      "34/34 [==============================] - 0s 4ms/step - loss: 0.0460 - mse: 0.0460 - val_loss: 19009.9062 - val_mse: 19009.9062\n",
      "Epoch 57/150\n",
      "34/34 [==============================] - 0s 4ms/step - loss: 0.0455 - mse: 0.0455 - val_loss: 21065.8828 - val_mse: 21065.8828\n",
      "Epoch 58/150\n",
      "34/34 [==============================] - 0s 4ms/step - loss: 0.0449 - mse: 0.0449 - val_loss: 7165.2109 - val_mse: 7165.2109\n",
      "Epoch 59/150\n",
      "34/34 [==============================] - 0s 4ms/step - loss: 0.0450 - mse: 0.0450 - val_loss: 14198.7676 - val_mse: 14198.7676\n",
      "Epoch 60/150\n",
      "34/34 [==============================] - 0s 4ms/step - loss: 0.0449 - mse: 0.0449 - val_loss: 11628.0176 - val_mse: 11628.0176\n",
      "Epoch 61/150\n",
      "34/34 [==============================] - 0s 4ms/step - loss: 0.0442 - mse: 0.0442 - val_loss: 11222.5635 - val_mse: 11222.5635\n",
      "Epoch 62/150\n",
      "34/34 [==============================] - 0s 4ms/step - loss: 0.0437 - mse: 0.0437 - val_loss: 13675.8340 - val_mse: 13675.8340\n",
      "Epoch 63/150\n",
      "34/34 [==============================] - 0s 4ms/step - loss: 0.0435 - mse: 0.0435 - val_loss: 12808.1836 - val_mse: 12808.1836\n",
      "Epoch 64/150\n",
      "34/34 [==============================] - 0s 4ms/step - loss: 0.0428 - mse: 0.0428 - val_loss: 5695.2446 - val_mse: 5695.2446\n",
      "Epoch 65/150\n",
      "34/34 [==============================] - 0s 4ms/step - loss: 0.0425 - mse: 0.0425 - val_loss: 8848.9346 - val_mse: 8848.9346\n",
      "Epoch 66/150\n",
      "34/34 [==============================] - 0s 4ms/step - loss: 0.0427 - mse: 0.0427 - val_loss: 12364.5518 - val_mse: 12364.5518\n",
      "Epoch 67/150\n",
      "34/34 [==============================] - 0s 4ms/step - loss: 0.0415 - mse: 0.0415 - val_loss: 9218.2178 - val_mse: 9218.2178\n",
      "Epoch 68/150\n",
      "34/34 [==============================] - 0s 4ms/step - loss: 0.0415 - mse: 0.0415 - val_loss: 10820.3574 - val_mse: 10820.3574\n",
      "Epoch 69/150\n",
      "34/34 [==============================] - 0s 5ms/step - loss: 0.0409 - mse: 0.0409 - val_loss: 10652.0400 - val_mse: 10652.0400\n",
      "Epoch 70/150\n",
      "34/34 [==============================] - 0s 4ms/step - loss: 0.0408 - mse: 0.0408 - val_loss: 8653.1611 - val_mse: 8653.1611\n",
      "Epoch 71/150\n",
      "34/34 [==============================] - 0s 4ms/step - loss: 0.0406 - mse: 0.0406 - val_loss: 7947.8296 - val_mse: 7947.8296\n",
      "Epoch 72/150\n",
      "34/34 [==============================] - 0s 4ms/step - loss: 0.0399 - mse: 0.0399 - val_loss: 13707.8340 - val_mse: 13707.8340\n",
      "Epoch 73/150\n",
      "34/34 [==============================] - 0s 4ms/step - loss: 0.0402 - mse: 0.0402 - val_loss: 7882.5820 - val_mse: 7882.5820\n",
      "Epoch 74/150\n",
      "34/34 [==============================] - 0s 4ms/step - loss: 0.0391 - mse: 0.0391 - val_loss: 13703.7256 - val_mse: 13703.7256\n",
      "Epoch 75/150\n",
      "34/34 [==============================] - 0s 4ms/step - loss: 0.0391 - mse: 0.0391 - val_loss: 13744.2490 - val_mse: 13744.2490\n",
      "Epoch 76/150\n",
      "34/34 [==============================] - 0s 4ms/step - loss: 0.0388 - mse: 0.0388 - val_loss: 7536.6123 - val_mse: 7536.6123\n",
      "Epoch 77/150\n",
      "34/34 [==============================] - 0s 4ms/step - loss: 0.0385 - mse: 0.0385 - val_loss: 11537.0684 - val_mse: 11537.0684\n",
      "Epoch 78/150\n",
      "34/34 [==============================] - 0s 4ms/step - loss: 0.0385 - mse: 0.0385 - val_loss: 6657.4673 - val_mse: 6657.4673\n",
      "Epoch 79/150\n",
      "34/34 [==============================] - 0s 4ms/step - loss: 0.0376 - mse: 0.0376 - val_loss: 7622.1064 - val_mse: 7622.1064\n",
      "Epoch 80/150\n",
      "34/34 [==============================] - 0s 4ms/step - loss: 0.0380 - mse: 0.0380 - val_loss: 6777.3857 - val_mse: 6777.3857\n",
      "Epoch 81/150\n",
      "34/34 [==============================] - 0s 4ms/step - loss: 0.0377 - mse: 0.0377 - val_loss: 10144.1797 - val_mse: 10144.1797\n",
      "Epoch 82/150\n",
      "34/34 [==============================] - 0s 4ms/step - loss: 0.0368 - mse: 0.0368 - val_loss: 6204.5527 - val_mse: 6204.5527\n",
      "Epoch 83/150\n",
      "34/34 [==============================] - 0s 4ms/step - loss: 0.0368 - mse: 0.0368 - val_loss: 5420.8779 - val_mse: 5420.8779\n",
      "Epoch 84/150\n",
      "34/34 [==============================] - 0s 4ms/step - loss: 0.0365 - mse: 0.0365 - val_loss: 5723.3599 - val_mse: 5723.3599\n",
      "Epoch 85/150\n",
      "34/34 [==============================] - 0s 4ms/step - loss: 0.0364 - mse: 0.0364 - val_loss: 5452.7856 - val_mse: 5452.7856\n",
      "Epoch 86/150\n",
      "34/34 [==============================] - 0s 4ms/step - loss: 0.0360 - mse: 0.0360 - val_loss: 5601.3345 - val_mse: 5601.3345\n",
      "Epoch 87/150\n",
      "34/34 [==============================] - 0s 4ms/step - loss: 0.0359 - mse: 0.0359 - val_loss: 5205.1694 - val_mse: 5205.1694\n",
      "Epoch 88/150\n",
      "34/34 [==============================] - 0s 4ms/step - loss: 0.0359 - mse: 0.0359 - val_loss: 8416.7783 - val_mse: 8416.7783\n",
      "Epoch 89/150\n",
      "34/34 [==============================] - 0s 4ms/step - loss: 0.0353 - mse: 0.0353 - val_loss: 7735.2144 - val_mse: 7735.2144\n",
      "Epoch 90/150\n",
      "34/34 [==============================] - 0s 4ms/step - loss: 0.0349 - mse: 0.0349 - val_loss: 7749.2446 - val_mse: 7749.2446\n",
      "Epoch 91/150\n",
      "34/34 [==============================] - 0s 4ms/step - loss: 0.0348 - mse: 0.0348 - val_loss: 6607.9951 - val_mse: 6607.9951\n",
      "Epoch 92/150\n",
      "34/34 [==============================] - 0s 4ms/step - loss: 0.0345 - mse: 0.0345 - val_loss: 5699.4849 - val_mse: 5699.4849\n",
      "Epoch 93/150\n",
      "34/34 [==============================] - 0s 4ms/step - loss: 0.0344 - mse: 0.0344 - val_loss: 4056.6685 - val_mse: 4056.6685\n",
      "Epoch 94/150\n",
      "34/34 [==============================] - 0s 4ms/step - loss: 0.0343 - mse: 0.0343 - val_loss: 6562.3418 - val_mse: 6562.3418\n",
      "Epoch 95/150\n",
      "34/34 [==============================] - 0s 4ms/step - loss: 0.0338 - mse: 0.0338 - val_loss: 6791.9673 - val_mse: 6791.9673\n",
      "Epoch 96/150\n",
      "34/34 [==============================] - 0s 4ms/step - loss: 0.0334 - mse: 0.0334 - val_loss: 6371.3740 - val_mse: 6371.3740\n",
      "Epoch 97/150\n",
      "34/34 [==============================] - 0s 4ms/step - loss: 0.0336 - mse: 0.0336 - val_loss: 3524.8586 - val_mse: 3524.8586\n",
      "Epoch 98/150\n",
      "34/34 [==============================] - 0s 4ms/step - loss: 0.0335 - mse: 0.0335 - val_loss: 6326.9297 - val_mse: 6326.9297\n",
      "Epoch 99/150\n",
      "34/34 [==============================] - 0s 4ms/step - loss: 0.0329 - mse: 0.0329 - val_loss: 5178.8989 - val_mse: 5178.8989\n",
      "Epoch 100/150\n",
      "34/34 [==============================] - 0s 4ms/step - loss: 0.0328 - mse: 0.0328 - val_loss: 2489.5073 - val_mse: 2489.5073\n",
      "Epoch 101/150\n",
      "34/34 [==============================] - 0s 4ms/step - loss: 0.0325 - mse: 0.0325 - val_loss: 3399.8757 - val_mse: 3399.8757\n",
      "Epoch 102/150\n",
      "34/34 [==============================] - 0s 4ms/step - loss: 0.0325 - mse: 0.0325 - val_loss: 3146.8970 - val_mse: 3146.8970\n",
      "Epoch 103/150\n",
      "34/34 [==============================] - 0s 4ms/step - loss: 0.0322 - mse: 0.0322 - val_loss: 6679.9033 - val_mse: 6679.9033\n",
      "Epoch 104/150\n",
      "34/34 [==============================] - 0s 4ms/step - loss: 0.0318 - mse: 0.0318 - val_loss: 3565.1550 - val_mse: 3565.1550\n",
      "Epoch 105/150\n",
      "34/34 [==============================] - 0s 4ms/step - loss: 0.0317 - mse: 0.0317 - val_loss: 3911.3499 - val_mse: 3911.3499\n",
      "Epoch 106/150\n",
      "34/34 [==============================] - 0s 4ms/step - loss: 0.0318 - mse: 0.0318 - val_loss: 5760.3979 - val_mse: 5760.3979\n",
      "Epoch 107/150\n",
      "34/34 [==============================] - 0s 4ms/step - loss: 0.0317 - mse: 0.0317 - val_loss: 3136.4043 - val_mse: 3136.4043\n",
      "Epoch 108/150\n",
      "34/34 [==============================] - 0s 4ms/step - loss: 0.0312 - mse: 0.0312 - val_loss: 4459.7783 - val_mse: 4459.7783\n",
      "Epoch 109/150\n",
      "34/34 [==============================] - 0s 3ms/step - loss: 0.0307 - mse: 0.0307 - val_loss: 3154.8145 - val_mse: 3154.8145\n",
      "Epoch 110/150\n",
      "34/34 [==============================] - 0s 4ms/step - loss: 0.0312 - mse: 0.0312 - val_loss: 3273.8162 - val_mse: 3273.8162\n",
      "Epoch 111/150\n",
      "34/34 [==============================] - 0s 4ms/step - loss: 0.0305 - mse: 0.0305 - val_loss: 8022.9653 - val_mse: 8022.9653\n",
      "Epoch 112/150\n",
      "34/34 [==============================] - 0s 3ms/step - loss: 0.0303 - mse: 0.0303 - val_loss: 3425.1030 - val_mse: 3425.1030\n",
      "Epoch 113/150\n",
      "34/34 [==============================] - 0s 3ms/step - loss: 0.0304 - mse: 0.0304 - val_loss: 3288.7939 - val_mse: 3288.7939\n",
      "Epoch 114/150\n",
      "34/34 [==============================] - 0s 4ms/step - loss: 0.0299 - mse: 0.0299 - val_loss: 5448.2192 - val_mse: 5448.2192\n",
      "Epoch 115/150\n",
      "34/34 [==============================] - 0s 4ms/step - loss: 0.0298 - mse: 0.0298 - val_loss: 4306.0913 - val_mse: 4306.0913\n",
      "Epoch 116/150\n",
      "34/34 [==============================] - 0s 4ms/step - loss: 0.0299 - mse: 0.0299 - val_loss: 3878.7009 - val_mse: 3878.7009\n",
      "Epoch 117/150\n",
      "34/34 [==============================] - 0s 4ms/step - loss: 0.0294 - mse: 0.0294 - val_loss: 2944.7925 - val_mse: 2944.7925\n",
      "Epoch 118/150\n"
     ]
    },
    {
     "name": "stdout",
     "output_type": "stream",
     "text": [
      "34/34 [==============================] - 0s 4ms/step - loss: 0.0295 - mse: 0.0295 - val_loss: 4207.7056 - val_mse: 4207.7056\n",
      "Epoch 119/150\n",
      "34/34 [==============================] - 0s 4ms/step - loss: 0.0290 - mse: 0.0290 - val_loss: 6277.9204 - val_mse: 6277.9204\n",
      "Epoch 120/150\n",
      "34/34 [==============================] - 0s 4ms/step - loss: 0.0288 - mse: 0.0288 - val_loss: 4332.6274 - val_mse: 4332.6274\n",
      "Epoch 121/150\n",
      "34/34 [==============================] - 0s 4ms/step - loss: 0.0292 - mse: 0.0292 - val_loss: 2324.3828 - val_mse: 2324.3828\n",
      "Epoch 122/150\n",
      "34/34 [==============================] - 0s 4ms/step - loss: 0.0287 - mse: 0.0287 - val_loss: 3320.1187 - val_mse: 3320.1187\n",
      "Epoch 123/150\n",
      "34/34 [==============================] - 0s 4ms/step - loss: 0.0287 - mse: 0.0287 - val_loss: 1750.3055 - val_mse: 1750.3055\n",
      "Epoch 124/150\n",
      "34/34 [==============================] - 0s 4ms/step - loss: 0.0282 - mse: 0.0282 - val_loss: 3187.7493 - val_mse: 3187.7493\n",
      "Epoch 125/150\n",
      "34/34 [==============================] - 0s 4ms/step - loss: 0.0281 - mse: 0.0281 - val_loss: 2477.2876 - val_mse: 2477.2876\n",
      "Epoch 126/150\n",
      "34/34 [==============================] - 0s 4ms/step - loss: 0.0278 - mse: 0.0278 - val_loss: 2263.8853 - val_mse: 2263.8853\n",
      "Epoch 127/150\n",
      "34/34 [==============================] - 0s 4ms/step - loss: 0.0277 - mse: 0.0277 - val_loss: 4740.4873 - val_mse: 4740.4873\n",
      "Epoch 128/150\n",
      "34/34 [==============================] - 0s 4ms/step - loss: 0.0279 - mse: 0.0279 - val_loss: 3090.9001 - val_mse: 3090.9001\n",
      "Epoch 129/150\n",
      "34/34 [==============================] - 0s 4ms/step - loss: 0.0275 - mse: 0.0275 - val_loss: 1671.4988 - val_mse: 1671.4988\n",
      "Epoch 130/150\n",
      "34/34 [==============================] - 0s 4ms/step - loss: 0.0273 - mse: 0.0273 - val_loss: 2324.5129 - val_mse: 2324.5129\n",
      "Epoch 131/150\n",
      "34/34 [==============================] - 0s 4ms/step - loss: 0.0271 - mse: 0.0271 - val_loss: 4229.4990 - val_mse: 4229.4990\n",
      "Epoch 132/150\n",
      "34/34 [==============================] - 0s 4ms/step - loss: 0.0268 - mse: 0.0268 - val_loss: 1404.0765 - val_mse: 1404.0765\n",
      "Epoch 133/150\n",
      "34/34 [==============================] - 0s 4ms/step - loss: 0.0267 - mse: 0.0267 - val_loss: 5447.2617 - val_mse: 5447.2617\n",
      "Epoch 134/150\n",
      "34/34 [==============================] - 0s 4ms/step - loss: 0.0265 - mse: 0.0265 - val_loss: 2090.3323 - val_mse: 2090.3323\n",
      "Epoch 135/150\n",
      "34/34 [==============================] - 0s 4ms/step - loss: 0.0265 - mse: 0.0265 - val_loss: 3860.4868 - val_mse: 3860.4868\n",
      "Epoch 136/150\n",
      "34/34 [==============================] - 0s 4ms/step - loss: 0.0265 - mse: 0.0265 - val_loss: 2210.6621 - val_mse: 2210.6621\n",
      "Epoch 137/150\n",
      "34/34 [==============================] - 0s 4ms/step - loss: 0.0263 - mse: 0.0263 - val_loss: 1344.2305 - val_mse: 1344.2305\n",
      "Epoch 138/150\n",
      "34/34 [==============================] - 0s 4ms/step - loss: 0.0258 - mse: 0.0258 - val_loss: 1878.6876 - val_mse: 1878.6876\n",
      "Epoch 139/150\n",
      "34/34 [==============================] - 0s 4ms/step - loss: 0.0260 - mse: 0.0260 - val_loss: 1963.4780 - val_mse: 1963.4780\n",
      "Epoch 140/150\n",
      "34/34 [==============================] - 0s 4ms/step - loss: 0.0259 - mse: 0.0259 - val_loss: 2064.8523 - val_mse: 2064.8523\n",
      "Epoch 141/150\n",
      "34/34 [==============================] - 0s 4ms/step - loss: 0.0257 - mse: 0.0257 - val_loss: 2256.7786 - val_mse: 2256.7786\n",
      "Epoch 142/150\n",
      "34/34 [==============================] - 0s 4ms/step - loss: 0.0255 - mse: 0.0255 - val_loss: 2595.1553 - val_mse: 2595.1553\n",
      "Epoch 143/150\n",
      "34/34 [==============================] - 0s 4ms/step - loss: 0.0251 - mse: 0.0251 - val_loss: 1660.3044 - val_mse: 1660.3044\n",
      "Epoch 144/150\n",
      "34/34 [==============================] - 0s 4ms/step - loss: 0.0250 - mse: 0.0250 - val_loss: 1491.9615 - val_mse: 1491.9615\n",
      "Epoch 145/150\n",
      "34/34 [==============================] - 0s 4ms/step - loss: 0.0251 - mse: 0.0251 - val_loss: 1709.0223 - val_mse: 1709.0223\n",
      "Epoch 146/150\n",
      "34/34 [==============================] - 0s 4ms/step - loss: 0.0254 - mse: 0.0254 - val_loss: 1473.1067 - val_mse: 1473.1067\n",
      "Epoch 147/150\n",
      "34/34 [==============================] - 0s 4ms/step - loss: 0.0246 - mse: 0.0246 - val_loss: 2058.6404 - val_mse: 2058.6404\n",
      "Epoch 148/150\n",
      "34/34 [==============================] - 0s 4ms/step - loss: 0.0246 - mse: 0.0246 - val_loss: 1440.9484 - val_mse: 1440.9484\n",
      "Epoch 149/150\n",
      "34/34 [==============================] - 0s 4ms/step - loss: 0.0246 - mse: 0.0246 - val_loss: 1207.5778 - val_mse: 1207.5778\n",
      "Epoch 150/150\n",
      "34/34 [==============================] - 0s 4ms/step - loss: 0.0242 - mse: 0.0242 - val_loss: 1910.8901 - val_mse: 1910.8901\n"
     ]
    },
    {
     "data": {
      "text/plain": [
       "<tensorflow.python.keras.callbacks.History at 0x1aeff808588>"
      ]
     },
     "execution_count": 40,
     "metadata": {},
     "output_type": "execute_result"
    }
   ],
   "source": [
    "np.random.seed(123)\n",
    "he_model = Sequential()\n",
    "\n",
    "# Add the first hidden layer\n",
    "he_model.add(layers.Dense(100, kernel_initializer='he_normal', activation='relu', input_shape=(n_features,)))\n",
    "\n",
    "# Add another hidden layer\n",
    "he_model.add(layers.Dense(50, activation='relu'))\n",
    "\n",
    "# Add an output layer\n",
    "he_model.add(layers.Dense(1, activation='linear'))\n",
    "\n",
    "# Compile the model\n",
    "he_model.compile(optimizer='SGD', \n",
    "                 loss='mse', \n",
    "                 metrics=['mse'])\n",
    "\n",
    "# Train the model\n",
    "he_model.fit(X_train_scaled, \n",
    "             y_train_scaled, \n",
    "             batch_size=32, \n",
    "             epochs=150, \n",
    "             validation_data=(X_val, y_val_scaled))"
   ]
  },
  {
   "cell_type": "code",
   "execution_count": 41,
   "metadata": {
    "ExecuteTime": {
     "end_time": "2020-10-18T09:12:08.918214Z",
     "start_time": "2020-10-18T09:12:08.235733Z"
    }
   },
   "outputs": [
    {
     "name": "stdout",
     "output_type": "stream",
     "text": [
      "R-sq score: 0.921332144109917\n",
      "RMSE: 4.804722838927658\n",
      "MAE: 3.8629642348435596\n"
     ]
    }
   ],
   "source": [
    "nn_metrics(he_model)\n",
    "\n",
    "y_val_pred_scaled = he_model.predict(X_val_scaled)\n",
    "y_val_pred = ss_y.inverse_transform(y_val_pred_scaled)\n",
    "heR2 =  r2_score(y_val, y_val_pred)\n",
    "heRMSE = np.sqrt(mse(y_val, y_val_pred))\n",
    "heMAE = mae(y_val, y_val_pred)"
   ]
  },
  {
   "cell_type": "markdown",
   "metadata": {},
   "source": [
    "The he initializer did well, however in terms of our baseline neural network it is not sufficient nor is it to the linear model"
   ]
  },
  {
   "cell_type": "code",
   "execution_count": 42,
   "metadata": {
    "ExecuteTime": {
     "end_time": "2020-10-18T09:12:23.756651Z",
     "start_time": "2020-10-18T09:12:23.737258Z"
    }
   },
   "outputs": [],
   "source": [
    "he = pd.DataFrame(['NN-he', heR2, heRMSE, heMAE])\n",
    "he = pd.DataFrame.transpose(he)\n",
    "he.columns = ['Model', 'R-sq', 'RMSE', 'MAE']"
   ]
  },
  {
   "cell_type": "markdown",
   "metadata": {},
   "source": [
    "## lecun"
   ]
  },
  {
   "cell_type": "code",
   "execution_count": 43,
   "metadata": {
    "ExecuteTime": {
     "end_time": "2020-10-18T09:13:01.424601Z",
     "start_time": "2020-10-18T09:12:38.663224Z"
    }
   },
   "outputs": [
    {
     "name": "stdout",
     "output_type": "stream",
     "text": [
      "Epoch 1/150\n",
      "34/34 [==============================] - 1s 15ms/step - loss: 0.4461 - mse: 0.4461 - val_loss: 0.2309 - val_mse: 0.2309\n",
      "Epoch 2/150\n",
      "34/34 [==============================] - 0s 4ms/step - loss: 0.2185 - mse: 0.2185 - val_loss: 0.1638 - val_mse: 0.1638\n",
      "Epoch 3/150\n",
      "34/34 [==============================] - 0s 4ms/step - loss: 0.1638 - mse: 0.1638 - val_loss: 0.1389 - val_mse: 0.1389\n",
      "Epoch 4/150\n",
      "34/34 [==============================] - 0s 4ms/step - loss: 0.1381 - mse: 0.1381 - val_loss: 0.1291 - val_mse: 0.1291\n",
      "Epoch 5/150\n",
      "34/34 [==============================] - 0s 4ms/step - loss: 0.1218 - mse: 0.1218 - val_loss: 0.1151 - val_mse: 0.1151\n",
      "Epoch 6/150\n",
      "34/34 [==============================] - 0s 4ms/step - loss: 0.1110 - mse: 0.1110 - val_loss: 0.1094 - val_mse: 0.1094\n",
      "Epoch 7/150\n",
      "34/34 [==============================] - ETA: 0s - loss: 0.1029 - mse: 0.102 - 0s 4ms/step - loss: 0.1023 - mse: 0.1023 - val_loss: 0.1093 - val_mse: 0.1093\n",
      "Epoch 8/150\n",
      "34/34 [==============================] - 0s 4ms/step - loss: 0.0964 - mse: 0.0964 - val_loss: 0.1023 - val_mse: 0.1023\n",
      "Epoch 9/150\n",
      "34/34 [==============================] - 0s 4ms/step - loss: 0.0906 - mse: 0.0906 - val_loss: 0.0986 - val_mse: 0.0986\n",
      "Epoch 10/150\n",
      "34/34 [==============================] - 0s 4ms/step - loss: 0.0866 - mse: 0.0866 - val_loss: 0.0957 - val_mse: 0.0957\n",
      "Epoch 11/150\n",
      "34/34 [==============================] - 0s 4ms/step - loss: 0.0828 - mse: 0.0828 - val_loss: 0.0954 - val_mse: 0.0954\n",
      "Epoch 12/150\n",
      "34/34 [==============================] - 0s 4ms/step - loss: 0.0794 - mse: 0.0794 - val_loss: 0.0994 - val_mse: 0.0994\n",
      "Epoch 13/150\n",
      "34/34 [==============================] - 0s 4ms/step - loss: 0.0769 - mse: 0.0769 - val_loss: 0.0925 - val_mse: 0.0925\n",
      "Epoch 14/150\n",
      "34/34 [==============================] - 0s 4ms/step - loss: 0.0732 - mse: 0.0732 - val_loss: 0.0912 - val_mse: 0.0912\n",
      "Epoch 15/150\n",
      "34/34 [==============================] - 0s 4ms/step - loss: 0.0710 - mse: 0.0710 - val_loss: 0.0907 - val_mse: 0.0907\n",
      "Epoch 16/150\n",
      "34/34 [==============================] - 0s 3ms/step - loss: 0.0695 - mse: 0.0695 - val_loss: 0.0921 - val_mse: 0.0921\n",
      "Epoch 17/150\n",
      "34/34 [==============================] - 0s 4ms/step - loss: 0.0672 - mse: 0.0672 - val_loss: 0.0881 - val_mse: 0.0881\n",
      "Epoch 18/150\n",
      "34/34 [==============================] - 0s 4ms/step - loss: 0.0653 - mse: 0.0653 - val_loss: 0.0884 - val_mse: 0.0884\n",
      "Epoch 19/150\n",
      "34/34 [==============================] - 0s 4ms/step - loss: 0.0634 - mse: 0.0634 - val_loss: 0.0875 - val_mse: 0.0875\n",
      "Epoch 20/150\n",
      "34/34 [==============================] - 0s 4ms/step - loss: 0.0614 - mse: 0.0614 - val_loss: 0.0889 - val_mse: 0.0889\n",
      "Epoch 21/150\n",
      "34/34 [==============================] - 0s 4ms/step - loss: 0.0604 - mse: 0.0604 - val_loss: 0.0857 - val_mse: 0.0857\n",
      "Epoch 22/150\n",
      "34/34 [==============================] - 0s 4ms/step - loss: 0.0591 - mse: 0.0591 - val_loss: 0.0862 - val_mse: 0.0862\n",
      "Epoch 23/150\n",
      "34/34 [==============================] - 0s 4ms/step - loss: 0.0574 - mse: 0.0574 - val_loss: 0.0863 - val_mse: 0.0863\n",
      "Epoch 24/150\n",
      "34/34 [==============================] - 0s 4ms/step - loss: 0.0562 - mse: 0.0562 - val_loss: 0.0912 - val_mse: 0.0912\n",
      "Epoch 25/150\n",
      "34/34 [==============================] - 0s 4ms/step - loss: 0.0549 - mse: 0.0549 - val_loss: 0.0858 - val_mse: 0.0858\n",
      "Epoch 26/150\n",
      "34/34 [==============================] - 0s 4ms/step - loss: 0.0540 - mse: 0.0540 - val_loss: 0.0838 - val_mse: 0.0838\n",
      "Epoch 27/150\n",
      "34/34 [==============================] - 0s 4ms/step - loss: 0.0528 - mse: 0.0528 - val_loss: 0.0852 - val_mse: 0.0852\n",
      "Epoch 28/150\n",
      "34/34 [==============================] - 0s 4ms/step - loss: 0.0519 - mse: 0.0519 - val_loss: 0.0839 - val_mse: 0.0839\n",
      "Epoch 29/150\n",
      "34/34 [==============================] - 0s 4ms/step - loss: 0.0511 - mse: 0.0511 - val_loss: 0.0863 - val_mse: 0.0863\n",
      "Epoch 30/150\n",
      "34/34 [==============================] - 0s 4ms/step - loss: 0.0501 - mse: 0.0501 - val_loss: 0.0830 - val_mse: 0.0830\n",
      "Epoch 31/150\n",
      "34/34 [==============================] - 0s 4ms/step - loss: 0.0490 - mse: 0.0490 - val_loss: 0.0847 - val_mse: 0.0847\n",
      "Epoch 32/150\n",
      "34/34 [==============================] - 0s 4ms/step - loss: 0.0486 - mse: 0.0486 - val_loss: 0.0839 - val_mse: 0.0839\n",
      "Epoch 33/150\n",
      "34/34 [==============================] - 0s 4ms/step - loss: 0.0481 - mse: 0.0481 - val_loss: 0.0828 - val_mse: 0.0828\n",
      "Epoch 34/150\n",
      "34/34 [==============================] - 0s 4ms/step - loss: 0.0467 - mse: 0.0467 - val_loss: 0.0830 - val_mse: 0.0830\n",
      "Epoch 35/150\n",
      "34/34 [==============================] - 0s 4ms/step - loss: 0.0463 - mse: 0.0463 - val_loss: 0.0820 - val_mse: 0.0820\n",
      "Epoch 36/150\n",
      "34/34 [==============================] - 0s 4ms/step - loss: 0.0458 - mse: 0.0458 - val_loss: 0.0834 - val_mse: 0.0834\n",
      "Epoch 37/150\n",
      "34/34 [==============================] - 0s 4ms/step - loss: 0.0454 - mse: 0.0454 - val_loss: 0.0814 - val_mse: 0.0814\n",
      "Epoch 38/150\n",
      "34/34 [==============================] - 0s 4ms/step - loss: 0.0439 - mse: 0.0439 - val_loss: 0.0818 - val_mse: 0.0818\n",
      "Epoch 39/150\n",
      "34/34 [==============================] - 0s 4ms/step - loss: 0.0433 - mse: 0.0433 - val_loss: 0.0832 - val_mse: 0.0832\n",
      "Epoch 40/150\n",
      "34/34 [==============================] - 0s 4ms/step - loss: 0.0430 - mse: 0.0430 - val_loss: 0.0817 - val_mse: 0.0817\n",
      "Epoch 41/150\n",
      "34/34 [==============================] - 0s 4ms/step - loss: 0.0418 - mse: 0.0418 - val_loss: 0.0828 - val_mse: 0.0828\n",
      "Epoch 42/150\n",
      "34/34 [==============================] - 0s 4ms/step - loss: 0.0419 - mse: 0.0419 - val_loss: 0.0814 - val_mse: 0.0814\n",
      "Epoch 43/150\n",
      "34/34 [==============================] - 0s 4ms/step - loss: 0.0413 - mse: 0.0413 - val_loss: 0.0808 - val_mse: 0.0808\n",
      "Epoch 44/150\n",
      "34/34 [==============================] - 0s 4ms/step - loss: 0.0410 - mse: 0.0410 - val_loss: 0.0816 - val_mse: 0.0816\n",
      "Epoch 45/150\n",
      "34/34 [==============================] - 0s 4ms/step - loss: 0.0401 - mse: 0.0401 - val_loss: 0.0808 - val_mse: 0.0808\n",
      "Epoch 46/150\n",
      "34/34 [==============================] - 0s 4ms/step - loss: 0.0398 - mse: 0.0398 - val_loss: 0.0802 - val_mse: 0.0802\n",
      "Epoch 47/150\n",
      "34/34 [==============================] - 0s 4ms/step - loss: 0.0391 - mse: 0.0391 - val_loss: 0.0804 - val_mse: 0.0804\n",
      "Epoch 48/150\n",
      "34/34 [==============================] - 0s 4ms/step - loss: 0.0386 - mse: 0.0386 - val_loss: 0.0843 - val_mse: 0.0843\n",
      "Epoch 49/150\n",
      "34/34 [==============================] - 0s 4ms/step - loss: 0.0382 - mse: 0.0382 - val_loss: 0.0802 - val_mse: 0.0802\n",
      "Epoch 50/150\n",
      "34/34 [==============================] - 0s 4ms/step - loss: 0.0379 - mse: 0.0379 - val_loss: 0.0801 - val_mse: 0.0801\n",
      "Epoch 51/150\n",
      "34/34 [==============================] - 0s 4ms/step - loss: 0.0373 - mse: 0.0373 - val_loss: 0.0810 - val_mse: 0.0810\n",
      "Epoch 52/150\n",
      "34/34 [==============================] - 0s 4ms/step - loss: 0.0369 - mse: 0.0369 - val_loss: 0.0801 - val_mse: 0.0801\n",
      "Epoch 53/150\n",
      "34/34 [==============================] - 0s 4ms/step - loss: 0.0364 - mse: 0.0364 - val_loss: 0.0796 - val_mse: 0.0796\n",
      "Epoch 54/150\n",
      "34/34 [==============================] - 0s 4ms/step - loss: 0.0359 - mse: 0.0359 - val_loss: 0.0800 - val_mse: 0.0800\n",
      "Epoch 55/150\n",
      "34/34 [==============================] - 0s 4ms/step - loss: 0.0358 - mse: 0.0358 - val_loss: 0.0805 - val_mse: 0.0805\n",
      "Epoch 56/150\n",
      "34/34 [==============================] - 0s 4ms/step - loss: 0.0353 - mse: 0.0353 - val_loss: 0.0802 - val_mse: 0.0802\n",
      "Epoch 57/150\n",
      "34/34 [==============================] - 0s 4ms/step - loss: 0.0350 - mse: 0.0350 - val_loss: 0.0812 - val_mse: 0.0812\n",
      "Epoch 58/150\n",
      "34/34 [==============================] - 0s 4ms/step - loss: 0.0346 - mse: 0.0346 - val_loss: 0.0792 - val_mse: 0.0792\n",
      "Epoch 59/150\n",
      "34/34 [==============================] - 0s 4ms/step - loss: 0.0343 - mse: 0.0343 - val_loss: 0.0800 - val_mse: 0.0800\n",
      "Epoch 60/150\n",
      "34/34 [==============================] - 0s 4ms/step - loss: 0.0337 - mse: 0.0337 - val_loss: 0.0790 - val_mse: 0.0790\n",
      "Epoch 61/150\n",
      "34/34 [==============================] - 0s 3ms/step - loss: 0.0335 - mse: 0.0335 - val_loss: 0.0808 - val_mse: 0.0808\n",
      "Epoch 62/150\n",
      "34/34 [==============================] - 0s 4ms/step - loss: 0.0332 - mse: 0.0332 - val_loss: 0.0816 - val_mse: 0.0816\n"
     ]
    },
    {
     "name": "stdout",
     "output_type": "stream",
     "text": [
      "Epoch 63/150\n",
      "34/34 [==============================] - 0s 3ms/step - loss: 0.0328 - mse: 0.0328 - val_loss: 0.0798 - val_mse: 0.0798\n",
      "Epoch 64/150\n",
      "34/34 [==============================] - 0s 4ms/step - loss: 0.0327 - mse: 0.0327 - val_loss: 0.0796 - val_mse: 0.0796\n",
      "Epoch 65/150\n",
      "34/34 [==============================] - 0s 4ms/step - loss: 0.0323 - mse: 0.0323 - val_loss: 0.0800 - val_mse: 0.0800\n",
      "Epoch 66/150\n",
      "34/34 [==============================] - 0s 4ms/step - loss: 0.0321 - mse: 0.0321 - val_loss: 0.0794 - val_mse: 0.0794\n",
      "Epoch 67/150\n",
      "34/34 [==============================] - 0s 4ms/step - loss: 0.0319 - mse: 0.0319 - val_loss: 0.0792 - val_mse: 0.0792\n",
      "Epoch 68/150\n",
      "34/34 [==============================] - 0s 4ms/step - loss: 0.0311 - mse: 0.0311 - val_loss: 0.0795 - val_mse: 0.0795\n",
      "Epoch 69/150\n",
      "34/34 [==============================] - 0s 4ms/step - loss: 0.0311 - mse: 0.0311 - val_loss: 0.0793 - val_mse: 0.0793\n",
      "Epoch 70/150\n",
      "34/34 [==============================] - 0s 4ms/step - loss: 0.0309 - mse: 0.0309 - val_loss: 0.0791 - val_mse: 0.0791\n",
      "Epoch 71/150\n",
      "34/34 [==============================] - 0s 4ms/step - loss: 0.0304 - mse: 0.0304 - val_loss: 0.0818 - val_mse: 0.0818\n",
      "Epoch 72/150\n",
      "34/34 [==============================] - 0s 4ms/step - loss: 0.0299 - mse: 0.0299 - val_loss: 0.0834 - val_mse: 0.0834\n",
      "Epoch 73/150\n",
      "34/34 [==============================] - 0s 4ms/step - loss: 0.0300 - mse: 0.0300 - val_loss: 0.0813 - val_mse: 0.0813\n",
      "Epoch 74/150\n",
      "34/34 [==============================] - 0s 4ms/step - loss: 0.0299 - mse: 0.0299 - val_loss: 0.0792 - val_mse: 0.0792\n",
      "Epoch 75/150\n",
      "34/34 [==============================] - 0s 4ms/step - loss: 0.0294 - mse: 0.0294 - val_loss: 0.0788 - val_mse: 0.0788\n",
      "Epoch 76/150\n",
      "34/34 [==============================] - 0s 4ms/step - loss: 0.0291 - mse: 0.0291 - val_loss: 0.0813 - val_mse: 0.0813\n",
      "Epoch 77/150\n",
      "34/34 [==============================] - 0s 4ms/step - loss: 0.0292 - mse: 0.0292 - val_loss: 0.0790 - val_mse: 0.0790\n",
      "Epoch 78/150\n",
      "34/34 [==============================] - 0s 4ms/step - loss: 0.0291 - mse: 0.0291 - val_loss: 0.0785 - val_mse: 0.0785\n",
      "Epoch 79/150\n",
      "34/34 [==============================] - 0s 4ms/step - loss: 0.0284 - mse: 0.0284 - val_loss: 0.0788 - val_mse: 0.0788\n",
      "Epoch 80/150\n",
      "34/34 [==============================] - 0s 4ms/step - loss: 0.0281 - mse: 0.0281 - val_loss: 0.0794 - val_mse: 0.0794\n",
      "Epoch 81/150\n",
      "34/34 [==============================] - 0s 4ms/step - loss: 0.0279 - mse: 0.0279 - val_loss: 0.0797 - val_mse: 0.0797\n",
      "Epoch 82/150\n",
      "34/34 [==============================] - 0s 4ms/step - loss: 0.0277 - mse: 0.0277 - val_loss: 0.0796 - val_mse: 0.0796\n",
      "Epoch 83/150\n",
      "34/34 [==============================] - 0s 4ms/step - loss: 0.0276 - mse: 0.0276 - val_loss: 0.0791 - val_mse: 0.0791\n",
      "Epoch 84/150\n",
      "34/34 [==============================] - 0s 4ms/step - loss: 0.0271 - mse: 0.0271 - val_loss: 0.0795 - val_mse: 0.0795\n",
      "Epoch 85/150\n",
      "34/34 [==============================] - 0s 4ms/step - loss: 0.0271 - mse: 0.0271 - val_loss: 0.0799 - val_mse: 0.0799\n",
      "Epoch 86/150\n",
      "34/34 [==============================] - 0s 4ms/step - loss: 0.0270 - mse: 0.0270 - val_loss: 0.0787 - val_mse: 0.0787\n",
      "Epoch 87/150\n",
      "34/34 [==============================] - 0s 4ms/step - loss: 0.0266 - mse: 0.0266 - val_loss: 0.0791 - val_mse: 0.0791\n",
      "Epoch 88/150\n",
      "34/34 [==============================] - 0s 4ms/step - loss: 0.0265 - mse: 0.0265 - val_loss: 0.0786 - val_mse: 0.0786\n",
      "Epoch 89/150\n",
      "34/34 [==============================] - 0s 4ms/step - loss: 0.0262 - mse: 0.0262 - val_loss: 0.0799 - val_mse: 0.0799\n",
      "Epoch 90/150\n",
      "34/34 [==============================] - 0s 4ms/step - loss: 0.0258 - mse: 0.0258 - val_loss: 0.0796 - val_mse: 0.0796\n",
      "Epoch 91/150\n",
      "34/34 [==============================] - 0s 4ms/step - loss: 0.0259 - mse: 0.0259 - val_loss: 0.0801 - val_mse: 0.0801\n",
      "Epoch 92/150\n",
      "34/34 [==============================] - 0s 4ms/step - loss: 0.0256 - mse: 0.0256 - val_loss: 0.0796 - val_mse: 0.0796\n",
      "Epoch 93/150\n",
      "34/34 [==============================] - 0s 4ms/step - loss: 0.0255 - mse: 0.0255 - val_loss: 0.0797 - val_mse: 0.0797\n",
      "Epoch 94/150\n",
      "34/34 [==============================] - 0s 4ms/step - loss: 0.0252 - mse: 0.0252 - val_loss: 0.0799 - val_mse: 0.0799\n",
      "Epoch 95/150\n",
      "34/34 [==============================] - 0s 4ms/step - loss: 0.0250 - mse: 0.0250 - val_loss: 0.0789 - val_mse: 0.0789\n",
      "Epoch 96/150\n",
      "34/34 [==============================] - 0s 4ms/step - loss: 0.0248 - mse: 0.0248 - val_loss: 0.0809 - val_mse: 0.0809\n",
      "Epoch 97/150\n",
      "34/34 [==============================] - 0s 4ms/step - loss: 0.0247 - mse: 0.0247 - val_loss: 0.0793 - val_mse: 0.0793\n",
      "Epoch 98/150\n",
      "34/34 [==============================] - 0s 4ms/step - loss: 0.0246 - mse: 0.0246 - val_loss: 0.0795 - val_mse: 0.0795\n",
      "Epoch 99/150\n",
      "34/34 [==============================] - 0s 4ms/step - loss: 0.0243 - mse: 0.0243 - val_loss: 0.0796 - val_mse: 0.0796\n",
      "Epoch 100/150\n",
      "34/34 [==============================] - 0s 4ms/step - loss: 0.0242 - mse: 0.0242 - val_loss: 0.0797 - val_mse: 0.0797\n",
      "Epoch 101/150\n",
      "34/34 [==============================] - 0s 4ms/step - loss: 0.0239 - mse: 0.0239 - val_loss: 0.0795 - val_mse: 0.0795\n",
      "Epoch 102/150\n",
      "34/34 [==============================] - 0s 4ms/step - loss: 0.0237 - mse: 0.0237 - val_loss: 0.0793 - val_mse: 0.0793\n",
      "Epoch 103/150\n",
      "34/34 [==============================] - 0s 4ms/step - loss: 0.0234 - mse: 0.0234 - val_loss: 0.0799 - val_mse: 0.0799\n",
      "Epoch 104/150\n",
      "34/34 [==============================] - 0s 4ms/step - loss: 0.0234 - mse: 0.0234 - val_loss: 0.0796 - val_mse: 0.0796\n",
      "Epoch 105/150\n",
      "34/34 [==============================] - 0s 4ms/step - loss: 0.0232 - mse: 0.0232 - val_loss: 0.0793 - val_mse: 0.0793\n",
      "Epoch 106/150\n",
      "34/34 [==============================] - 0s 4ms/step - loss: 0.0229 - mse: 0.0229 - val_loss: 0.0797 - val_mse: 0.0797\n",
      "Epoch 107/150\n",
      "34/34 [==============================] - 0s 4ms/step - loss: 0.0229 - mse: 0.0229 - val_loss: 0.0798 - val_mse: 0.0798\n",
      "Epoch 108/150\n",
      "34/34 [==============================] - 0s 4ms/step - loss: 0.0226 - mse: 0.0226 - val_loss: 0.0796 - val_mse: 0.0796\n",
      "Epoch 109/150\n",
      "34/34 [==============================] - 0s 4ms/step - loss: 0.0226 - mse: 0.0226 - val_loss: 0.0796 - val_mse: 0.0796\n",
      "Epoch 110/150\n",
      "34/34 [==============================] - 0s 4ms/step - loss: 0.0223 - mse: 0.0223 - val_loss: 0.0804 - val_mse: 0.0804\n",
      "Epoch 111/150\n",
      "34/34 [==============================] - 0s 4ms/step - loss: 0.0224 - mse: 0.0224 - val_loss: 0.0797 - val_mse: 0.0797\n",
      "Epoch 112/150\n",
      "34/34 [==============================] - 0s 4ms/step - loss: 0.0221 - mse: 0.0221 - val_loss: 0.0802 - val_mse: 0.0802\n",
      "Epoch 113/150\n",
      "34/34 [==============================] - 0s 4ms/step - loss: 0.0218 - mse: 0.0218 - val_loss: 0.0811 - val_mse: 0.0811\n",
      "Epoch 114/150\n",
      "34/34 [==============================] - 0s 4ms/step - loss: 0.0218 - mse: 0.0218 - val_loss: 0.0801 - val_mse: 0.0801\n",
      "Epoch 115/150\n",
      "34/34 [==============================] - 0s 4ms/step - loss: 0.0216 - mse: 0.0216 - val_loss: 0.0798 - val_mse: 0.0798\n",
      "Epoch 116/150\n",
      "34/34 [==============================] - 0s 4ms/step - loss: 0.0214 - mse: 0.0214 - val_loss: 0.0797 - val_mse: 0.0797\n",
      "Epoch 117/150\n",
      "34/34 [==============================] - 0s 4ms/step - loss: 0.0215 - mse: 0.0215 - val_loss: 0.0806 - val_mse: 0.0806\n",
      "Epoch 118/150\n",
      "34/34 [==============================] - 0s 4ms/step - loss: 0.0211 - mse: 0.0211 - val_loss: 0.0798 - val_mse: 0.0798\n",
      "Epoch 119/150\n",
      "34/34 [==============================] - 0s 4ms/step - loss: 0.0210 - mse: 0.0210 - val_loss: 0.0806 - val_mse: 0.0806\n",
      "Epoch 120/150\n",
      "34/34 [==============================] - 0s 4ms/step - loss: 0.0209 - mse: 0.0209 - val_loss: 0.0803 - val_mse: 0.0803\n",
      "Epoch 121/150\n",
      "34/34 [==============================] - 0s 4ms/step - loss: 0.0206 - mse: 0.0206 - val_loss: 0.0802 - val_mse: 0.0802\n",
      "Epoch 122/150\n",
      "34/34 [==============================] - 0s 4ms/step - loss: 0.0207 - mse: 0.0207 - val_loss: 0.0807 - val_mse: 0.0807\n",
      "Epoch 123/150\n",
      "34/34 [==============================] - 0s 4ms/step - loss: 0.0205 - mse: 0.0205 - val_loss: 0.0806 - val_mse: 0.0806\n",
      "Epoch 124/150\n",
      "34/34 [==============================] - 0s 4ms/step - loss: 0.0203 - mse: 0.0203 - val_loss: 0.0804 - val_mse: 0.0804\n"
     ]
    },
    {
     "name": "stdout",
     "output_type": "stream",
     "text": [
      "Epoch 125/150\n",
      "34/34 [==============================] - 0s 4ms/step - loss: 0.0202 - mse: 0.0202 - val_loss: 0.0826 - val_mse: 0.0826\n",
      "Epoch 126/150\n",
      "34/34 [==============================] - 0s 4ms/step - loss: 0.0201 - mse: 0.0201 - val_loss: 0.0805 - val_mse: 0.0805\n",
      "Epoch 127/150\n",
      "34/34 [==============================] - 0s 4ms/step - loss: 0.0199 - mse: 0.0199 - val_loss: 0.0806 - val_mse: 0.0806\n",
      "Epoch 128/150\n",
      "34/34 [==============================] - 0s 4ms/step - loss: 0.0200 - mse: 0.0200 - val_loss: 0.0806 - val_mse: 0.0806\n",
      "Epoch 129/150\n",
      "34/34 [==============================] - 0s 4ms/step - loss: 0.0197 - mse: 0.0197 - val_loss: 0.0805 - val_mse: 0.0805\n",
      "Epoch 130/150\n",
      "34/34 [==============================] - 0s 4ms/step - loss: 0.0197 - mse: 0.0197 - val_loss: 0.0816 - val_mse: 0.0816\n",
      "Epoch 131/150\n",
      "34/34 [==============================] - 0s 4ms/step - loss: 0.0194 - mse: 0.0194 - val_loss: 0.0805 - val_mse: 0.0805\n",
      "Epoch 132/150\n",
      "34/34 [==============================] - 0s 4ms/step - loss: 0.0192 - mse: 0.0192 - val_loss: 0.0807 - val_mse: 0.0807\n",
      "Epoch 133/150\n",
      "34/34 [==============================] - 0s 4ms/step - loss: 0.0192 - mse: 0.0192 - val_loss: 0.0803 - val_mse: 0.0803\n",
      "Epoch 134/150\n",
      "34/34 [==============================] - 0s 4ms/step - loss: 0.0192 - mse: 0.0192 - val_loss: 0.0803 - val_mse: 0.0803\n",
      "Epoch 135/150\n",
      "34/34 [==============================] - 0s 4ms/step - loss: 0.0190 - mse: 0.0190 - val_loss: 0.0802 - val_mse: 0.0802\n",
      "Epoch 136/150\n",
      "34/34 [==============================] - 0s 4ms/step - loss: 0.0189 - mse: 0.0189 - val_loss: 0.0806 - val_mse: 0.0806\n",
      "Epoch 137/150\n",
      "34/34 [==============================] - 0s 4ms/step - loss: 0.0188 - mse: 0.0188 - val_loss: 0.0820 - val_mse: 0.0820\n",
      "Epoch 138/150\n",
      "34/34 [==============================] - 0s 4ms/step - loss: 0.0185 - mse: 0.0185 - val_loss: 0.0814 - val_mse: 0.0814\n",
      "Epoch 139/150\n",
      "34/34 [==============================] - 0s 4ms/step - loss: 0.0186 - mse: 0.0186 - val_loss: 0.0822 - val_mse: 0.0822\n",
      "Epoch 140/150\n",
      "34/34 [==============================] - 0s 4ms/step - loss: 0.0185 - mse: 0.0185 - val_loss: 0.0808 - val_mse: 0.0808\n",
      "Epoch 141/150\n",
      "34/34 [==============================] - 0s 4ms/step - loss: 0.0183 - mse: 0.0183 - val_loss: 0.0809 - val_mse: 0.0809\n",
      "Epoch 142/150\n",
      "34/34 [==============================] - 0s 4ms/step - loss: 0.0181 - mse: 0.0181 - val_loss: 0.0809 - val_mse: 0.0809\n",
      "Epoch 143/150\n",
      "34/34 [==============================] - 0s 4ms/step - loss: 0.0182 - mse: 0.0182 - val_loss: 0.0804 - val_mse: 0.0804\n",
      "Epoch 144/150\n",
      "34/34 [==============================] - 0s 4ms/step - loss: 0.0181 - mse: 0.0181 - val_loss: 0.0809 - val_mse: 0.0809\n",
      "Epoch 145/150\n",
      "34/34 [==============================] - 0s 4ms/step - loss: 0.0178 - mse: 0.0178 - val_loss: 0.0813 - val_mse: 0.0813\n",
      "Epoch 146/150\n",
      "34/34 [==============================] - 0s 4ms/step - loss: 0.0177 - mse: 0.0177 - val_loss: 0.0807 - val_mse: 0.0807\n",
      "Epoch 147/150\n",
      "34/34 [==============================] - 0s 4ms/step - loss: 0.0176 - mse: 0.0176 - val_loss: 0.0811 - val_mse: 0.0811\n",
      "Epoch 148/150\n",
      "34/34 [==============================] - 0s 4ms/step - loss: 0.0176 - mse: 0.0176 - val_loss: 0.0823 - val_mse: 0.0823\n",
      "Epoch 149/150\n",
      "34/34 [==============================] - 0s 4ms/step - loss: 0.0175 - mse: 0.0175 - val_loss: 0.0836 - val_mse: 0.0836\n",
      "Epoch 150/150\n",
      "34/34 [==============================] - 0s 4ms/step - loss: 0.0173 - mse: 0.0173 - val_loss: 0.0819 - val_mse: 0.0819\n"
     ]
    },
    {
     "data": {
      "text/plain": [
       "<tensorflow.python.keras.callbacks.History at 0x1aeff60e128>"
      ]
     },
     "execution_count": 43,
     "metadata": {},
     "output_type": "execute_result"
    }
   ],
   "source": [
    "np.random.seed(123)\n",
    "lecun_model = Sequential()\n",
    "\n",
    "# Add the first hidden layer\n",
    "lecun_model.add(layers.Dense(100, kernel_initializer='lecun_normal', activation='relu', input_shape=(n_features,)))\n",
    "\n",
    "# Add another hidden layer\n",
    "lecun_model.add(layers.Dense(50, activation='relu'))\n",
    "\n",
    "# Add an output layer\n",
    "lecun_model.add(layers.Dense(1, activation='linear'))\n",
    "\n",
    "# Compile the model\n",
    "lecun_model.compile(optimizer='SGD', \n",
    "                    loss='mse', \n",
    "                    metrics=['mse'])\n",
    "\n",
    "# Train the model\n",
    "lecun_model.fit(X_train_scaled, \n",
    "                y_train_scaled, \n",
    "                batch_size=32, \n",
    "                epochs=150, \n",
    "                validation_data=(X_val_scaled, y_val_scaled))"
   ]
  },
  {
   "cell_type": "code",
   "execution_count": 44,
   "metadata": {
    "ExecuteTime": {
     "end_time": "2020-10-18T09:13:17.107905Z",
     "start_time": "2020-10-18T09:13:16.419966Z"
    }
   },
   "outputs": [
    {
     "name": "stdout",
     "output_type": "stream",
     "text": [
      "R-sq score: 0.9240297040200152\n",
      "RMSE: 4.721626099951479\n",
      "MAE: 3.7381806309840804\n"
     ]
    }
   ],
   "source": [
    "nn_metrics(lecun_model)\n",
    "\n",
    "y_val_pred_scaled = lecun_model.predict(X_val_scaled)\n",
    "y_val_pred = ss_y.inverse_transform(y_val_pred_scaled)\n",
    "lcR2 =  r2_score(y_val,y_val_pred)\n",
    "lcRMSE = np.sqrt(mse(y_val, y_val_pred))\n",
    "lcMAE = mae(y_val, y_val_pred)"
   ]
  },
  {
   "cell_type": "code",
   "execution_count": 45,
   "metadata": {
    "ExecuteTime": {
     "end_time": "2020-10-18T09:13:32.401475Z",
     "start_time": "2020-10-18T09:13:32.376427Z"
    }
   },
   "outputs": [],
   "source": [
    "lc = pd.DataFrame(['NN-Lecun', lcR2, lcRMSE, lcMAE])\n",
    "lc = pd.DataFrame.transpose(lc)\n",
    "lc.columns = ['Model', 'R-sq', 'RMSE', 'MAE']"
   ]
  },
  {
   "cell_type": "markdown",
   "metadata": {},
   "source": [
    "The lecun model is similar to that of the previous model. Good performance but in comparison to the other models still not enough to justify making it the finalized model"
   ]
  },
  {
   "cell_type": "markdown",
   "metadata": {},
   "source": [
    "## rmsprop"
   ]
  },
  {
   "cell_type": "code",
   "execution_count": 46,
   "metadata": {
    "ExecuteTime": {
     "end_time": "2020-10-18T09:14:10.686844Z",
     "start_time": "2020-10-18T09:13:47.298780Z"
    }
   },
   "outputs": [
    {
     "name": "stdout",
     "output_type": "stream",
     "text": [
      "Epoch 1/150\n",
      "34/34 [==============================] - 1s 15ms/step - loss: 0.2540 - mse: 0.2540 - val_loss: 0.1316 - val_mse: 0.1316\n",
      "Epoch 2/150\n",
      "34/34 [==============================] - 0s 4ms/step - loss: 0.1029 - mse: 0.1029 - val_loss: 0.1099 - val_mse: 0.1099\n",
      "Epoch 3/150\n",
      "34/34 [==============================] - 0s 4ms/step - loss: 0.0770 - mse: 0.0770 - val_loss: 0.0892 - val_mse: 0.0892\n",
      "Epoch 4/150\n",
      "34/34 [==============================] - 0s 4ms/step - loss: 0.0630 - mse: 0.0630 - val_loss: 0.0911 - val_mse: 0.0911\n",
      "Epoch 5/150\n",
      "34/34 [==============================] - 0s 4ms/step - loss: 0.0538 - mse: 0.0538 - val_loss: 0.0827 - val_mse: 0.0827\n",
      "Epoch 6/150\n",
      "34/34 [==============================] - 0s 4ms/step - loss: 0.0447 - mse: 0.0447 - val_loss: 0.0837 - val_mse: 0.0837\n",
      "Epoch 7/150\n",
      "34/34 [==============================] - 0s 4ms/step - loss: 0.0409 - mse: 0.0409 - val_loss: 0.1034 - val_mse: 0.1034\n",
      "Epoch 8/150\n",
      "34/34 [==============================] - 0s 4ms/step - loss: 0.0378 - mse: 0.0378 - val_loss: 0.0748 - val_mse: 0.0748\n",
      "Epoch 9/150\n",
      "34/34 [==============================] - 0s 4ms/step - loss: 0.0351 - mse: 0.0351 - val_loss: 0.0827 - val_mse: 0.0827\n",
      "Epoch 10/150\n",
      "34/34 [==============================] - 0s 4ms/step - loss: 0.0331 - mse: 0.0331 - val_loss: 0.0917 - val_mse: 0.0917\n",
      "Epoch 11/150\n",
      "34/34 [==============================] - 0s 4ms/step - loss: 0.0293 - mse: 0.0293 - val_loss: 0.0726 - val_mse: 0.0726\n",
      "Epoch 12/150\n",
      "34/34 [==============================] - 0s 4ms/step - loss: 0.0285 - mse: 0.0285 - val_loss: 0.0708 - val_mse: 0.0708\n",
      "Epoch 13/150\n",
      "34/34 [==============================] - 0s 3ms/step - loss: 0.0251 - mse: 0.0251 - val_loss: 0.0769 - val_mse: 0.0769\n",
      "Epoch 14/150\n",
      "34/34 [==============================] - 0s 4ms/step - loss: 0.0249 - mse: 0.0249 - val_loss: 0.0721 - val_mse: 0.0721\n",
      "Epoch 15/150\n",
      "34/34 [==============================] - 0s 4ms/step - loss: 0.0223 - mse: 0.0223 - val_loss: 0.0700 - val_mse: 0.0700\n",
      "Epoch 16/150\n",
      "34/34 [==============================] - 0s 4ms/step - loss: 0.0228 - mse: 0.0228 - val_loss: 0.0710 - val_mse: 0.0710\n",
      "Epoch 17/150\n",
      "34/34 [==============================] - 0s 4ms/step - loss: 0.0206 - mse: 0.0206 - val_loss: 0.0701 - val_mse: 0.0701\n",
      "Epoch 18/150\n",
      "34/34 [==============================] - 0s 4ms/step - loss: 0.0187 - mse: 0.0187 - val_loss: 0.0776 - val_mse: 0.0776\n",
      "Epoch 19/150\n",
      "34/34 [==============================] - 0s 4ms/step - loss: 0.0191 - mse: 0.0191 - val_loss: 0.0860 - val_mse: 0.0860\n",
      "Epoch 20/150\n",
      "34/34 [==============================] - 0s 4ms/step - loss: 0.0178 - mse: 0.0178 - val_loss: 0.0738 - val_mse: 0.0738\n",
      "Epoch 21/150\n",
      "34/34 [==============================] - 0s 3ms/step - loss: 0.0182 - mse: 0.0182 - val_loss: 0.0722 - val_mse: 0.0722\n",
      "Epoch 22/150\n",
      "34/34 [==============================] - 0s 4ms/step - loss: 0.0162 - mse: 0.0162 - val_loss: 0.0816 - val_mse: 0.0816\n",
      "Epoch 23/150\n",
      "34/34 [==============================] - 0s 4ms/step - loss: 0.0186 - mse: 0.0186 - val_loss: 0.0742 - val_mse: 0.0742\n",
      "Epoch 24/150\n",
      "34/34 [==============================] - 0s 4ms/step - loss: 0.0166 - mse: 0.0166 - val_loss: 0.0701 - val_mse: 0.0701\n",
      "Epoch 25/150\n",
      "34/34 [==============================] - 0s 4ms/step - loss: 0.0146 - mse: 0.0146 - val_loss: 0.0713 - val_mse: 0.0713\n",
      "Epoch 26/150\n",
      "34/34 [==============================] - 0s 4ms/step - loss: 0.0142 - mse: 0.0142 - val_loss: 0.0752 - val_mse: 0.0752\n",
      "Epoch 27/150\n",
      "34/34 [==============================] - 0s 4ms/step - loss: 0.0143 - mse: 0.0143 - val_loss: 0.0732 - val_mse: 0.0732\n",
      "Epoch 28/150\n",
      "34/34 [==============================] - 0s 4ms/step - loss: 0.0159 - mse: 0.0159 - val_loss: 0.0727 - val_mse: 0.0727\n",
      "Epoch 29/150\n",
      "34/34 [==============================] - 0s 4ms/step - loss: 0.0135 - mse: 0.0135 - val_loss: 0.0739 - val_mse: 0.0739\n",
      "Epoch 30/150\n",
      "34/34 [==============================] - 0s 4ms/step - loss: 0.0122 - mse: 0.0122 - val_loss: 0.0783 - val_mse: 0.0783\n",
      "Epoch 31/150\n",
      "34/34 [==============================] - 0s 4ms/step - loss: 0.0139 - mse: 0.0139 - val_loss: 0.0748 - val_mse: 0.0748\n",
      "Epoch 32/150\n",
      "34/34 [==============================] - 0s 4ms/step - loss: 0.0114 - mse: 0.0114 - val_loss: 0.0784 - val_mse: 0.0784\n",
      "Epoch 33/150\n",
      "34/34 [==============================] - 0s 4ms/step - loss: 0.0130 - mse: 0.0130 - val_loss: 0.0796 - val_mse: 0.0796\n",
      "Epoch 34/150\n",
      "34/34 [==============================] - 0s 4ms/step - loss: 0.0116 - mse: 0.0116 - val_loss: 0.0829 - val_mse: 0.0829\n",
      "Epoch 35/150\n",
      "34/34 [==============================] - 0s 4ms/step - loss: 0.0119 - mse: 0.0119 - val_loss: 0.0769 - val_mse: 0.0769\n",
      "Epoch 36/150\n",
      "34/34 [==============================] - 0s 4ms/step - loss: 0.0106 - mse: 0.0106 - val_loss: 0.0750 - val_mse: 0.0750\n",
      "Epoch 37/150\n",
      "34/34 [==============================] - 0s 4ms/step - loss: 0.0108 - mse: 0.0108 - val_loss: 0.0756 - val_mse: 0.0756\n",
      "Epoch 38/150\n",
      "34/34 [==============================] - 0s 4ms/step - loss: 0.0117 - mse: 0.0117 - val_loss: 0.0784 - val_mse: 0.0784\n",
      "Epoch 39/150\n",
      "34/34 [==============================] - 0s 4ms/step - loss: 0.0099 - mse: 0.0099 - val_loss: 0.0746 - val_mse: 0.0746\n",
      "Epoch 40/150\n",
      "34/34 [==============================] - 0s 4ms/step - loss: 0.0105 - mse: 0.0105 - val_loss: 0.0793 - val_mse: 0.0793\n",
      "Epoch 41/150\n",
      "34/34 [==============================] - 0s 4ms/step - loss: 0.0098 - mse: 0.0098 - val_loss: 0.0690 - val_mse: 0.0690\n",
      "Epoch 42/150\n",
      "34/34 [==============================] - 0s 4ms/step - loss: 0.0097 - mse: 0.0097 - val_loss: 0.0785 - val_mse: 0.0785\n",
      "Epoch 43/150\n",
      "34/34 [==============================] - 0s 4ms/step - loss: 0.0101 - mse: 0.0101 - val_loss: 0.0813 - val_mse: 0.0813\n",
      "Epoch 44/150\n",
      "34/34 [==============================] - 0s 4ms/step - loss: 0.0087 - mse: 0.0087 - val_loss: 0.0775 - val_mse: 0.0775\n",
      "Epoch 45/150\n",
      "34/34 [==============================] - 0s 4ms/step - loss: 0.0091 - mse: 0.0091 - val_loss: 0.0808 - val_mse: 0.0808\n",
      "Epoch 46/150\n",
      "34/34 [==============================] - 0s 4ms/step - loss: 0.0094 - mse: 0.0094 - val_loss: 0.0793 - val_mse: 0.0793\n",
      "Epoch 47/150\n",
      "34/34 [==============================] - 0s 4ms/step - loss: 0.0077 - mse: 0.0077 - val_loss: 0.0840 - val_mse: 0.0840\n",
      "Epoch 48/150\n",
      "34/34 [==============================] - 0s 4ms/step - loss: 0.0099 - mse: 0.0099 - val_loss: 0.0808 - val_mse: 0.0808\n",
      "Epoch 49/150\n",
      "34/34 [==============================] - 0s 4ms/step - loss: 0.0088 - mse: 0.0088 - val_loss: 0.0757 - val_mse: 0.0757\n",
      "Epoch 50/150\n",
      "34/34 [==============================] - 0s 4ms/step - loss: 0.0080 - mse: 0.0080 - val_loss: 0.0794 - val_mse: 0.0794\n",
      "Epoch 51/150\n",
      "34/34 [==============================] - 0s 4ms/step - loss: 0.0084 - mse: 0.0084 - val_loss: 0.0844 - val_mse: 0.0844\n",
      "Epoch 52/150\n",
      "34/34 [==============================] - 0s 4ms/step - loss: 0.0087 - mse: 0.0087 - val_loss: 0.0768 - val_mse: 0.0768\n",
      "Epoch 53/150\n",
      "34/34 [==============================] - 0s 4ms/step - loss: 0.0093 - mse: 0.0093 - val_loss: 0.0750 - val_mse: 0.0750\n",
      "Epoch 54/150\n",
      "34/34 [==============================] - 0s 4ms/step - loss: 0.0063 - mse: 0.0063 - val_loss: 0.0740 - val_mse: 0.0740\n",
      "Epoch 55/150\n",
      "34/34 [==============================] - 0s 4ms/step - loss: 0.0085 - mse: 0.0085 - val_loss: 0.0779 - val_mse: 0.0779\n",
      "Epoch 56/150\n",
      "34/34 [==============================] - 0s 4ms/step - loss: 0.0084 - mse: 0.0084 - val_loss: 0.0797 - val_mse: 0.0797\n",
      "Epoch 57/150\n",
      "34/34 [==============================] - 0s 4ms/step - loss: 0.0080 - mse: 0.0080 - val_loss: 0.0768 - val_mse: 0.0768\n",
      "Epoch 58/150\n",
      "34/34 [==============================] - 0s 4ms/step - loss: 0.0069 - mse: 0.0069 - val_loss: 0.0852 - val_mse: 0.0852\n",
      "Epoch 59/150\n",
      "34/34 [==============================] - 0s 4ms/step - loss: 0.0077 - mse: 0.0077 - val_loss: 0.0810 - val_mse: 0.0810\n",
      "Epoch 60/150\n",
      "34/34 [==============================] - 0s 4ms/step - loss: 0.0060 - mse: 0.0060 - val_loss: 0.0844 - val_mse: 0.0844\n",
      "Epoch 61/150\n",
      "34/34 [==============================] - 0s 4ms/step - loss: 0.0085 - mse: 0.0085 - val_loss: 0.0777 - val_mse: 0.0777\n",
      "Epoch 62/150\n",
      "34/34 [==============================] - 0s 4ms/step - loss: 0.0082 - mse: 0.0082 - val_loss: 0.0885 - val_mse: 0.0885\n",
      "Epoch 63/150\n",
      "34/34 [==============================] - 0s 4ms/step - loss: 0.0058 - mse: 0.0058 - val_loss: 0.0772 - val_mse: 0.0772\n",
      "Epoch 64/150\n",
      "34/34 [==============================] - 0s 4ms/step - loss: 0.0064 - mse: 0.0064 - val_loss: 0.0860 - val_mse: 0.0860\n",
      "Epoch 65/150\n",
      "34/34 [==============================] - 0s 4ms/step - loss: 0.0075 - mse: 0.0075 - val_loss: 0.0783 - val_mse: 0.0783\n",
      "Epoch 66/150\n",
      "34/34 [==============================] - 0s 4ms/step - loss: 0.0072 - mse: 0.0072 - val_loss: 0.0765 - val_mse: 0.0765\n",
      "Epoch 67/150\n",
      "34/34 [==============================] - 0s 4ms/step - loss: 0.0084 - mse: 0.0084 - val_loss: 0.0842 - val_mse: 0.0842\n",
      "Epoch 68/150\n",
      "34/34 [==============================] - 0s 4ms/step - loss: 0.0052 - mse: 0.0052 - val_loss: 0.0816 - val_mse: 0.0816\n",
      "Epoch 69/150\n",
      "34/34 [==============================] - 0s 4ms/step - loss: 0.0069 - mse: 0.0069 - val_loss: 0.0783 - val_mse: 0.0783\n",
      "Epoch 70/150\n",
      "34/34 [==============================] - 0s 4ms/step - loss: 0.0062 - mse: 0.0062 - val_loss: 0.0772 - val_mse: 0.0772\n",
      "Epoch 71/150\n",
      "34/34 [==============================] - 0s 4ms/step - loss: 0.0067 - mse: 0.0067 - val_loss: 0.0777 - val_mse: 0.0777\n",
      "Epoch 72/150\n",
      "34/34 [==============================] - 0s 4ms/step - loss: 0.0070 - mse: 0.0070 - val_loss: 0.0776 - val_mse: 0.0776\n",
      "Epoch 73/150\n",
      "34/34 [==============================] - 0s 4ms/step - loss: 0.0068 - mse: 0.0068 - val_loss: 0.0833 - val_mse: 0.0833\n",
      "Epoch 74/150\n",
      "34/34 [==============================] - 0s 4ms/step - loss: 0.0066 - mse: 0.0066 - val_loss: 0.0822 - val_mse: 0.0822\n",
      "Epoch 75/150\n",
      "34/34 [==============================] - 0s 4ms/step - loss: 0.0064 - mse: 0.0064 - val_loss: 0.0771 - val_mse: 0.0771\n",
      "Epoch 76/150\n",
      "34/34 [==============================] - 0s 4ms/step - loss: 0.0062 - mse: 0.0062 - val_loss: 0.0775 - val_mse: 0.0775\n",
      "Epoch 77/150\n",
      "34/34 [==============================] - 0s 4ms/step - loss: 0.0061 - mse: 0.0061 - val_loss: 0.0757 - val_mse: 0.0757\n",
      "Epoch 78/150\n",
      "34/34 [==============================] - 0s 4ms/step - loss: 0.0057 - mse: 0.0057 - val_loss: 0.0772 - val_mse: 0.0772\n",
      "Epoch 79/150\n",
      "34/34 [==============================] - 0s 4ms/step - loss: 0.0056 - mse: 0.0056 - val_loss: 0.0880 - val_mse: 0.0880\n",
      "Epoch 80/150\n",
      "34/34 [==============================] - 0s 4ms/step - loss: 0.0064 - mse: 0.0064 - val_loss: 0.0764 - val_mse: 0.0764\n",
      "Epoch 81/150\n",
      "34/34 [==============================] - 0s 4ms/step - loss: 0.0060 - mse: 0.0060 - val_loss: 0.0781 - val_mse: 0.0781\n",
      "Epoch 82/150\n",
      "34/34 [==============================] - 0s 4ms/step - loss: 0.0068 - mse: 0.0068 - val_loss: 0.0733 - val_mse: 0.0733\n",
      "Epoch 83/150\n",
      "34/34 [==============================] - 0s 4ms/step - loss: 0.0054 - mse: 0.0054 - val_loss: 0.0783 - val_mse: 0.0783\n",
      "Epoch 84/150\n",
      "34/34 [==============================] - 0s 4ms/step - loss: 0.0058 - mse: 0.0058 - val_loss: 0.0739 - val_mse: 0.0739\n",
      "Epoch 85/150\n",
      "34/34 [==============================] - 0s 4ms/step - loss: 0.0064 - mse: 0.0064 - val_loss: 0.0818 - val_mse: 0.0818\n",
      "Epoch 86/150\n",
      "34/34 [==============================] - 0s 4ms/step - loss: 0.0054 - mse: 0.0054 - val_loss: 0.0769 - val_mse: 0.0769\n",
      "Epoch 87/150\n",
      "34/34 [==============================] - 0s 4ms/step - loss: 0.0066 - mse: 0.0066 - val_loss: 0.0775 - val_mse: 0.0775\n",
      "Epoch 88/150\n",
      "34/34 [==============================] - 0s 4ms/step - loss: 0.0049 - mse: 0.0049 - val_loss: 0.0848 - val_mse: 0.0848\n",
      "Epoch 89/150\n",
      "34/34 [==============================] - 0s 4ms/step - loss: 0.0057 - mse: 0.0057 - val_loss: 0.0777 - val_mse: 0.0777\n",
      "Epoch 90/150\n",
      "34/34 [==============================] - 0s 4ms/step - loss: 0.0059 - mse: 0.0059 - val_loss: 0.0795 - val_mse: 0.0795\n",
      "Epoch 91/150\n",
      "34/34 [==============================] - 0s 4ms/step - loss: 0.0056 - mse: 0.0056 - val_loss: 0.0771 - val_mse: 0.0771\n",
      "Epoch 92/150\n",
      "34/34 [==============================] - 0s 4ms/step - loss: 0.0052 - mse: 0.0052 - val_loss: 0.0766 - val_mse: 0.0766\n",
      "Epoch 93/150\n",
      "34/34 [==============================] - 0s 4ms/step - loss: 0.0053 - mse: 0.0053 - val_loss: 0.0793 - val_mse: 0.0793\n",
      "Epoch 94/150\n",
      "34/34 [==============================] - 0s 4ms/step - loss: 0.0064 - mse: 0.0064 - val_loss: 0.0761 - val_mse: 0.0761\n",
      "Epoch 95/150\n",
      "34/34 [==============================] - 0s 4ms/step - loss: 0.0044 - mse: 0.0044 - val_loss: 0.0947 - val_mse: 0.0947\n",
      "Epoch 96/150\n",
      "34/34 [==============================] - 0s 4ms/step - loss: 0.0056 - mse: 0.0056 - val_loss: 0.0749 - val_mse: 0.0749\n",
      "Epoch 97/150\n",
      "34/34 [==============================] - 0s 4ms/step - loss: 0.0050 - mse: 0.0050 - val_loss: 0.0782 - val_mse: 0.0782\n",
      "Epoch 98/150\n",
      "34/34 [==============================] - 0s 4ms/step - loss: 0.0054 - mse: 0.0054 - val_loss: 0.0785 - val_mse: 0.0785\n",
      "Epoch 99/150\n",
      "34/34 [==============================] - 0s 4ms/step - loss: 0.0053 - mse: 0.0053 - val_loss: 0.0947 - val_mse: 0.0947\n",
      "Epoch 100/150\n",
      "34/34 [==============================] - 0s 4ms/step - loss: 0.0053 - mse: 0.0053 - val_loss: 0.0990 - val_mse: 0.0990\n",
      "Epoch 101/150\n",
      "34/34 [==============================] - 0s 4ms/step - loss: 0.0054 - mse: 0.0054 - val_loss: 0.0929 - val_mse: 0.0929\n",
      "Epoch 102/150\n",
      "34/34 [==============================] - 0s 4ms/step - loss: 0.0053 - mse: 0.0053 - val_loss: 0.0753 - val_mse: 0.0753\n",
      "Epoch 103/150\n",
      "34/34 [==============================] - 0s 4ms/step - loss: 0.0054 - mse: 0.0054 - val_loss: 0.0792 - val_mse: 0.0792\n",
      "Epoch 104/150\n",
      "34/34 [==============================] - 0s 4ms/step - loss: 0.0047 - mse: 0.0047 - val_loss: 0.0803 - val_mse: 0.0803\n",
      "Epoch 105/150\n",
      "34/34 [==============================] - 0s 4ms/step - loss: 0.0054 - mse: 0.0054 - val_loss: 0.0785 - val_mse: 0.0785\n",
      "Epoch 106/150\n",
      "34/34 [==============================] - 0s 4ms/step - loss: 0.0050 - mse: 0.0050 - val_loss: 0.0787 - val_mse: 0.0787\n",
      "Epoch 107/150\n",
      "34/34 [==============================] - 0s 4ms/step - loss: 0.0049 - mse: 0.0049 - val_loss: 0.0819 - val_mse: 0.0819\n",
      "Epoch 108/150\n",
      "34/34 [==============================] - 0s 4ms/step - loss: 0.0048 - mse: 0.0048 - val_loss: 0.0749 - val_mse: 0.0749\n",
      "Epoch 109/150\n",
      "34/34 [==============================] - 0s 4ms/step - loss: 0.0047 - mse: 0.0047 - val_loss: 0.0749 - val_mse: 0.0749\n",
      "Epoch 110/150\n",
      "34/34 [==============================] - 0s 4ms/step - loss: 0.0052 - mse: 0.0052 - val_loss: 0.0744 - val_mse: 0.0744\n",
      "Epoch 111/150\n",
      "34/34 [==============================] - 0s 4ms/step - loss: 0.0050 - mse: 0.0050 - val_loss: 0.0789 - val_mse: 0.0789\n",
      "Epoch 112/150\n",
      "34/34 [==============================] - 0s 4ms/step - loss: 0.0046 - mse: 0.0046 - val_loss: 0.0792 - val_mse: 0.0792\n",
      "Epoch 113/150\n",
      "34/34 [==============================] - 0s 4ms/step - loss: 0.0049 - mse: 0.0049 - val_loss: 0.0769 - val_mse: 0.0769\n",
      "Epoch 114/150\n",
      "34/34 [==============================] - 0s 4ms/step - loss: 0.0050 - mse: 0.0050 - val_loss: 0.0875 - val_mse: 0.0875\n",
      "Epoch 115/150\n",
      "34/34 [==============================] - 0s 4ms/step - loss: 0.0053 - mse: 0.0053 - val_loss: 0.0860 - val_mse: 0.0860\n",
      "Epoch 116/150\n",
      "34/34 [==============================] - 0s 4ms/step - loss: 0.0047 - mse: 0.0047 - val_loss: 0.0790 - val_mse: 0.0790\n",
      "Epoch 117/150\n",
      "34/34 [==============================] - 0s 4ms/step - loss: 0.0044 - mse: 0.0044 - val_loss: 0.0766 - val_mse: 0.0766\n",
      "Epoch 118/150\n",
      "34/34 [==============================] - 0s 4ms/step - loss: 0.0049 - mse: 0.0049 - val_loss: 0.0752 - val_mse: 0.0752\n",
      "Epoch 119/150\n",
      "34/34 [==============================] - 0s 4ms/step - loss: 0.0046 - mse: 0.0046 - val_loss: 0.0782 - val_mse: 0.0782\n",
      "Epoch 120/150\n",
      "34/34 [==============================] - 0s 4ms/step - loss: 0.0044 - mse: 0.0044 - val_loss: 0.0797 - val_mse: 0.0797\n",
      "Epoch 121/150\n",
      "34/34 [==============================] - 0s 4ms/step - loss: 0.0051 - mse: 0.0051 - val_loss: 0.0769 - val_mse: 0.0769\n",
      "Epoch 122/150\n",
      "34/34 [==============================] - 0s 4ms/step - loss: 0.0049 - mse: 0.0049 - val_loss: 0.0758 - val_mse: 0.0758\n",
      "Epoch 123/150\n",
      "34/34 [==============================] - 0s 4ms/step - loss: 0.0036 - mse: 0.0036 - val_loss: 0.0786 - val_mse: 0.0786\n",
      "Epoch 124/150\n",
      "34/34 [==============================] - 0s 4ms/step - loss: 0.0056 - mse: 0.0056 - val_loss: 0.0825 - val_mse: 0.0825\n"
     ]
    },
    {
     "name": "stdout",
     "output_type": "stream",
     "text": [
      "Epoch 125/150\n",
      "34/34 [==============================] - 0s 4ms/step - loss: 0.0044 - mse: 0.0044 - val_loss: 0.0766 - val_mse: 0.0766\n",
      "Epoch 126/150\n",
      "34/34 [==============================] - 0s 4ms/step - loss: 0.0047 - mse: 0.0047 - val_loss: 0.0782 - val_mse: 0.0782\n",
      "Epoch 127/150\n",
      "34/34 [==============================] - 0s 4ms/step - loss: 0.0042 - mse: 0.0042 - val_loss: 0.0751 - val_mse: 0.0751\n",
      "Epoch 128/150\n",
      "34/34 [==============================] - 0s 4ms/step - loss: 0.0048 - mse: 0.0048 - val_loss: 0.0836 - val_mse: 0.0836\n",
      "Epoch 129/150\n",
      "34/34 [==============================] - 0s 4ms/step - loss: 0.0044 - mse: 0.0044 - val_loss: 0.0751 - val_mse: 0.0751\n",
      "Epoch 130/150\n",
      "34/34 [==============================] - 0s 4ms/step - loss: 0.0045 - mse: 0.0045 - val_loss: 0.0743 - val_mse: 0.0743\n",
      "Epoch 131/150\n",
      "34/34 [==============================] - 0s 4ms/step - loss: 0.0046 - mse: 0.0046 - val_loss: 0.0762 - val_mse: 0.0762\n",
      "Epoch 132/150\n",
      "34/34 [==============================] - 0s 4ms/step - loss: 0.0043 - mse: 0.0043 - val_loss: 0.0752 - val_mse: 0.0752\n",
      "Epoch 133/150\n",
      "34/34 [==============================] - 0s 4ms/step - loss: 0.0040 - mse: 0.0040 - val_loss: 0.0779 - val_mse: 0.0779\n",
      "Epoch 134/150\n",
      "34/34 [==============================] - 0s 4ms/step - loss: 0.0039 - mse: 0.0039 - val_loss: 0.0848 - val_mse: 0.0848\n",
      "Epoch 135/150\n",
      "34/34 [==============================] - 0s 4ms/step - loss: 0.0049 - mse: 0.0049 - val_loss: 0.0743 - val_mse: 0.0743\n",
      "Epoch 136/150\n",
      "34/34 [==============================] - 0s 4ms/step - loss: 0.0042 - mse: 0.0042 - val_loss: 0.0791 - val_mse: 0.0791\n",
      "Epoch 137/150\n",
      "34/34 [==============================] - 0s 4ms/step - loss: 0.0041 - mse: 0.0041 - val_loss: 0.0761 - val_mse: 0.0761\n",
      "Epoch 138/150\n",
      "34/34 [==============================] - 0s 4ms/step - loss: 0.0040 - mse: 0.0040 - val_loss: 0.0781 - val_mse: 0.0781\n",
      "Epoch 139/150\n",
      "34/34 [==============================] - 0s 4ms/step - loss: 0.0049 - mse: 0.0049 - val_loss: 0.0748 - val_mse: 0.0748\n",
      "Epoch 140/150\n",
      "34/34 [==============================] - 0s 4ms/step - loss: 0.0036 - mse: 0.0036 - val_loss: 0.0812 - val_mse: 0.0812\n",
      "Epoch 141/150\n",
      "34/34 [==============================] - 0s 4ms/step - loss: 0.0044 - mse: 0.0044 - val_loss: 0.0764 - val_mse: 0.0764\n",
      "Epoch 142/150\n",
      "34/34 [==============================] - 0s 4ms/step - loss: 0.0046 - mse: 0.0046 - val_loss: 0.0761 - val_mse: 0.0761\n",
      "Epoch 143/150\n",
      "34/34 [==============================] - 0s 4ms/step - loss: 0.0040 - mse: 0.0040 - val_loss: 0.0803 - val_mse: 0.0803\n",
      "Epoch 144/150\n",
      "34/34 [==============================] - 0s 4ms/step - loss: 0.0039 - mse: 0.0039 - val_loss: 0.0762 - val_mse: 0.0762\n",
      "Epoch 145/150\n",
      "34/34 [==============================] - 0s 4ms/step - loss: 0.0039 - mse: 0.0039 - val_loss: 0.0797 - val_mse: 0.0797\n",
      "Epoch 146/150\n",
      "34/34 [==============================] - 0s 4ms/step - loss: 0.0050 - mse: 0.0050 - val_loss: 0.0774 - val_mse: 0.0774\n",
      "Epoch 147/150\n",
      "34/34 [==============================] - 0s 4ms/step - loss: 0.0042 - mse: 0.0042 - val_loss: 0.0764 - val_mse: 0.0764\n",
      "Epoch 148/150\n",
      "34/34 [==============================] - 0s 4ms/step - loss: 0.0040 - mse: 0.0040 - val_loss: 0.0746 - val_mse: 0.0746\n",
      "Epoch 149/150\n",
      "34/34 [==============================] - 0s 4ms/step - loss: 0.0033 - mse: 0.0033 - val_loss: 0.0781 - val_mse: 0.0781\n",
      "Epoch 150/150\n",
      "34/34 [==============================] - 0s 4ms/step - loss: 0.0047 - mse: 0.0047 - val_loss: 0.0780 - val_mse: 0.0780\n"
     ]
    },
    {
     "data": {
      "text/plain": [
       "<tensorflow.python.keras.callbacks.History at 0x1aeff7c37f0>"
      ]
     },
     "execution_count": 46,
     "metadata": {},
     "output_type": "execute_result"
    }
   ],
   "source": [
    "np.random.seed(123)\n",
    "rmsprop_model = Sequential()\n",
    "rmsprop_model.add(layers.Dense(100, activation='relu', input_shape=(n_features,)))\n",
    "rmsprop_model.add(layers.Dense(50, activation='relu'))\n",
    "rmsprop_model.add(layers.Dense(1, activation='linear'))\n",
    "\n",
    "# Compile the model\n",
    "rmsprop_model.compile(optimizer='rmsprop', \n",
    "                      loss='mse', \n",
    "                      metrics=['mse'])\n",
    "\n",
    "# Train the model\n",
    "rmsprop_model.fit(X_train_scaled, \n",
    "                  y_train_scaled, \n",
    "                  batch_size=32, \n",
    "                  epochs=150, \n",
    "                  validation_data=(X_val_scaled, y_val_scaled))"
   ]
  },
  {
   "cell_type": "code",
   "execution_count": 47,
   "metadata": {
    "ExecuteTime": {
     "end_time": "2020-10-18T09:14:26.253283Z",
     "start_time": "2020-10-18T09:14:25.579049Z"
    }
   },
   "outputs": [
    {
     "name": "stdout",
     "output_type": "stream",
     "text": [
      "R-sq score: 0.927649546409549\n",
      "RMSE: 4.607764906019892\n",
      "MAE: 3.7368384231099845\n"
     ]
    }
   ],
   "source": [
    "nn_metrics(rmsprop_model)\n",
    "\n",
    "y_val_pred_scaled = rmsprop_model.predict(X_val_scaled)\n",
    "y_val_pred = ss_y.inverse_transform(y_val_pred_scaled)\n",
    "propR2 =  r2_score(y_val,y_val_pred)\n",
    "propRMSE = np.sqrt(mse(y_val, y_val_pred))\n",
    "propMAE = mae(y_val, y_val_pred)\n"
   ]
  },
  {
   "cell_type": "code",
   "execution_count": 48,
   "metadata": {
    "ExecuteTime": {
     "end_time": "2020-10-18T09:14:41.948812Z",
     "start_time": "2020-10-18T09:14:41.929690Z"
    }
   },
   "outputs": [],
   "source": [
    "prop = pd.DataFrame(['NN-RMSprop', propR2, propRMSE, propMAE])\n",
    "prop = pd.DataFrame.transpose(prop)\n",
    "prop.columns = ['Model', 'R-sq', 'RMSE', 'MAE']"
   ]
  },
  {
   "cell_type": "markdown",
   "metadata": {},
   "source": [
    "There is yet to be any positive change in neural networks. All having consistent outputs but not different enough from each other"
   ]
  },
  {
   "cell_type": "markdown",
   "metadata": {},
   "source": [
    "## adam"
   ]
  },
  {
   "cell_type": "code",
   "execution_count": 49,
   "metadata": {
    "ExecuteTime": {
     "end_time": "2020-10-18T09:15:20.971877Z",
     "start_time": "2020-10-18T09:14:56.817365Z"
    }
   },
   "outputs": [
    {
     "name": "stdout",
     "output_type": "stream",
     "text": [
      "Epoch 1/150\n",
      "34/34 [==============================] - 1s 17ms/step - loss: 0.5021 - mse: 0.5021 - val_loss: 0.1922 - val_mse: 0.1922\n",
      "Epoch 2/150\n",
      "34/34 [==============================] - 0s 4ms/step - loss: 0.1298 - mse: 0.1298 - val_loss: 0.1177 - val_mse: 0.1177\n",
      "Epoch 3/150\n",
      "34/34 [==============================] - 0s 4ms/step - loss: 0.0917 - mse: 0.0917 - val_loss: 0.0961 - val_mse: 0.0961\n",
      "Epoch 4/150\n",
      "34/34 [==============================] - 0s 4ms/step - loss: 0.0751 - mse: 0.0751 - val_loss: 0.0897 - val_mse: 0.0897\n",
      "Epoch 5/150\n",
      "34/34 [==============================] - 0s 4ms/step - loss: 0.0632 - mse: 0.0632 - val_loss: 0.0812 - val_mse: 0.0812\n",
      "Epoch 6/150\n",
      "34/34 [==============================] - 0s 4ms/step - loss: 0.0552 - mse: 0.0552 - val_loss: 0.0760 - val_mse: 0.0760\n",
      "Epoch 7/150\n",
      "34/34 [==============================] - 0s 4ms/step - loss: 0.0486 - mse: 0.0486 - val_loss: 0.0765 - val_mse: 0.0765\n",
      "Epoch 8/150\n",
      "34/34 [==============================] - 0s 4ms/step - loss: 0.0452 - mse: 0.0452 - val_loss: 0.0735 - val_mse: 0.0735\n",
      "Epoch 9/150\n",
      "34/34 [==============================] - 0s 4ms/step - loss: 0.0413 - mse: 0.0413 - val_loss: 0.0740 - val_mse: 0.0740\n",
      "Epoch 10/150\n",
      "34/34 [==============================] - 0s 5ms/step - loss: 0.0377 - mse: 0.0377 - val_loss: 0.0729 - val_mse: 0.0729\n",
      "Epoch 11/150\n",
      "34/34 [==============================] - 0s 4ms/step - loss: 0.0349 - mse: 0.0349 - val_loss: 0.0689 - val_mse: 0.0689\n",
      "Epoch 12/150\n",
      "34/34 [==============================] - 0s 4ms/step - loss: 0.0316 - mse: 0.0316 - val_loss: 0.0694 - val_mse: 0.0694\n",
      "Epoch 13/150\n",
      "34/34 [==============================] - 0s 4ms/step - loss: 0.0291 - mse: 0.0291 - val_loss: 0.0703 - val_mse: 0.0703\n",
      "Epoch 14/150\n",
      "34/34 [==============================] - 0s 4ms/step - loss: 0.0280 - mse: 0.0280 - val_loss: 0.0692 - val_mse: 0.0692\n",
      "Epoch 15/150\n",
      "34/34 [==============================] - 0s 4ms/step - loss: 0.0257 - mse: 0.0257 - val_loss: 0.0702 - val_mse: 0.0702\n",
      "Epoch 16/150\n",
      "34/34 [==============================] - 0s 4ms/step - loss: 0.0236 - mse: 0.0236 - val_loss: 0.0683 - val_mse: 0.0683\n",
      "Epoch 17/150\n",
      "34/34 [==============================] - 0s 4ms/step - loss: 0.0221 - mse: 0.0221 - val_loss: 0.0769 - val_mse: 0.0769\n",
      "Epoch 18/150\n",
      "34/34 [==============================] - 0s 4ms/step - loss: 0.0217 - mse: 0.0217 - val_loss: 0.0690 - val_mse: 0.0690\n",
      "Epoch 19/150\n",
      "34/34 [==============================] - 0s 4ms/step - loss: 0.0201 - mse: 0.0201 - val_loss: 0.0686 - val_mse: 0.0686\n",
      "Epoch 20/150\n",
      "34/34 [==============================] - 0s 4ms/step - loss: 0.0183 - mse: 0.0183 - val_loss: 0.0684 - val_mse: 0.0684\n",
      "Epoch 21/150\n",
      "34/34 [==============================] - 0s 4ms/step - loss: 0.0183 - mse: 0.0183 - val_loss: 0.0687 - val_mse: 0.0687\n",
      "Epoch 22/150\n",
      "34/34 [==============================] - 0s 4ms/step - loss: 0.0175 - mse: 0.0175 - val_loss: 0.0690 - val_mse: 0.0690\n",
      "Epoch 23/150\n",
      "34/34 [==============================] - 0s 4ms/step - loss: 0.0157 - mse: 0.0157 - val_loss: 0.0682 - val_mse: 0.0682\n",
      "Epoch 24/150\n",
      "34/34 [==============================] - 0s 4ms/step - loss: 0.0147 - mse: 0.0147 - val_loss: 0.0701 - val_mse: 0.0701\n",
      "Epoch 25/150\n",
      "34/34 [==============================] - 0s 4ms/step - loss: 0.0149 - mse: 0.0149 - val_loss: 0.0690 - val_mse: 0.0690\n",
      "Epoch 26/150\n",
      "34/34 [==============================] - 0s 4ms/step - loss: 0.0138 - mse: 0.0138 - val_loss: 0.0722 - val_mse: 0.0722\n",
      "Epoch 27/150\n",
      "34/34 [==============================] - 0s 4ms/step - loss: 0.0130 - mse: 0.0130 - val_loss: 0.0701 - val_mse: 0.0701\n",
      "Epoch 28/150\n",
      "34/34 [==============================] - 0s 4ms/step - loss: 0.0125 - mse: 0.0125 - val_loss: 0.0736 - val_mse: 0.0736\n",
      "Epoch 29/150\n",
      "34/34 [==============================] - 0s 4ms/step - loss: 0.0118 - mse: 0.0118 - val_loss: 0.0732 - val_mse: 0.0732\n",
      "Epoch 30/150\n",
      "34/34 [==============================] - 0s 4ms/step - loss: 0.0113 - mse: 0.0113 - val_loss: 0.0712 - val_mse: 0.0712\n",
      "Epoch 31/150\n",
      "34/34 [==============================] - 0s 4ms/step - loss: 0.0100 - mse: 0.0100 - val_loss: 0.0733 - val_mse: 0.0733\n",
      "Epoch 32/150\n",
      "34/34 [==============================] - 0s 4ms/step - loss: 0.0099 - mse: 0.0099 - val_loss: 0.0722 - val_mse: 0.0722\n",
      "Epoch 33/150\n",
      "34/34 [==============================] - 0s 4ms/step - loss: 0.0095 - mse: 0.0095 - val_loss: 0.0753 - val_mse: 0.0753\n",
      "Epoch 34/150\n",
      "34/34 [==============================] - 0s 4ms/step - loss: 0.0089 - mse: 0.0089 - val_loss: 0.0720 - val_mse: 0.0720\n",
      "Epoch 35/150\n",
      "34/34 [==============================] - 0s 4ms/step - loss: 0.0081 - mse: 0.0081 - val_loss: 0.0744 - val_mse: 0.0744\n",
      "Epoch 36/150\n",
      "34/34 [==============================] - 0s 4ms/step - loss: 0.0082 - mse: 0.0082 - val_loss: 0.0759 - val_mse: 0.0759\n",
      "Epoch 37/150\n",
      "34/34 [==============================] - 0s 4ms/step - loss: 0.0078 - mse: 0.0078 - val_loss: 0.0744 - val_mse: 0.0744\n",
      "Epoch 38/150\n",
      "34/34 [==============================] - 0s 4ms/step - loss: 0.0078 - mse: 0.0078 - val_loss: 0.0745 - val_mse: 0.0745\n",
      "Epoch 39/150\n",
      "34/34 [==============================] - 0s 4ms/step - loss: 0.0074 - mse: 0.0074 - val_loss: 0.0752 - val_mse: 0.0752\n",
      "Epoch 40/150\n",
      "34/34 [==============================] - 0s 4ms/step - loss: 0.0067 - mse: 0.0067 - val_loss: 0.0781 - val_mse: 0.0781\n",
      "Epoch 41/150\n",
      "34/34 [==============================] - 0s 4ms/step - loss: 0.0065 - mse: 0.0065 - val_loss: 0.0770 - val_mse: 0.0770\n",
      "Epoch 42/150\n",
      "34/34 [==============================] - 0s 4ms/step - loss: 0.0062 - mse: 0.0062 - val_loss: 0.0780 - val_mse: 0.0780\n",
      "Epoch 43/150\n",
      "34/34 [==============================] - 0s 4ms/step - loss: 0.0057 - mse: 0.0057 - val_loss: 0.0777 - val_mse: 0.0777\n",
      "Epoch 44/150\n",
      "34/34 [==============================] - 0s 4ms/step - loss: 0.0052 - mse: 0.0052 - val_loss: 0.0783 - val_mse: 0.0783\n",
      "Epoch 45/150\n",
      "34/34 [==============================] - 0s 4ms/step - loss: 0.0046 - mse: 0.0046 - val_loss: 0.0791 - val_mse: 0.0791\n",
      "Epoch 46/150\n",
      "34/34 [==============================] - 0s 4ms/step - loss: 0.0046 - mse: 0.0046 - val_loss: 0.0778 - val_mse: 0.0778\n",
      "Epoch 47/150\n",
      "34/34 [==============================] - 0s 4ms/step - loss: 0.0049 - mse: 0.0049 - val_loss: 0.0807 - val_mse: 0.0807\n",
      "Epoch 48/150\n",
      "34/34 [==============================] - 0s 4ms/step - loss: 0.0045 - mse: 0.0045 - val_loss: 0.0802 - val_mse: 0.0802\n",
      "Epoch 49/150\n",
      "34/34 [==============================] - 0s 4ms/step - loss: 0.0042 - mse: 0.0042 - val_loss: 0.0805 - val_mse: 0.0805\n",
      "Epoch 50/150\n",
      "34/34 [==============================] - 0s 4ms/step - loss: 0.0041 - mse: 0.0041 - val_loss: 0.0796 - val_mse: 0.0796\n",
      "Epoch 51/150\n",
      "34/34 [==============================] - 0s 4ms/step - loss: 0.0039 - mse: 0.0039 - val_loss: 0.0801 - val_mse: 0.0801\n",
      "Epoch 52/150\n",
      "34/34 [==============================] - 0s 4ms/step - loss: 0.0037 - mse: 0.0037 - val_loss: 0.0800 - val_mse: 0.0800\n",
      "Epoch 53/150\n",
      "34/34 [==============================] - 0s 4ms/step - loss: 0.0033 - mse: 0.0033 - val_loss: 0.0806 - val_mse: 0.0806\n",
      "Epoch 54/150\n",
      "34/34 [==============================] - 0s 4ms/step - loss: 0.0032 - mse: 0.0032 - val_loss: 0.0830 - val_mse: 0.0830\n",
      "Epoch 55/150\n",
      "34/34 [==============================] - 0s 4ms/step - loss: 0.0035 - mse: 0.0035 - val_loss: 0.0813 - val_mse: 0.0813\n",
      "Epoch 56/150\n",
      "34/34 [==============================] - 0s 4ms/step - loss: 0.0029 - mse: 0.0029 - val_loss: 0.0819 - val_mse: 0.0819\n",
      "Epoch 57/150\n",
      "34/34 [==============================] - 0s 4ms/step - loss: 0.0027 - mse: 0.0027 - val_loss: 0.0821 - val_mse: 0.0821\n",
      "Epoch 58/150\n",
      "34/34 [==============================] - 0s 4ms/step - loss: 0.0026 - mse: 0.0026 - val_loss: 0.0824 - val_mse: 0.0824\n",
      "Epoch 59/150\n",
      "34/34 [==============================] - 0s 4ms/step - loss: 0.0024 - mse: 0.0024 - val_loss: 0.0819 - val_mse: 0.0819\n",
      "Epoch 60/150\n",
      "34/34 [==============================] - 0s 4ms/step - loss: 0.0024 - mse: 0.0024 - val_loss: 0.0821 - val_mse: 0.0821\n",
      "Epoch 61/150\n",
      "34/34 [==============================] - 0s 4ms/step - loss: 0.0022 - mse: 0.0022 - val_loss: 0.0829 - val_mse: 0.0829\n",
      "Epoch 62/150\n",
      "34/34 [==============================] - 0s 4ms/step - loss: 0.0021 - mse: 0.0021 - val_loss: 0.0831 - val_mse: 0.0831\n",
      "Epoch 63/150\n",
      "34/34 [==============================] - 0s 5ms/step - loss: 0.0020 - mse: 0.0020 - val_loss: 0.0828 - val_mse: 0.0828\n",
      "Epoch 64/150\n",
      "34/34 [==============================] - 0s 4ms/step - loss: 0.0019 - mse: 0.0019 - val_loss: 0.0827 - val_mse: 0.0827\n",
      "Epoch 65/150\n",
      "34/34 [==============================] - 0s 4ms/step - loss: 0.0017 - mse: 0.0017 - val_loss: 0.0835 - val_mse: 0.0835\n",
      "Epoch 66/150\n",
      "34/34 [==============================] - 0s 4ms/step - loss: 0.0015 - mse: 0.0015 - val_loss: 0.0845 - val_mse: 0.0845\n",
      "Epoch 67/150\n",
      "34/34 [==============================] - 0s 4ms/step - loss: 0.0015 - mse: 0.0015 - val_loss: 0.0865 - val_mse: 0.0865\n",
      "Epoch 68/150\n",
      "34/34 [==============================] - 0s 4ms/step - loss: 0.0018 - mse: 0.0018 - val_loss: 0.0850 - val_mse: 0.0850\n",
      "Epoch 69/150\n",
      "34/34 [==============================] - 0s 4ms/step - loss: 0.0019 - mse: 0.0019 - val_loss: 0.0866 - val_mse: 0.0866\n",
      "Epoch 70/150\n",
      "34/34 [==============================] - 0s 4ms/step - loss: 0.0021 - mse: 0.0021 - val_loss: 0.0863 - val_mse: 0.0863\n",
      "Epoch 71/150\n",
      "34/34 [==============================] - 0s 4ms/step - loss: 0.0021 - mse: 0.0021 - val_loss: 0.0854 - val_mse: 0.0854\n",
      "Epoch 72/150\n",
      "34/34 [==============================] - 0s 4ms/step - loss: 0.0018 - mse: 0.0018 - val_loss: 0.0860 - val_mse: 0.0860\n",
      "Epoch 73/150\n",
      "34/34 [==============================] - 0s 4ms/step - loss: 0.0018 - mse: 0.0018 - val_loss: 0.0855 - val_mse: 0.0855\n",
      "Epoch 74/150\n",
      "34/34 [==============================] - 0s 4ms/step - loss: 0.0015 - mse: 0.0015 - val_loss: 0.0855 - val_mse: 0.0855\n",
      "Epoch 75/150\n",
      "34/34 [==============================] - 0s 4ms/step - loss: 0.0015 - mse: 0.0015 - val_loss: 0.0866 - val_mse: 0.0866\n",
      "Epoch 76/150\n",
      "34/34 [==============================] - 0s 4ms/step - loss: 0.0015 - mse: 0.0015 - val_loss: 0.0862 - val_mse: 0.0862\n",
      "Epoch 77/150\n",
      "34/34 [==============================] - 0s 4ms/step - loss: 0.0013 - mse: 0.0013 - val_loss: 0.0866 - val_mse: 0.0866\n",
      "Epoch 78/150\n",
      "34/34 [==============================] - 0s 4ms/step - loss: 0.0015 - mse: 0.0015 - val_loss: 0.0856 - val_mse: 0.0856\n",
      "Epoch 79/150\n",
      "34/34 [==============================] - 0s 4ms/step - loss: 0.0021 - mse: 0.0021 - val_loss: 0.0885 - val_mse: 0.0885\n",
      "Epoch 80/150\n",
      "34/34 [==============================] - 0s 4ms/step - loss: 0.0019 - mse: 0.0019 - val_loss: 0.0867 - val_mse: 0.0867\n",
      "Epoch 81/150\n",
      "34/34 [==============================] - 0s 4ms/step - loss: 0.0016 - mse: 0.0016 - val_loss: 0.0872 - val_mse: 0.0872\n",
      "Epoch 82/150\n",
      "34/34 [==============================] - 0s 4ms/step - loss: 0.0014 - mse: 0.0014 - val_loss: 0.0877 - val_mse: 0.0877\n",
      "Epoch 83/150\n",
      "34/34 [==============================] - 0s 4ms/step - loss: 0.0017 - mse: 0.0017 - val_loss: 0.0882 - val_mse: 0.0882\n",
      "Epoch 84/150\n",
      "34/34 [==============================] - 0s 4ms/step - loss: 0.0023 - mse: 0.0023 - val_loss: 0.0886 - val_mse: 0.0886\n",
      "Epoch 85/150\n",
      "34/34 [==============================] - 0s 4ms/step - loss: 0.0025 - mse: 0.0025 - val_loss: 0.0891 - val_mse: 0.0891\n",
      "Epoch 86/150\n",
      "34/34 [==============================] - 0s 4ms/step - loss: 0.0027 - mse: 0.0027 - val_loss: 0.0866 - val_mse: 0.0866\n",
      "Epoch 87/150\n",
      "34/34 [==============================] - 0s 4ms/step - loss: 0.0023 - mse: 0.0023 - val_loss: 0.0878 - val_mse: 0.0878\n",
      "Epoch 88/150\n",
      "34/34 [==============================] - 0s 4ms/step - loss: 0.0022 - mse: 0.0022 - val_loss: 0.0870 - val_mse: 0.0870\n",
      "Epoch 89/150\n",
      "34/34 [==============================] - 0s 4ms/step - loss: 0.0021 - mse: 0.0021 - val_loss: 0.0885 - val_mse: 0.0885\n",
      "Epoch 90/150\n",
      "34/34 [==============================] - 0s 4ms/step - loss: 0.0018 - mse: 0.0018 - val_loss: 0.0870 - val_mse: 0.0870\n",
      "Epoch 91/150\n",
      "34/34 [==============================] - 0s 4ms/step - loss: 0.0018 - mse: 0.0018 - val_loss: 0.0875 - val_mse: 0.0875\n",
      "Epoch 92/150\n",
      "34/34 [==============================] - 0s 4ms/step - loss: 0.0016 - mse: 0.0016 - val_loss: 0.0871 - val_mse: 0.0871\n",
      "Epoch 93/150\n",
      "34/34 [==============================] - 0s 4ms/step - loss: 0.0012 - mse: 0.0012 - val_loss: 0.0877 - val_mse: 0.0877\n",
      "Epoch 94/150\n",
      "34/34 [==============================] - 0s 4ms/step - loss: 0.0011 - mse: 0.0011 - val_loss: 0.0899 - val_mse: 0.0899\n",
      "Epoch 95/150\n",
      "34/34 [==============================] - 0s 4ms/step - loss: 0.0013 - mse: 0.0013 - val_loss: 0.0884 - val_mse: 0.0884\n",
      "Epoch 96/150\n",
      "34/34 [==============================] - 0s 4ms/step - loss: 0.0011 - mse: 0.0011 - val_loss: 0.0886 - val_mse: 0.0886\n",
      "Epoch 97/150\n",
      "34/34 [==============================] - 0s 4ms/step - loss: 9.2413e-04 - mse: 9.2413e-04 - val_loss: 0.0894 - val_mse: 0.0894\n",
      "Epoch 98/150\n",
      "34/34 [==============================] - 0s 4ms/step - loss: 8.8172e-04 - mse: 8.8172e-04 - val_loss: 0.0892 - val_mse: 0.0892\n",
      "Epoch 99/150\n",
      "34/34 [==============================] - 0s 4ms/step - loss: 8.8924e-04 - mse: 8.8924e-04 - val_loss: 0.0898 - val_mse: 0.0898\n",
      "Epoch 100/150\n",
      "34/34 [==============================] - 0s 4ms/step - loss: 0.0023 - mse: 0.0023 - val_loss: 0.0881 - val_mse: 0.0881\n",
      "Epoch 101/150\n",
      "34/34 [==============================] - 0s 4ms/step - loss: 0.0021 - mse: 0.0021 - val_loss: 0.0901 - val_mse: 0.0901\n",
      "Epoch 102/150\n",
      "34/34 [==============================] - 0s 4ms/step - loss: 0.0020 - mse: 0.0020 - val_loss: 0.0879 - val_mse: 0.0879\n",
      "Epoch 103/150\n",
      "34/34 [==============================] - 0s 5ms/step - loss: 0.0018 - mse: 0.0018 - val_loss: 0.0885 - val_mse: 0.0885\n",
      "Epoch 104/150\n",
      "34/34 [==============================] - 0s 4ms/step - loss: 0.0019 - mse: 0.0019 - val_loss: 0.0890 - val_mse: 0.0890\n",
      "Epoch 105/150\n",
      "34/34 [==============================] - 0s 4ms/step - loss: 0.0020 - mse: 0.0020 - val_loss: 0.0886 - val_mse: 0.0886\n",
      "Epoch 106/150\n",
      "34/34 [==============================] - 0s 4ms/step - loss: 0.0017 - mse: 0.0017 - val_loss: 0.0882 - val_mse: 0.0882\n",
      "Epoch 107/150\n",
      "34/34 [==============================] - 0s 4ms/step - loss: 0.0019 - mse: 0.0019 - val_loss: 0.0893 - val_mse: 0.0893\n",
      "Epoch 108/150\n",
      "34/34 [==============================] - 0s 4ms/step - loss: 0.0019 - mse: 0.0019 - val_loss: 0.0877 - val_mse: 0.0877\n",
      "Epoch 109/150\n",
      "34/34 [==============================] - 0s 4ms/step - loss: 0.0022 - mse: 0.0022 - val_loss: 0.0889 - val_mse: 0.0889\n",
      "Epoch 110/150\n",
      "34/34 [==============================] - 0s 4ms/step - loss: 0.0028 - mse: 0.0028 - val_loss: 0.0901 - val_mse: 0.0901\n",
      "Epoch 111/150\n",
      "34/34 [==============================] - 0s 4ms/step - loss: 0.0021 - mse: 0.0021 - val_loss: 0.0886 - val_mse: 0.0886\n",
      "Epoch 112/150\n",
      "34/34 [==============================] - 0s 4ms/step - loss: 0.0024 - mse: 0.0024 - val_loss: 0.0892 - val_mse: 0.0892\n",
      "Epoch 113/150\n",
      "34/34 [==============================] - 0s 4ms/step - loss: 0.0026 - mse: 0.0026 - val_loss: 0.0886 - val_mse: 0.0886\n",
      "Epoch 114/150\n",
      "34/34 [==============================] - 0s 4ms/step - loss: 0.0025 - mse: 0.0025 - val_loss: 0.0885 - val_mse: 0.0885\n",
      "Epoch 115/150\n",
      "34/34 [==============================] - 0s 4ms/step - loss: 0.0024 - mse: 0.0024 - val_loss: 0.0884 - val_mse: 0.0884\n",
      "Epoch 116/150\n",
      "34/34 [==============================] - 0s 4ms/step - loss: 0.0016 - mse: 0.0016 - val_loss: 0.0896 - val_mse: 0.0896\n",
      "Epoch 117/150\n",
      "34/34 [==============================] - 0s 4ms/step - loss: 0.0020 - mse: 0.0020 - val_loss: 0.0896 - val_mse: 0.0896\n",
      "Epoch 118/150\n",
      "34/34 [==============================] - 0s 4ms/step - loss: 0.0020 - mse: 0.0020 - val_loss: 0.0902 - val_mse: 0.0902\n",
      "Epoch 119/150\n",
      "34/34 [==============================] - 0s 4ms/step - loss: 0.0021 - mse: 0.0021 - val_loss: 0.0891 - val_mse: 0.0891\n",
      "Epoch 120/150\n",
      "34/34 [==============================] - 0s 4ms/step - loss: 0.0017 - mse: 0.0017 - val_loss: 0.0889 - val_mse: 0.0889\n",
      "Epoch 121/150\n",
      "34/34 [==============================] - 0s 4ms/step - loss: 0.0012 - mse: 0.0012 - val_loss: 0.0879 - val_mse: 0.0879\n",
      "Epoch 122/150\n",
      "34/34 [==============================] - 0s 4ms/step - loss: 0.0012 - mse: 0.0012 - val_loss: 0.0870 - val_mse: 0.0870\n",
      "Epoch 123/150\n",
      "34/34 [==============================] - 0s 4ms/step - loss: 9.5370e-04 - mse: 9.5370e-04 - val_loss: 0.0870 - val_mse: 0.0870\n",
      "Epoch 124/150\n",
      "34/34 [==============================] - 0s 4ms/step - loss: 9.8433e-04 - mse: 9.8433e-04 - val_loss: 0.0888 - val_mse: 0.0888\n"
     ]
    },
    {
     "name": "stdout",
     "output_type": "stream",
     "text": [
      "Epoch 125/150\n",
      "34/34 [==============================] - 0s 4ms/step - loss: 0.0013 - mse: 0.0013 - val_loss: 0.0870 - val_mse: 0.0870\n",
      "Epoch 126/150\n",
      "34/34 [==============================] - 0s 4ms/step - loss: 0.0017 - mse: 0.0017 - val_loss: 0.0878 - val_mse: 0.0878\n",
      "Epoch 127/150\n",
      "34/34 [==============================] - 0s 4ms/step - loss: 0.0017 - mse: 0.0017 - val_loss: 0.0882 - val_mse: 0.0882\n",
      "Epoch 128/150\n",
      "34/34 [==============================] - 0s 4ms/step - loss: 0.0018 - mse: 0.0018 - val_loss: 0.0878 - val_mse: 0.0878\n",
      "Epoch 129/150\n",
      "34/34 [==============================] - 0s 5ms/step - loss: 0.0018 - mse: 0.0018 - val_loss: 0.0883 - val_mse: 0.0883\n",
      "Epoch 130/150\n",
      "34/34 [==============================] - 0s 4ms/step - loss: 0.0024 - mse: 0.0024 - val_loss: 0.0929 - val_mse: 0.0929\n",
      "Epoch 131/150\n",
      "34/34 [==============================] - 0s 4ms/step - loss: 0.0030 - mse: 0.0030 - val_loss: 0.0853 - val_mse: 0.0853\n",
      "Epoch 132/150\n",
      "34/34 [==============================] - 0s 4ms/step - loss: 0.0031 - mse: 0.0031 - val_loss: 0.0892 - val_mse: 0.0892\n",
      "Epoch 133/150\n",
      "34/34 [==============================] - 0s 4ms/step - loss: 0.0053 - mse: 0.0053 - val_loss: 0.0919 - val_mse: 0.0919\n",
      "Epoch 134/150\n",
      "34/34 [==============================] - 0s 4ms/step - loss: 0.0050 - mse: 0.0050 - val_loss: 0.0858 - val_mse: 0.0858\n",
      "Epoch 135/150\n",
      "34/34 [==============================] - 0s 4ms/step - loss: 0.0041 - mse: 0.0041 - val_loss: 0.0856 - val_mse: 0.0856\n",
      "Epoch 136/150\n",
      "34/34 [==============================] - 0s 4ms/step - loss: 0.0034 - mse: 0.0034 - val_loss: 0.0869 - val_mse: 0.0869\n",
      "Epoch 137/150\n",
      "34/34 [==============================] - 0s 4ms/step - loss: 0.0027 - mse: 0.0027 - val_loss: 0.0862 - val_mse: 0.0862\n",
      "Epoch 138/150\n",
      "34/34 [==============================] - 0s 4ms/step - loss: 0.0017 - mse: 0.0017 - val_loss: 0.0857 - val_mse: 0.0857\n",
      "Epoch 139/150\n",
      "34/34 [==============================] - 0s 4ms/step - loss: 0.0016 - mse: 0.0016 - val_loss: 0.0864 - val_mse: 0.0864\n",
      "Epoch 140/150\n",
      "34/34 [==============================] - 0s 4ms/step - loss: 0.0014 - mse: 0.0014 - val_loss: 0.0848 - val_mse: 0.0848\n",
      "Epoch 141/150\n",
      "34/34 [==============================] - 0s 4ms/step - loss: 0.0012 - mse: 0.0012 - val_loss: 0.0864 - val_mse: 0.0864\n",
      "Epoch 142/150\n",
      "34/34 [==============================] - 0s 4ms/step - loss: 8.4722e-04 - mse: 8.4722e-04 - val_loss: 0.0870 - val_mse: 0.0870\n",
      "Epoch 143/150\n",
      "34/34 [==============================] - 0s 4ms/step - loss: 0.0011 - mse: 0.0011 - val_loss: 0.0850 - val_mse: 0.0850\n",
      "Epoch 144/150\n",
      "34/34 [==============================] - 0s 4ms/step - loss: 0.0011 - mse: 0.0011 - val_loss: 0.0869 - val_mse: 0.0869\n",
      "Epoch 145/150\n",
      "34/34 [==============================] - 0s 4ms/step - loss: 8.6766e-04 - mse: 8.6766e-04 - val_loss: 0.0866 - val_mse: 0.0866\n",
      "Epoch 146/150\n",
      "34/34 [==============================] - 0s 4ms/step - loss: 6.1844e-04 - mse: 6.1844e-04 - val_loss: 0.0859 - val_mse: 0.0859\n",
      "Epoch 147/150\n",
      "34/34 [==============================] - 0s 4ms/step - loss: 5.5007e-04 - mse: 5.5007e-04 - val_loss: 0.0866 - val_mse: 0.0866\n",
      "Epoch 148/150\n",
      "34/34 [==============================] - 0s 4ms/step - loss: 4.5658e-04 - mse: 4.5658e-04 - val_loss: 0.0866 - val_mse: 0.0866\n",
      "Epoch 149/150\n",
      "34/34 [==============================] - 0s 4ms/step - loss: 3.9167e-04 - mse: 3.9167e-04 - val_loss: 0.0868 - val_mse: 0.0868\n",
      "Epoch 150/150\n",
      "34/34 [==============================] - 0s 4ms/step - loss: 4.1492e-04 - mse: 4.1492e-04 - val_loss: 0.0859 - val_mse: 0.0859\n"
     ]
    },
    {
     "data": {
      "text/plain": [
       "<tensorflow.python.keras.callbacks.History at 0x1aeffb047b8>"
      ]
     },
     "execution_count": 49,
     "metadata": {},
     "output_type": "execute_result"
    }
   ],
   "source": [
    "np.random.seed(123)\n",
    "adam_model = Sequential()\n",
    "adam_model.add(layers.Dense(100, activation='relu', input_shape=(n_features,)))\n",
    "adam_model.add(layers.Dense(50, activation='relu'))\n",
    "adam_model.add(layers.Dense(1, activation='linear'))\n",
    "\n",
    "# Compile the model\n",
    "adam_model.compile(optimizer='Adam', \n",
    "                   loss='mse', \n",
    "                   metrics=['mse'])\n",
    "\n",
    "# Train the model\n",
    "adam_model.fit(X_train_scaled, \n",
    "               y_train_scaled, \n",
    "               batch_size=32, \n",
    "               epochs=150, \n",
    "               validation_data=(X_val_scaled, y_val_scaled))"
   ]
  },
  {
   "cell_type": "code",
   "execution_count": 50,
   "metadata": {
    "ExecuteTime": {
     "end_time": "2020-10-18T09:15:36.648046Z",
     "start_time": "2020-10-18T09:15:35.964220Z"
    }
   },
   "outputs": [
    {
     "name": "stdout",
     "output_type": "stream",
     "text": [
      "R-sq score: 0.9203145701647807\n",
      "RMSE: 4.8356976999399315\n",
      "MAE: 3.795788294226346\n"
     ]
    }
   ],
   "source": [
    "nn_metrics(adam_model)\n",
    "\n",
    "y_val_pred_scaled = adam_model.predict(X_val_scaled)\n",
    "y_val_pred = ss_y.inverse_transform(y_val_pred_scaled)\n",
    "adR2 =  r2_score(y_val,y_val_pred)\n",
    "adRMSE = np.sqrt(mse(y_val, y_val_pred))\n",
    "adMAE = mae(y_val, y_val_pred)"
   ]
  },
  {
   "cell_type": "markdown",
   "metadata": {},
   "source": [
    "As the final neural network model, the requirements did not meet the standards of the baseline neural network of the linear model. The normalized model will be assumed as the optimal neural network to compare against the other models"
   ]
  },
  {
   "cell_type": "code",
   "execution_count": 51,
   "metadata": {
    "ExecuteTime": {
     "end_time": "2020-10-18T09:15:51.593141Z",
     "start_time": "2020-10-18T09:15:51.566082Z"
    }
   },
   "outputs": [],
   "source": [
    "ad = pd.DataFrame(['NN-Adam', adR2, adRMSE, adMAE])\n",
    "ad = pd.DataFrame.transpose(ad)\n",
    "ad.columns = ['Model', 'R-sq', 'RMSE', 'MAE']"
   ]
  },
  {
   "cell_type": "code",
   "execution_count": 52,
   "metadata": {
    "ExecuteTime": {
     "end_time": "2020-10-18T09:16:06.673181Z",
     "start_time": "2020-10-18T09:16:06.653585Z"
    }
   },
   "outputs": [],
   "source": [
    "models = pd.concat([lin, dt, rf, gs, nn, he, lc, prop, ad]) "
   ]
  },
  {
   "cell_type": "code",
   "execution_count": 53,
   "metadata": {
    "ExecuteTime": {
     "end_time": "2020-10-18T09:16:21.603854Z",
     "start_time": "2020-10-18T09:16:21.565318Z"
    }
   },
   "outputs": [
    {
     "data": {
      "text/html": [
       "<div>\n",
       "<style scoped>\n",
       "    .dataframe tbody tr th:only-of-type {\n",
       "        vertical-align: middle;\n",
       "    }\n",
       "\n",
       "    .dataframe tbody tr th {\n",
       "        vertical-align: top;\n",
       "    }\n",
       "\n",
       "    .dataframe thead th {\n",
       "        text-align: right;\n",
       "    }\n",
       "</style>\n",
       "<table border=\"1\" class=\"dataframe\">\n",
       "  <thead>\n",
       "    <tr style=\"text-align: right;\">\n",
       "      <th></th>\n",
       "      <th>Model</th>\n",
       "      <th>R-sq</th>\n",
       "      <th>RMSE</th>\n",
       "      <th>MAE</th>\n",
       "    </tr>\n",
       "  </thead>\n",
       "  <tbody>\n",
       "    <tr>\n",
       "      <td>0</td>\n",
       "      <td>Linear Regression</td>\n",
       "      <td>0.938907</td>\n",
       "      <td>4.26609</td>\n",
       "      <td>3.25493</td>\n",
       "    </tr>\n",
       "    <tr>\n",
       "      <td>0</td>\n",
       "      <td>Decision Tree</td>\n",
       "      <td>0.792624</td>\n",
       "      <td>7.85983</td>\n",
       "      <td>5.93007</td>\n",
       "    </tr>\n",
       "    <tr>\n",
       "      <td>0</td>\n",
       "      <td>Random Forest</td>\n",
       "      <td>0.900877</td>\n",
       "      <td>5.43402</td>\n",
       "      <td>4.25432</td>\n",
       "    </tr>\n",
       "    <tr>\n",
       "      <td>0</td>\n",
       "      <td>Grid Search-(RF)</td>\n",
       "      <td>0.902107</td>\n",
       "      <td>5.40021</td>\n",
       "      <td>4.19218</td>\n",
       "    </tr>\n",
       "    <tr>\n",
       "      <td>0</td>\n",
       "      <td>NN-normalized</td>\n",
       "      <td>0.936273</td>\n",
       "      <td>4.3311</td>\n",
       "      <td>3.45474</td>\n",
       "    </tr>\n",
       "    <tr>\n",
       "      <td>0</td>\n",
       "      <td>NN-he</td>\n",
       "      <td>0.921332</td>\n",
       "      <td>4.80472</td>\n",
       "      <td>3.86296</td>\n",
       "    </tr>\n",
       "    <tr>\n",
       "      <td>0</td>\n",
       "      <td>NN-Lecun</td>\n",
       "      <td>0.92403</td>\n",
       "      <td>4.72163</td>\n",
       "      <td>3.73818</td>\n",
       "    </tr>\n",
       "    <tr>\n",
       "      <td>0</td>\n",
       "      <td>NN-RMSprop</td>\n",
       "      <td>0.92765</td>\n",
       "      <td>4.60776</td>\n",
       "      <td>3.73684</td>\n",
       "    </tr>\n",
       "    <tr>\n",
       "      <td>0</td>\n",
       "      <td>NN-Adam</td>\n",
       "      <td>0.920315</td>\n",
       "      <td>4.8357</td>\n",
       "      <td>3.79579</td>\n",
       "    </tr>\n",
       "  </tbody>\n",
       "</table>\n",
       "</div>"
      ],
      "text/plain": [
       "               Model      R-sq     RMSE      MAE\n",
       "0  Linear Regression  0.938907  4.26609  3.25493\n",
       "0      Decision Tree  0.792624  7.85983  5.93007\n",
       "0      Random Forest  0.900877  5.43402  4.25432\n",
       "0   Grid Search-(RF)  0.902107  5.40021  4.19218\n",
       "0      NN-normalized  0.936273   4.3311  3.45474\n",
       "0              NN-he  0.921332  4.80472  3.86296\n",
       "0           NN-Lecun   0.92403  4.72163  3.73818\n",
       "0         NN-RMSprop   0.92765  4.60776  3.73684\n",
       "0            NN-Adam  0.920315   4.8357  3.79579"
      ]
     },
     "execution_count": 53,
     "metadata": {},
     "output_type": "execute_result"
    }
   ],
   "source": [
    "models"
   ]
  },
  {
   "cell_type": "markdown",
   "metadata": {},
   "source": [
    "The finalized model was the multivariate linear regression algorithm. Creating the final model outliers’ non-significant figures were dropped. There was a small reduction of the fit of the model while giving a reduction in error. With low variance between out train and test RMSE it can be assumed that the data is well fitted. Moving foward, data analysis will be based on this models outputs\n",
    "\n"
   ]
  },
  {
   "cell_type": "markdown",
   "metadata": {},
   "source": [
    "# Cross Validation"
   ]
  },
  {
   "cell_type": "code",
   "execution_count": 13,
   "metadata": {
    "ExecuteTime": {
     "end_time": "2021-01-01T20:39:42.553401Z",
     "start_time": "2021-01-01T20:39:42.520257Z"
    }
   },
   "outputs": [],
   "source": [
    "X = df.drop(['QBR'], axis = 1)\n",
    "y = df[['QBR']]\n",
    "\n",
    "# Split the data into training and test sets\n",
    "X_train, X_test, y_train, y_test = train_test_split(X, y, test_size=0.3, random_state=123)"
   ]
  },
  {
   "cell_type": "code",
   "execution_count": 14,
   "metadata": {
    "ExecuteTime": {
     "end_time": "2021-01-01T20:39:58.030149Z",
     "start_time": "2021-01-01T20:39:57.989865Z"
    }
   },
   "outputs": [],
   "source": [
    "from sklearn.preprocessing import StandardScaler\n",
    "ss_X = StandardScaler()\n",
    "\n",
    "numeric_columns = X_train.columns \n",
    "\n",
    "# Instantiate StandardScaler\n",
    "ss_X = StandardScaler()\n",
    "\n",
    "# Fit and transform train data\n",
    "X_train_scaled = pd.DataFrame(ss_X.fit_transform(X_train), columns=numeric_columns)\n",
    "\n",
    "X_test_scaled = pd.DataFrame(ss_X.transform(X_test), columns=numeric_columns)"
   ]
  },
  {
   "cell_type": "code",
   "execution_count": 15,
   "metadata": {
    "ExecuteTime": {
     "end_time": "2021-01-01T20:40:15.383367Z",
     "start_time": "2021-01-01T20:40:15.367581Z"
    }
   },
   "outputs": [],
   "source": [
    "n_features = X_train_scaled.shape[1]"
   ]
  },
  {
   "cell_type": "code",
   "execution_count": 16,
   "metadata": {
    "ExecuteTime": {
     "end_time": "2021-01-01T20:40:32.593408Z",
     "start_time": "2021-01-01T20:40:32.553172Z"
    }
   },
   "outputs": [],
   "source": [
    "# Instantiate StandardScaler\n",
    "ss_y = StandardScaler()\n",
    "\n",
    "# Fit and transform Y (train)\n",
    "y_train_scaled = ss_y.fit_transform(y_train)\n",
    "\n",
    "# Transform test Y (test)\n",
    "y_test_scaled = ss_y.transform(y_test)"
   ]
  },
  {
   "cell_type": "code",
   "execution_count": 25,
   "metadata": {
    "ExecuteTime": {
     "end_time": "2021-01-01T20:53:26.327423Z",
     "start_time": "2021-01-01T20:53:26.296770Z"
    }
   },
   "outputs": [],
   "source": [
    "# Define a function that returns a compiled Keras model \n",
    "from keras import models\n",
    "from keras import layers\n",
    "def create_baseline_model():\n",
    "    \n",
    "    # Initialize model\n",
    "    model = models.Sequential()\n",
    "\n",
    "    # First hidden layer\n",
    "    model.add(layers.Dense(10, activation='relu', input_shape=(n_features,)))\n",
    "\n",
    "    # Second hidden layer\n",
    "    model.add(layers.Dense(5, activation='relu'))\n",
    "\n",
    "    # Output layer\n",
    "    model.add(layers.Dense(1, activation='linear'))\n",
    "\n",
    "    # Compile the model\n",
    "    model.compile(optimizer='SGD', \n",
    "                  loss='mse',  \n",
    "                  metrics=['mse']) \n",
    "    \n",
    "    # Return the compiled model\n",
    "    return model"
   ]
  },
  {
   "cell_type": "code",
   "execution_count": 26,
   "metadata": {
    "ExecuteTime": {
     "end_time": "2021-01-01T20:53:43.635597Z",
     "start_time": "2021-01-01T20:53:43.607070Z"
    }
   },
   "outputs": [],
   "source": [
    "# Wrap the above function for use in cross-validation\n",
    "from keras.wrappers.scikit_learn import KerasRegressor\n",
    "keras_wrapper_1 = KerasRegressor(create_baseline_model,  \n",
    "                                 epochs=150, \n",
    "                                 batch_size=256, \n",
    "                                 verbose=0)"
   ]
  },
  {
   "cell_type": "code",
   "execution_count": 27,
   "metadata": {
    "ExecuteTime": {
     "end_time": "2021-01-01T20:54:16.685241Z",
     "start_time": "2021-01-01T20:54:00.803775Z"
    }
   },
   "outputs": [
    {
     "name": "stdout",
     "output_type": "stream",
     "text": [
      "WARNING:tensorflow:5 out of the last 5 calls to <function Model.make_predict_function.<locals>.predict_function at 0x0000023A5410E400> triggered tf.function retracing. Tracing is expensive and the excessive number of tracings could be due to (1) creating @tf.function repeatedly in a loop, (2) passing tensors with different shapes, (3) passing Python objects instead of tensors. For (1), please define your @tf.function outside of the loop. For (2), @tf.function has experimental_relax_shapes=True option that relaxes argument shapes that can avoid unnecessary retracing. For (3), please refer to https://www.tensorflow.org/tutorials/customization/performance#python_or_tensor_args and https://www.tensorflow.org/api_docs/python/tf/function for  more details.\n"
     ]
    }
   ],
   "source": [
    "from sklearn.model_selection import cross_val_predict\n",
    "np.random.seed(123)\n",
    "cv_baseline_preds = cross_val_predict(keras_wrapper_1, X_train, y_train_scaled, cv=5)"
   ]
  },
  {
   "cell_type": "code",
   "execution_count": 30,
   "metadata": {
    "ExecuteTime": {
     "end_time": "2021-01-01T20:55:28.523711Z",
     "start_time": "2021-01-01T20:55:28.439971Z"
    }
   },
   "outputs": [
    {
     "ename": "ValueError",
     "evalue": "Input contains NaN, infinity or a value too large for dtype('float32').",
     "output_type": "error",
     "traceback": [
      "\u001b[1;31m---------------------------------------------------------------------------\u001b[0m",
      "\u001b[1;31mValueError\u001b[0m                                Traceback (most recent call last)",
      "\u001b[1;32m<ipython-input-30-fcf51a284acc>\u001b[0m in \u001b[0;36m<module>\u001b[1;34m\u001b[0m\n\u001b[0;32m      1\u001b[0m \u001b[1;32mfrom\u001b[0m \u001b[0msklearn\u001b[0m\u001b[1;33m.\u001b[0m\u001b[0mmetrics\u001b[0m \u001b[1;32mimport\u001b[0m \u001b[0mmean_squared_error\u001b[0m\u001b[1;33m\u001b[0m\u001b[1;33m\u001b[0m\u001b[0m\n\u001b[1;32m----> 2\u001b[1;33m \u001b[0mnp\u001b[0m\u001b[1;33m.\u001b[0m\u001b[0msqrt\u001b[0m\u001b[1;33m(\u001b[0m\u001b[0mmean_squared_error\u001b[0m\u001b[1;33m(\u001b[0m\u001b[0my_train_scaled\u001b[0m\u001b[1;33m,\u001b[0m \u001b[0mcv_baseline_preds\u001b[0m\u001b[1;33m)\u001b[0m\u001b[1;33m)\u001b[0m\u001b[1;33m\u001b[0m\u001b[1;33m\u001b[0m\u001b[0m\n\u001b[0m",
      "\u001b[1;32m~\\anaconda3\\envs\\learn-env\\lib\\site-packages\\sklearn\\utils\\validation.py\u001b[0m in \u001b[0;36minner_f\u001b[1;34m(*args, **kwargs)\u001b[0m\n\u001b[0;32m     70\u001b[0m                           FutureWarning)\n\u001b[0;32m     71\u001b[0m         \u001b[0mkwargs\u001b[0m\u001b[1;33m.\u001b[0m\u001b[0mupdate\u001b[0m\u001b[1;33m(\u001b[0m\u001b[1;33m{\u001b[0m\u001b[0mk\u001b[0m\u001b[1;33m:\u001b[0m \u001b[0marg\u001b[0m \u001b[1;32mfor\u001b[0m \u001b[0mk\u001b[0m\u001b[1;33m,\u001b[0m \u001b[0marg\u001b[0m \u001b[1;32min\u001b[0m \u001b[0mzip\u001b[0m\u001b[1;33m(\u001b[0m\u001b[0msig\u001b[0m\u001b[1;33m.\u001b[0m\u001b[0mparameters\u001b[0m\u001b[1;33m,\u001b[0m \u001b[0margs\u001b[0m\u001b[1;33m)\u001b[0m\u001b[1;33m}\u001b[0m\u001b[1;33m)\u001b[0m\u001b[1;33m\u001b[0m\u001b[1;33m\u001b[0m\u001b[0m\n\u001b[1;32m---> 72\u001b[1;33m         \u001b[1;32mreturn\u001b[0m \u001b[0mf\u001b[0m\u001b[1;33m(\u001b[0m\u001b[1;33m**\u001b[0m\u001b[0mkwargs\u001b[0m\u001b[1;33m)\u001b[0m\u001b[1;33m\u001b[0m\u001b[1;33m\u001b[0m\u001b[0m\n\u001b[0m\u001b[0;32m     73\u001b[0m     \u001b[1;32mreturn\u001b[0m \u001b[0minner_f\u001b[0m\u001b[1;33m\u001b[0m\u001b[1;33m\u001b[0m\u001b[0m\n\u001b[0;32m     74\u001b[0m \u001b[1;33m\u001b[0m\u001b[0m\n",
      "\u001b[1;32m~\\anaconda3\\envs\\learn-env\\lib\\site-packages\\sklearn\\metrics\\_regression.py\u001b[0m in \u001b[0;36mmean_squared_error\u001b[1;34m(y_true, y_pred, sample_weight, multioutput, squared)\u001b[0m\n\u001b[0;32m    254\u001b[0m     \"\"\"\n\u001b[0;32m    255\u001b[0m     y_type, y_true, y_pred, multioutput = _check_reg_targets(\n\u001b[1;32m--> 256\u001b[1;33m         y_true, y_pred, multioutput)\n\u001b[0m\u001b[0;32m    257\u001b[0m     \u001b[0mcheck_consistent_length\u001b[0m\u001b[1;33m(\u001b[0m\u001b[0my_true\u001b[0m\u001b[1;33m,\u001b[0m \u001b[0my_pred\u001b[0m\u001b[1;33m,\u001b[0m \u001b[0msample_weight\u001b[0m\u001b[1;33m)\u001b[0m\u001b[1;33m\u001b[0m\u001b[1;33m\u001b[0m\u001b[0m\n\u001b[0;32m    258\u001b[0m     output_errors = np.average((y_true - y_pred) ** 2, axis=0,\n",
      "\u001b[1;32m~\\anaconda3\\envs\\learn-env\\lib\\site-packages\\sklearn\\metrics\\_regression.py\u001b[0m in \u001b[0;36m_check_reg_targets\u001b[1;34m(y_true, y_pred, multioutput, dtype)\u001b[0m\n\u001b[0;32m     84\u001b[0m     \u001b[0mcheck_consistent_length\u001b[0m\u001b[1;33m(\u001b[0m\u001b[0my_true\u001b[0m\u001b[1;33m,\u001b[0m \u001b[0my_pred\u001b[0m\u001b[1;33m)\u001b[0m\u001b[1;33m\u001b[0m\u001b[1;33m\u001b[0m\u001b[0m\n\u001b[0;32m     85\u001b[0m     \u001b[0my_true\u001b[0m \u001b[1;33m=\u001b[0m \u001b[0mcheck_array\u001b[0m\u001b[1;33m(\u001b[0m\u001b[0my_true\u001b[0m\u001b[1;33m,\u001b[0m \u001b[0mensure_2d\u001b[0m\u001b[1;33m=\u001b[0m\u001b[1;32mFalse\u001b[0m\u001b[1;33m,\u001b[0m \u001b[0mdtype\u001b[0m\u001b[1;33m=\u001b[0m\u001b[0mdtype\u001b[0m\u001b[1;33m)\u001b[0m\u001b[1;33m\u001b[0m\u001b[1;33m\u001b[0m\u001b[0m\n\u001b[1;32m---> 86\u001b[1;33m     \u001b[0my_pred\u001b[0m \u001b[1;33m=\u001b[0m \u001b[0mcheck_array\u001b[0m\u001b[1;33m(\u001b[0m\u001b[0my_pred\u001b[0m\u001b[1;33m,\u001b[0m \u001b[0mensure_2d\u001b[0m\u001b[1;33m=\u001b[0m\u001b[1;32mFalse\u001b[0m\u001b[1;33m,\u001b[0m \u001b[0mdtype\u001b[0m\u001b[1;33m=\u001b[0m\u001b[0mdtype\u001b[0m\u001b[1;33m)\u001b[0m\u001b[1;33m\u001b[0m\u001b[1;33m\u001b[0m\u001b[0m\n\u001b[0m\u001b[0;32m     87\u001b[0m \u001b[1;33m\u001b[0m\u001b[0m\n\u001b[0;32m     88\u001b[0m     \u001b[1;32mif\u001b[0m \u001b[0my_true\u001b[0m\u001b[1;33m.\u001b[0m\u001b[0mndim\u001b[0m \u001b[1;33m==\u001b[0m \u001b[1;36m1\u001b[0m\u001b[1;33m:\u001b[0m\u001b[1;33m\u001b[0m\u001b[1;33m\u001b[0m\u001b[0m\n",
      "\u001b[1;32m~\\anaconda3\\envs\\learn-env\\lib\\site-packages\\sklearn\\utils\\validation.py\u001b[0m in \u001b[0;36minner_f\u001b[1;34m(*args, **kwargs)\u001b[0m\n\u001b[0;32m     70\u001b[0m                           FutureWarning)\n\u001b[0;32m     71\u001b[0m         \u001b[0mkwargs\u001b[0m\u001b[1;33m.\u001b[0m\u001b[0mupdate\u001b[0m\u001b[1;33m(\u001b[0m\u001b[1;33m{\u001b[0m\u001b[0mk\u001b[0m\u001b[1;33m:\u001b[0m \u001b[0marg\u001b[0m \u001b[1;32mfor\u001b[0m \u001b[0mk\u001b[0m\u001b[1;33m,\u001b[0m \u001b[0marg\u001b[0m \u001b[1;32min\u001b[0m \u001b[0mzip\u001b[0m\u001b[1;33m(\u001b[0m\u001b[0msig\u001b[0m\u001b[1;33m.\u001b[0m\u001b[0mparameters\u001b[0m\u001b[1;33m,\u001b[0m \u001b[0margs\u001b[0m\u001b[1;33m)\u001b[0m\u001b[1;33m}\u001b[0m\u001b[1;33m)\u001b[0m\u001b[1;33m\u001b[0m\u001b[1;33m\u001b[0m\u001b[0m\n\u001b[1;32m---> 72\u001b[1;33m         \u001b[1;32mreturn\u001b[0m \u001b[0mf\u001b[0m\u001b[1;33m(\u001b[0m\u001b[1;33m**\u001b[0m\u001b[0mkwargs\u001b[0m\u001b[1;33m)\u001b[0m\u001b[1;33m\u001b[0m\u001b[1;33m\u001b[0m\u001b[0m\n\u001b[0m\u001b[0;32m     73\u001b[0m     \u001b[1;32mreturn\u001b[0m \u001b[0minner_f\u001b[0m\u001b[1;33m\u001b[0m\u001b[1;33m\u001b[0m\u001b[0m\n\u001b[0;32m     74\u001b[0m \u001b[1;33m\u001b[0m\u001b[0m\n",
      "\u001b[1;32m~\\anaconda3\\envs\\learn-env\\lib\\site-packages\\sklearn\\utils\\validation.py\u001b[0m in \u001b[0;36mcheck_array\u001b[1;34m(array, accept_sparse, accept_large_sparse, dtype, order, copy, force_all_finite, ensure_2d, allow_nd, ensure_min_samples, ensure_min_features, estimator)\u001b[0m\n\u001b[0;32m    643\u001b[0m         \u001b[1;32mif\u001b[0m \u001b[0mforce_all_finite\u001b[0m\u001b[1;33m:\u001b[0m\u001b[1;33m\u001b[0m\u001b[1;33m\u001b[0m\u001b[0m\n\u001b[0;32m    644\u001b[0m             _assert_all_finite(array,\n\u001b[1;32m--> 645\u001b[1;33m                                allow_nan=force_all_finite == 'allow-nan')\n\u001b[0m\u001b[0;32m    646\u001b[0m \u001b[1;33m\u001b[0m\u001b[0m\n\u001b[0;32m    647\u001b[0m     \u001b[1;32mif\u001b[0m \u001b[0mensure_min_samples\u001b[0m \u001b[1;33m>\u001b[0m \u001b[1;36m0\u001b[0m\u001b[1;33m:\u001b[0m\u001b[1;33m\u001b[0m\u001b[1;33m\u001b[0m\u001b[0m\n",
      "\u001b[1;32m~\\anaconda3\\envs\\learn-env\\lib\\site-packages\\sklearn\\utils\\validation.py\u001b[0m in \u001b[0;36m_assert_all_finite\u001b[1;34m(X, allow_nan, msg_dtype)\u001b[0m\n\u001b[0;32m     97\u001b[0m                     \u001b[0mmsg_err\u001b[0m\u001b[1;33m.\u001b[0m\u001b[0mformat\u001b[0m\u001b[1;33m\u001b[0m\u001b[1;33m\u001b[0m\u001b[0m\n\u001b[0;32m     98\u001b[0m                     (type_err,\n\u001b[1;32m---> 99\u001b[1;33m                      msg_dtype if msg_dtype is not None else X.dtype)\n\u001b[0m\u001b[0;32m    100\u001b[0m             )\n\u001b[0;32m    101\u001b[0m     \u001b[1;31m# for object dtype data, we only check for NaNs (GH-13254)\u001b[0m\u001b[1;33m\u001b[0m\u001b[1;33m\u001b[0m\u001b[1;33m\u001b[0m\u001b[0m\n",
      "\u001b[1;31mValueError\u001b[0m: Input contains NaN, infinity or a value too large for dtype('float32')."
     ]
    }
   ],
   "source": [
    "from sklearn.metrics import mean_squared_error\n",
    "np.sqrt(mean_squared_error(y_train_scaled, cv_baseline_preds))"
   ]
  },
  {
   "cell_type": "code",
   "execution_count": 31,
   "metadata": {
    "ExecuteTime": {
     "end_time": "2021-01-01T20:55:46.036641Z",
     "start_time": "2021-01-01T20:55:45.967115Z"
    }
   },
   "outputs": [
    {
     "ename": "ValueError",
     "evalue": "Input contains NaN, infinity or a value too large for dtype('float32').",
     "output_type": "error",
     "traceback": [
      "\u001b[1;31m---------------------------------------------------------------------------\u001b[0m",
      "\u001b[1;31mValueError\u001b[0m                                Traceback (most recent call last)",
      "\u001b[1;32m<ipython-input-31-0807965e0205>\u001b[0m in \u001b[0;36m<module>\u001b[1;34m\u001b[0m\n\u001b[0;32m      3\u001b[0m \u001b[1;33m\u001b[0m\u001b[0m\n\u001b[0;32m      4\u001b[0m \u001b[1;31m# RMSE on train data (original scale)\u001b[0m\u001b[1;33m\u001b[0m\u001b[1;33m\u001b[0m\u001b[1;33m\u001b[0m\u001b[0m\n\u001b[1;32m----> 5\u001b[1;33m \u001b[0mnp\u001b[0m\u001b[1;33m.\u001b[0m\u001b[0msqrt\u001b[0m\u001b[1;33m(\u001b[0m\u001b[0mmean_squared_error\u001b[0m\u001b[1;33m(\u001b[0m\u001b[0my_train\u001b[0m\u001b[1;33m,\u001b[0m \u001b[0mbaseline_preds\u001b[0m\u001b[1;33m)\u001b[0m\u001b[1;33m)\u001b[0m\u001b[1;33m\u001b[0m\u001b[1;33m\u001b[0m\u001b[0m\n\u001b[0m",
      "\u001b[1;32m~\\anaconda3\\envs\\learn-env\\lib\\site-packages\\sklearn\\utils\\validation.py\u001b[0m in \u001b[0;36minner_f\u001b[1;34m(*args, **kwargs)\u001b[0m\n\u001b[0;32m     70\u001b[0m                           FutureWarning)\n\u001b[0;32m     71\u001b[0m         \u001b[0mkwargs\u001b[0m\u001b[1;33m.\u001b[0m\u001b[0mupdate\u001b[0m\u001b[1;33m(\u001b[0m\u001b[1;33m{\u001b[0m\u001b[0mk\u001b[0m\u001b[1;33m:\u001b[0m \u001b[0marg\u001b[0m \u001b[1;32mfor\u001b[0m \u001b[0mk\u001b[0m\u001b[1;33m,\u001b[0m \u001b[0marg\u001b[0m \u001b[1;32min\u001b[0m \u001b[0mzip\u001b[0m\u001b[1;33m(\u001b[0m\u001b[0msig\u001b[0m\u001b[1;33m.\u001b[0m\u001b[0mparameters\u001b[0m\u001b[1;33m,\u001b[0m \u001b[0margs\u001b[0m\u001b[1;33m)\u001b[0m\u001b[1;33m}\u001b[0m\u001b[1;33m)\u001b[0m\u001b[1;33m\u001b[0m\u001b[1;33m\u001b[0m\u001b[0m\n\u001b[1;32m---> 72\u001b[1;33m         \u001b[1;32mreturn\u001b[0m \u001b[0mf\u001b[0m\u001b[1;33m(\u001b[0m\u001b[1;33m**\u001b[0m\u001b[0mkwargs\u001b[0m\u001b[1;33m)\u001b[0m\u001b[1;33m\u001b[0m\u001b[1;33m\u001b[0m\u001b[0m\n\u001b[0m\u001b[0;32m     73\u001b[0m     \u001b[1;32mreturn\u001b[0m \u001b[0minner_f\u001b[0m\u001b[1;33m\u001b[0m\u001b[1;33m\u001b[0m\u001b[0m\n\u001b[0;32m     74\u001b[0m \u001b[1;33m\u001b[0m\u001b[0m\n",
      "\u001b[1;32m~\\anaconda3\\envs\\learn-env\\lib\\site-packages\\sklearn\\metrics\\_regression.py\u001b[0m in \u001b[0;36mmean_squared_error\u001b[1;34m(y_true, y_pred, sample_weight, multioutput, squared)\u001b[0m\n\u001b[0;32m    254\u001b[0m     \"\"\"\n\u001b[0;32m    255\u001b[0m     y_type, y_true, y_pred, multioutput = _check_reg_targets(\n\u001b[1;32m--> 256\u001b[1;33m         y_true, y_pred, multioutput)\n\u001b[0m\u001b[0;32m    257\u001b[0m     \u001b[0mcheck_consistent_length\u001b[0m\u001b[1;33m(\u001b[0m\u001b[0my_true\u001b[0m\u001b[1;33m,\u001b[0m \u001b[0my_pred\u001b[0m\u001b[1;33m,\u001b[0m \u001b[0msample_weight\u001b[0m\u001b[1;33m)\u001b[0m\u001b[1;33m\u001b[0m\u001b[1;33m\u001b[0m\u001b[0m\n\u001b[0;32m    258\u001b[0m     output_errors = np.average((y_true - y_pred) ** 2, axis=0,\n",
      "\u001b[1;32m~\\anaconda3\\envs\\learn-env\\lib\\site-packages\\sklearn\\metrics\\_regression.py\u001b[0m in \u001b[0;36m_check_reg_targets\u001b[1;34m(y_true, y_pred, multioutput, dtype)\u001b[0m\n\u001b[0;32m     84\u001b[0m     \u001b[0mcheck_consistent_length\u001b[0m\u001b[1;33m(\u001b[0m\u001b[0my_true\u001b[0m\u001b[1;33m,\u001b[0m \u001b[0my_pred\u001b[0m\u001b[1;33m)\u001b[0m\u001b[1;33m\u001b[0m\u001b[1;33m\u001b[0m\u001b[0m\n\u001b[0;32m     85\u001b[0m     \u001b[0my_true\u001b[0m \u001b[1;33m=\u001b[0m \u001b[0mcheck_array\u001b[0m\u001b[1;33m(\u001b[0m\u001b[0my_true\u001b[0m\u001b[1;33m,\u001b[0m \u001b[0mensure_2d\u001b[0m\u001b[1;33m=\u001b[0m\u001b[1;32mFalse\u001b[0m\u001b[1;33m,\u001b[0m \u001b[0mdtype\u001b[0m\u001b[1;33m=\u001b[0m\u001b[0mdtype\u001b[0m\u001b[1;33m)\u001b[0m\u001b[1;33m\u001b[0m\u001b[1;33m\u001b[0m\u001b[0m\n\u001b[1;32m---> 86\u001b[1;33m     \u001b[0my_pred\u001b[0m \u001b[1;33m=\u001b[0m \u001b[0mcheck_array\u001b[0m\u001b[1;33m(\u001b[0m\u001b[0my_pred\u001b[0m\u001b[1;33m,\u001b[0m \u001b[0mensure_2d\u001b[0m\u001b[1;33m=\u001b[0m\u001b[1;32mFalse\u001b[0m\u001b[1;33m,\u001b[0m \u001b[0mdtype\u001b[0m\u001b[1;33m=\u001b[0m\u001b[0mdtype\u001b[0m\u001b[1;33m)\u001b[0m\u001b[1;33m\u001b[0m\u001b[1;33m\u001b[0m\u001b[0m\n\u001b[0m\u001b[0;32m     87\u001b[0m \u001b[1;33m\u001b[0m\u001b[0m\n\u001b[0;32m     88\u001b[0m     \u001b[1;32mif\u001b[0m \u001b[0my_true\u001b[0m\u001b[1;33m.\u001b[0m\u001b[0mndim\u001b[0m \u001b[1;33m==\u001b[0m \u001b[1;36m1\u001b[0m\u001b[1;33m:\u001b[0m\u001b[1;33m\u001b[0m\u001b[1;33m\u001b[0m\u001b[0m\n",
      "\u001b[1;32m~\\anaconda3\\envs\\learn-env\\lib\\site-packages\\sklearn\\utils\\validation.py\u001b[0m in \u001b[0;36minner_f\u001b[1;34m(*args, **kwargs)\u001b[0m\n\u001b[0;32m     70\u001b[0m                           FutureWarning)\n\u001b[0;32m     71\u001b[0m         \u001b[0mkwargs\u001b[0m\u001b[1;33m.\u001b[0m\u001b[0mupdate\u001b[0m\u001b[1;33m(\u001b[0m\u001b[1;33m{\u001b[0m\u001b[0mk\u001b[0m\u001b[1;33m:\u001b[0m \u001b[0marg\u001b[0m \u001b[1;32mfor\u001b[0m \u001b[0mk\u001b[0m\u001b[1;33m,\u001b[0m \u001b[0marg\u001b[0m \u001b[1;32min\u001b[0m \u001b[0mzip\u001b[0m\u001b[1;33m(\u001b[0m\u001b[0msig\u001b[0m\u001b[1;33m.\u001b[0m\u001b[0mparameters\u001b[0m\u001b[1;33m,\u001b[0m \u001b[0margs\u001b[0m\u001b[1;33m)\u001b[0m\u001b[1;33m}\u001b[0m\u001b[1;33m)\u001b[0m\u001b[1;33m\u001b[0m\u001b[1;33m\u001b[0m\u001b[0m\n\u001b[1;32m---> 72\u001b[1;33m         \u001b[1;32mreturn\u001b[0m \u001b[0mf\u001b[0m\u001b[1;33m(\u001b[0m\u001b[1;33m**\u001b[0m\u001b[0mkwargs\u001b[0m\u001b[1;33m)\u001b[0m\u001b[1;33m\u001b[0m\u001b[1;33m\u001b[0m\u001b[0m\n\u001b[0m\u001b[0;32m     73\u001b[0m     \u001b[1;32mreturn\u001b[0m \u001b[0minner_f\u001b[0m\u001b[1;33m\u001b[0m\u001b[1;33m\u001b[0m\u001b[0m\n\u001b[0;32m     74\u001b[0m \u001b[1;33m\u001b[0m\u001b[0m\n",
      "\u001b[1;32m~\\anaconda3\\envs\\learn-env\\lib\\site-packages\\sklearn\\utils\\validation.py\u001b[0m in \u001b[0;36mcheck_array\u001b[1;34m(array, accept_sparse, accept_large_sparse, dtype, order, copy, force_all_finite, ensure_2d, allow_nd, ensure_min_samples, ensure_min_features, estimator)\u001b[0m\n\u001b[0;32m    643\u001b[0m         \u001b[1;32mif\u001b[0m \u001b[0mforce_all_finite\u001b[0m\u001b[1;33m:\u001b[0m\u001b[1;33m\u001b[0m\u001b[1;33m\u001b[0m\u001b[0m\n\u001b[0;32m    644\u001b[0m             _assert_all_finite(array,\n\u001b[1;32m--> 645\u001b[1;33m                                allow_nan=force_all_finite == 'allow-nan')\n\u001b[0m\u001b[0;32m    646\u001b[0m \u001b[1;33m\u001b[0m\u001b[0m\n\u001b[0;32m    647\u001b[0m     \u001b[1;32mif\u001b[0m \u001b[0mensure_min_samples\u001b[0m \u001b[1;33m>\u001b[0m \u001b[1;36m0\u001b[0m\u001b[1;33m:\u001b[0m\u001b[1;33m\u001b[0m\u001b[1;33m\u001b[0m\u001b[0m\n",
      "\u001b[1;32m~\\anaconda3\\envs\\learn-env\\lib\\site-packages\\sklearn\\utils\\validation.py\u001b[0m in \u001b[0;36m_assert_all_finite\u001b[1;34m(X, allow_nan, msg_dtype)\u001b[0m\n\u001b[0;32m     97\u001b[0m                     \u001b[0mmsg_err\u001b[0m\u001b[1;33m.\u001b[0m\u001b[0mformat\u001b[0m\u001b[1;33m\u001b[0m\u001b[1;33m\u001b[0m\u001b[0m\n\u001b[0;32m     98\u001b[0m                     (type_err,\n\u001b[1;32m---> 99\u001b[1;33m                      msg_dtype if msg_dtype is not None else X.dtype)\n\u001b[0m\u001b[0;32m    100\u001b[0m             )\n\u001b[0;32m    101\u001b[0m     \u001b[1;31m# for object dtype data, we only check for NaNs (GH-13254)\u001b[0m\u001b[1;33m\u001b[0m\u001b[1;33m\u001b[0m\u001b[1;33m\u001b[0m\u001b[0m\n",
      "\u001b[1;31mValueError\u001b[0m: Input contains NaN, infinity or a value too large for dtype('float32')."
     ]
    }
   ],
   "source": [
    "# Convert the predictions back to original scale\n",
    "baseline_preds = ss_y.inverse_transform(cv_baseline_preds)\n",
    "\n",
    "# RMSE on train data (original scale)\n",
    "np.sqrt(mean_squared_error(y_train, baseline_preds))"
   ]
  },
  {
   "cell_type": "code",
   "execution_count": null,
   "metadata": {},
   "outputs": [],
   "source": []
  }
 ],
 "metadata": {
  "kernelspec": {
   "display_name": "Python 3",
   "language": "python",
   "name": "python3"
  },
  "language_info": {
   "codemirror_mode": {
    "name": "ipython",
    "version": 3
   },
   "file_extension": ".py",
   "mimetype": "text/x-python",
   "name": "python",
   "nbconvert_exporter": "python",
   "pygments_lexer": "ipython3",
   "version": "3.6.9"
  },
  "toc": {
   "base_numbering": 1,
   "nav_menu": {},
   "number_sections": true,
   "sideBar": true,
   "skip_h1_title": false,
   "title_cell": "Table of Contents",
   "title_sidebar": "Contents",
   "toc_cell": false,
   "toc_position": {},
   "toc_section_display": true,
   "toc_window_display": true
  },
  "varInspector": {
   "cols": {
    "lenName": 16,
    "lenType": 16,
    "lenVar": 40
   },
   "kernels_config": {
    "python": {
     "delete_cmd_postfix": "",
     "delete_cmd_prefix": "del ",
     "library": "var_list.py",
     "varRefreshCmd": "print(var_dic_list())"
    },
    "r": {
     "delete_cmd_postfix": ") ",
     "delete_cmd_prefix": "rm(",
     "library": "var_list.r",
     "varRefreshCmd": "cat(var_dic_list()) "
    }
   },
   "types_to_exclude": [
    "module",
    "function",
    "builtin_function_or_method",
    "instance",
    "_Feature"
   ],
   "window_display": false
  }
 },
 "nbformat": 4,
 "nbformat_minor": 2
}
