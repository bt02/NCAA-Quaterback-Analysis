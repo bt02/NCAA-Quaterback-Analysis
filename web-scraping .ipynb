{
 "cells": [
  {
   "cell_type": "code",
   "execution_count": 1,
   "metadata": {
    "ExecuteTime": {
     "end_time": "2020-10-10T19:54:20.966469Z",
     "start_time": "2020-10-10T19:54:18.278757Z"
    }
   },
   "outputs": [],
   "source": [
    "from bs4 import BeautifulSoup\n",
    "from selenium import webdriver\n",
    "import time\n",
    "import requests\n",
    "import pandas as pd\n",
    "pd.set_option('display.max_columns', None)\n",
    "pd.set_option('display.max_rows', None)"
   ]
  },
  {
   "cell_type": "code",
   "execution_count": 2,
   "metadata": {
    "ExecuteTime": {
     "end_time": "2020-10-10T19:54:24.325161Z",
     "start_time": "2020-10-10T19:54:21.011323Z"
    }
   },
   "outputs": [
    {
     "name": "stderr",
     "output_type": "stream",
     "text": [
      "C:\\Users\\bdtol\\anaconda3\\envs\\learn-env\\lib\\site-packages\\ipykernel_launcher.py:5: DeprecationWarning: use options instead of chrome_options\n",
      "  \"\"\"\n"
     ]
    }
   ],
   "source": [
    "options = webdriver.ChromeOptions()\n",
    "options.add_argument('--ignore-certificate-errors')\n",
    "options.add_argument('--incognito')\n",
    "options.add_argument('--headless')\n",
    "driver = webdriver.Chrome('C:/Users/bdtol/Downloads/chromedriver_win32/chromedriver.exe' ,chrome_options=options)"
   ]
  },
  {
   "cell_type": "markdown",
   "metadata": {},
   "source": [
    "# QBR"
   ]
  },
  {
   "cell_type": "markdown",
   "metadata": {},
   "source": [
    "## Player stats"
   ]
  },
  {
   "cell_type": "code",
   "execution_count": 3,
   "metadata": {
    "ExecuteTime": {
     "end_time": "2020-10-10T19:57:12.535060Z",
     "start_time": "2020-10-10T19:54:55.628242Z"
    }
   },
   "outputs": [],
   "source": [
    "final_titles=[]\n",
    "player_url=[]\n",
    "college_abr=[]\n",
    "qbr=[]\n",
    "paa=[]\n",
    "plays=[]\n",
    "epa=[]\n",
    "passing =[]\n",
    "run=[]\n",
    "sack=[]\n",
    "pen=[]\n",
    "raw=[]\n",
    "year = []\n",
    "for i in range(2004,2020):\n",
    "    \n",
    "    url = \"https://www.espn.com/college-football/qbr/_/season/{}\".format(i)\n",
    "    driver.get(url)\n",
    "    \n",
    "    #Clicks \"Show More\" on webpage twice\n",
    "    c=0\n",
    "    while c<2:\n",
    "        more_buttons = driver.find_elements_by_class_name(\"AnchorLink.loadMore__link\")\n",
    "        for x in range(len(more_buttons)):\n",
    "            if more_buttons[x].is_displayed():\n",
    "                driver.execute_script(\"arguments[0].click();\", more_buttons[x])\n",
    "                time.sleep(1)\n",
    "        c+=1\n",
    "    page_source = driver.page_source\n",
    "    \n",
    "    #Scrape the full page  \n",
    "    soup = BeautifulSoup(page_source, 'html.parser')\n",
    "    names = soup.find('tbody', class_=\"Table__TBODY\")\n",
    "\n",
    "    #Player BIO\n",
    "    title = names.findAll('div')\n",
    "    final_titles += [title[i].find('a').next_element for i in range(len(title))]\n",
    "    player_url += [title[i].find('a').attrs['href'] for i in range(len(title))]\n",
    "    college_abr += [title[i].find('span').next_element for i in range(len(title))]\n",
    "    year.append([i for x in range(len(title))])\n",
    "    \n",
    "    #Player Stats\n",
    "    stats = soup.find_all('tbody', class_=\"Table__TBODY\")\n",
    "    player_stats = stats[1].findAll('tr')\n",
    "    qbr += [player_stats[i].findAll('td')[0].next_element for i in range(len(player_stats))]\n",
    "    paa += [player_stats[i].findAll('td')[1].next_element for i in range(len(player_stats))]\n",
    "    plays += [player_stats[i].findAll('td')[2].next_element for i in range(len(player_stats))]\n",
    "    epa += [player_stats[i].findAll('td')[3].next_element for i in range(len(player_stats))]\n",
    "    passing += [player_stats[i].findAll('td')[4].next_element for i in range(len(player_stats))]\n",
    "    run += [player_stats[i].findAll('td')[5].next_element for i in range(len(player_stats))]\n",
    "    sack += [player_stats[i].findAll('td')[6].next_element for i in range(len(player_stats))]\n",
    "    pen += [player_stats[i].findAll('td')[7].next_element for i in range(len(player_stats))]\n",
    "    raw += [player_stats[i].findAll('td')[8].next_element for i in range(len(player_stats))]"
   ]
  },
  {
   "cell_type": "code",
   "execution_count": 4,
   "metadata": {
    "ExecuteTime": {
     "end_time": "2020-10-10T19:57:13.639012Z",
     "start_time": "2020-10-10T19:57:13.626958Z"
    }
   },
   "outputs": [],
   "source": [
    "#breakdown nested list\n",
    "flatyear = []\n",
    "for elem in year:\n",
    "    flatyear.extend(elem)"
   ]
  },
  {
   "cell_type": "code",
   "execution_count": 5,
   "metadata": {
    "ExecuteTime": {
     "end_time": "2020-10-10T19:57:15.113895Z",
     "start_time": "2020-10-10T19:57:14.619968Z"
    }
   },
   "outputs": [],
   "source": [
    "df = pd.DataFrame([final_titles, college_abr, flatyear, qbr, paa, plays, epa, passing, run, sack, pen, raw])\n",
    "df = pd.DataFrame.transpose(df)\n",
    "df.columns = ['NAME', 'COLLEGE', 'YEAR', 'QBR', 'PAA', 'PLAYS', 'EPA', 'PASS', 'RUN', 'SACK', 'PEN', 'RAW']"
   ]
  },
  {
   "cell_type": "code",
   "execution_count": 6,
   "metadata": {
    "ExecuteTime": {
     "end_time": "2020-10-10T19:57:17.628640Z",
     "start_time": "2020-10-10T19:57:17.548398Z"
    }
   },
   "outputs": [
    {
     "data": {
      "text/html": [
       "<div>\n",
       "<style scoped>\n",
       "    .dataframe tbody tr th:only-of-type {\n",
       "        vertical-align: middle;\n",
       "    }\n",
       "\n",
       "    .dataframe tbody tr th {\n",
       "        vertical-align: top;\n",
       "    }\n",
       "\n",
       "    .dataframe thead th {\n",
       "        text-align: right;\n",
       "    }\n",
       "</style>\n",
       "<table border=\"1\" class=\"dataframe\">\n",
       "  <thead>\n",
       "    <tr style=\"text-align: right;\">\n",
       "      <th></th>\n",
       "      <th>NAME</th>\n",
       "      <th>COLLEGE</th>\n",
       "      <th>YEAR</th>\n",
       "      <th>QBR</th>\n",
       "      <th>PAA</th>\n",
       "      <th>PLAYS</th>\n",
       "      <th>EPA</th>\n",
       "      <th>PASS</th>\n",
       "      <th>RUN</th>\n",
       "      <th>SACK</th>\n",
       "      <th>PEN</th>\n",
       "      <th>RAW</th>\n",
       "    </tr>\n",
       "  </thead>\n",
       "  <tbody>\n",
       "    <tr>\n",
       "      <td>0</td>\n",
       "      <td>Stefan LeFors</td>\n",
       "      <td>LOU</td>\n",
       "      <td>2004</td>\n",
       "      <td>86.3</td>\n",
       "      <td>68.3</td>\n",
       "      <td>351</td>\n",
       "      <td>66.8</td>\n",
       "      <td>66.5</td>\n",
       "      <td>2.8</td>\n",
       "      <td>-3.7</td>\n",
       "      <td>1.6</td>\n",
       "      <td>88.3</td>\n",
       "    </tr>\n",
       "    <tr>\n",
       "      <td>1</td>\n",
       "      <td>Alex Smith</td>\n",
       "      <td>UTAH</td>\n",
       "      <td>2004</td>\n",
       "      <td>84.5</td>\n",
       "      <td>75.8</td>\n",
       "      <td>480</td>\n",
       "      <td>73.4</td>\n",
       "      <td>63.5</td>\n",
       "      <td>16.0</td>\n",
       "      <td>-7.3</td>\n",
       "      <td>1.2</td>\n",
       "      <td>83.8</td>\n",
       "    </tr>\n",
       "    <tr>\n",
       "      <td>2</td>\n",
       "      <td>Jason White</td>\n",
       "      <td>OKLA</td>\n",
       "      <td>2004</td>\n",
       "      <td>84.1</td>\n",
       "      <td>56.6</td>\n",
       "      <td>454</td>\n",
       "      <td>61.2</td>\n",
       "      <td>70.9</td>\n",
       "      <td>-6.2</td>\n",
       "      <td>-6.1</td>\n",
       "      <td>2.7</td>\n",
       "      <td>78.5</td>\n",
       "    </tr>\n",
       "    <tr>\n",
       "      <td>3</td>\n",
       "      <td>Jason Campbell</td>\n",
       "      <td>AUB</td>\n",
       "      <td>2004</td>\n",
       "      <td>83.3</td>\n",
       "      <td>41.5</td>\n",
       "      <td>373</td>\n",
       "      <td>48.4</td>\n",
       "      <td>56.9</td>\n",
       "      <td>-3.9</td>\n",
       "      <td>-6.7</td>\n",
       "      <td>2.0</td>\n",
       "      <td>76.1</td>\n",
       "    </tr>\n",
       "    <tr>\n",
       "      <td>4</td>\n",
       "      <td>Matt Jones</td>\n",
       "      <td>ARK</td>\n",
       "      <td>2004</td>\n",
       "      <td>81.7</td>\n",
       "      <td>35.9</td>\n",
       "      <td>383</td>\n",
       "      <td>43.6</td>\n",
       "      <td>24.4</td>\n",
       "      <td>27.5</td>\n",
       "      <td>-7.7</td>\n",
       "      <td>-0.7</td>\n",
       "      <td>72.6</td>\n",
       "    </tr>\n",
       "  </tbody>\n",
       "</table>\n",
       "</div>"
      ],
      "text/plain": [
       "             NAME COLLEGE  YEAR   QBR   PAA PLAYS   EPA  PASS   RUN  SACK  \\\n",
       "0   Stefan LeFors     LOU  2004  86.3  68.3   351  66.8  66.5   2.8  -3.7   \n",
       "1      Alex Smith    UTAH  2004  84.5  75.8   480  73.4  63.5  16.0  -7.3   \n",
       "2     Jason White    OKLA  2004  84.1  56.6   454  61.2  70.9  -6.2  -6.1   \n",
       "3  Jason Campbell     AUB  2004  83.3  41.5   373  48.4  56.9  -3.9  -6.7   \n",
       "4      Matt Jones     ARK  2004  81.7  35.9   383  43.6  24.4  27.5  -7.7   \n",
       "\n",
       "    PEN   RAW  \n",
       "0   1.6  88.3  \n",
       "1   1.2  83.8  \n",
       "2   2.7  78.5  \n",
       "3   2.0  76.1  \n",
       "4  -0.7  72.6  "
      ]
     },
     "execution_count": 6,
     "metadata": {},
     "output_type": "execute_result"
    }
   ],
   "source": [
    "df.head()"
   ]
  },
  {
   "cell_type": "markdown",
   "metadata": {},
   "source": [
    "## Player bio"
   ]
  },
  {
   "cell_type": "code",
   "execution_count": 7,
   "metadata": {
    "ExecuteTime": {
     "end_time": "2020-10-10T21:34:17.414642Z",
     "start_time": "2020-10-10T19:57:26.689014Z"
    }
   },
   "outputs": [],
   "source": [
    "HTWT=[]\n",
    "DOB=[]\n",
    "draft=[]\n",
    "\n",
    "for i in player_url:\n",
    "    time.sleep(1)\n",
    "    html_page = requests.get(i)\n",
    "    soup = BeautifulSoup(html_page.content, 'html.parser')\n",
    "    r  = soup.findAll('div', class_='ttu')\n",
    "    h=0\n",
    "    d=0\n",
    "    dr=0\n",
    "    for e in r:\n",
    "        if e.next_element == 'HT/WT':\n",
    "            HTWT.append(e.next_element.next_element.next_element.next_element)\n",
    "            h=1\n",
    "        if e.next_element == 'DOB':\n",
    "            DOB.append(e.next_element.next_element.next_element.next_element)\n",
    "            d=1\n",
    "        if e.next_element == 'Draft Info':\n",
    "            draft.append(e.next_element.next_element.next_element.next_element)\n",
    "            dr=1\n",
    "            \n",
    "    if h == 0:\n",
    "        HTWT.append('na')\n",
    "    if d == 0:\n",
    "        DOB.append('na')\n",
    "    if dr == 0:\n",
    "        draft.append('na')"
   ]
  },
  {
   "cell_type": "code",
   "execution_count": 8,
   "metadata": {
    "ExecuteTime": {
     "end_time": "2020-10-10T21:35:24.737820Z",
     "start_time": "2020-10-10T21:35:24.239853Z"
    }
   },
   "outputs": [],
   "source": [
    "df2 = pd.DataFrame([HTWT, DOB, draft])\n",
    "df2 = pd.DataFrame.transpose(df2)\n",
    "df2.columns = ['HT/WT', 'DOB', 'DRAFT_STATUS']"
   ]
  },
  {
   "cell_type": "code",
   "execution_count": 9,
   "metadata": {
    "ExecuteTime": {
     "end_time": "2020-10-10T21:35:26.773975Z",
     "start_time": "2020-10-10T21:35:26.737053Z"
    }
   },
   "outputs": [
    {
     "data": {
      "text/html": [
       "<div>\n",
       "<style scoped>\n",
       "    .dataframe tbody tr th:only-of-type {\n",
       "        vertical-align: middle;\n",
       "    }\n",
       "\n",
       "    .dataframe tbody tr th {\n",
       "        vertical-align: top;\n",
       "    }\n",
       "\n",
       "    .dataframe thead th {\n",
       "        text-align: right;\n",
       "    }\n",
       "</style>\n",
       "<table border=\"1\" class=\"dataframe\">\n",
       "  <thead>\n",
       "    <tr style=\"text-align: right;\">\n",
       "      <th></th>\n",
       "      <th>HT/WT</th>\n",
       "      <th>DOB</th>\n",
       "      <th>DRAFT_STATUS</th>\n",
       "    </tr>\n",
       "  </thead>\n",
       "  <tbody>\n",
       "    <tr>\n",
       "      <td>0</td>\n",
       "      <td>na</td>\n",
       "      <td>6/7/1981</td>\n",
       "      <td>2005: Rd 4, Pk 20 (CAR)</td>\n",
       "    </tr>\n",
       "    <tr>\n",
       "      <td>1</td>\n",
       "      <td>6' 4\", 215 lbs</td>\n",
       "      <td>5/7/1984 (36)</td>\n",
       "      <td>2005: Rd 1, Pk 1 (SF)</td>\n",
       "    </tr>\n",
       "    <tr>\n",
       "      <td>2</td>\n",
       "      <td>na</td>\n",
       "      <td>na</td>\n",
       "      <td>na</td>\n",
       "    </tr>\n",
       "    <tr>\n",
       "      <td>3</td>\n",
       "      <td>na</td>\n",
       "      <td>12/31/1981</td>\n",
       "      <td>2005: Rd 1, Pk 25 (WSH)</td>\n",
       "    </tr>\n",
       "    <tr>\n",
       "      <td>4</td>\n",
       "      <td>na</td>\n",
       "      <td>4/22/1983</td>\n",
       "      <td>2005: Rd 1, Pk 21 (JAX)</td>\n",
       "    </tr>\n",
       "  </tbody>\n",
       "</table>\n",
       "</div>"
      ],
      "text/plain": [
       "            HT/WT            DOB             DRAFT_STATUS\n",
       "0              na       6/7/1981  2005: Rd 4, Pk 20 (CAR)\n",
       "1  6' 4\", 215 lbs  5/7/1984 (36)    2005: Rd 1, Pk 1 (SF)\n",
       "2              na             na                       na\n",
       "3              na     12/31/1981  2005: Rd 1, Pk 25 (WSH)\n",
       "4              na      4/22/1983  2005: Rd 1, Pk 21 (JAX)"
      ]
     },
     "execution_count": 9,
     "metadata": {},
     "output_type": "execute_result"
    }
   ],
   "source": [
    "df2.head()"
   ]
  },
  {
   "cell_type": "code",
   "execution_count": 10,
   "metadata": {
    "ExecuteTime": {
     "end_time": "2020-10-10T21:36:27.856206Z",
     "start_time": "2020-10-10T21:36:27.830413Z"
    }
   },
   "outputs": [],
   "source": [
    "df3 = pd.concat([df,df2], axis=1)"
   ]
  },
  {
   "cell_type": "code",
   "execution_count": 12,
   "metadata": {
    "ExecuteTime": {
     "end_time": "2020-10-10T21:36:37.452148Z",
     "start_time": "2020-10-10T21:36:37.398165Z"
    }
   },
   "outputs": [],
   "source": [
    "df3.to_csv('csv_files/player_stats.csv')"
   ]
  },
  {
   "cell_type": "code",
   "execution_count": 11,
   "metadata": {
    "ExecuteTime": {
     "end_time": "2020-10-10T21:36:31.619114Z",
     "start_time": "2020-10-10T21:36:31.557276Z"
    }
   },
   "outputs": [
    {
     "data": {
      "text/html": [
       "<div>\n",
       "<style scoped>\n",
       "    .dataframe tbody tr th:only-of-type {\n",
       "        vertical-align: middle;\n",
       "    }\n",
       "\n",
       "    .dataframe tbody tr th {\n",
       "        vertical-align: top;\n",
       "    }\n",
       "\n",
       "    .dataframe thead th {\n",
       "        text-align: right;\n",
       "    }\n",
       "</style>\n",
       "<table border=\"1\" class=\"dataframe\">\n",
       "  <thead>\n",
       "    <tr style=\"text-align: right;\">\n",
       "      <th></th>\n",
       "      <th>NAME</th>\n",
       "      <th>COLLEGE</th>\n",
       "      <th>YEAR</th>\n",
       "      <th>QBR</th>\n",
       "      <th>PAA</th>\n",
       "      <th>PLAYS</th>\n",
       "      <th>EPA</th>\n",
       "      <th>PASS</th>\n",
       "      <th>RUN</th>\n",
       "      <th>SACK</th>\n",
       "      <th>PEN</th>\n",
       "      <th>RAW</th>\n",
       "      <th>HT/WT</th>\n",
       "      <th>DOB</th>\n",
       "      <th>DRAFT_STATUS</th>\n",
       "    </tr>\n",
       "  </thead>\n",
       "  <tbody>\n",
       "    <tr>\n",
       "      <td>0</td>\n",
       "      <td>Stefan LeFors</td>\n",
       "      <td>LOU</td>\n",
       "      <td>2004</td>\n",
       "      <td>86.3</td>\n",
       "      <td>68.3</td>\n",
       "      <td>351</td>\n",
       "      <td>66.8</td>\n",
       "      <td>66.5</td>\n",
       "      <td>2.8</td>\n",
       "      <td>-3.7</td>\n",
       "      <td>1.6</td>\n",
       "      <td>88.3</td>\n",
       "      <td>na</td>\n",
       "      <td>6/7/1981</td>\n",
       "      <td>2005: Rd 4, Pk 20 (CAR)</td>\n",
       "    </tr>\n",
       "    <tr>\n",
       "      <td>1</td>\n",
       "      <td>Alex Smith</td>\n",
       "      <td>UTAH</td>\n",
       "      <td>2004</td>\n",
       "      <td>84.5</td>\n",
       "      <td>75.8</td>\n",
       "      <td>480</td>\n",
       "      <td>73.4</td>\n",
       "      <td>63.5</td>\n",
       "      <td>16.0</td>\n",
       "      <td>-7.3</td>\n",
       "      <td>1.2</td>\n",
       "      <td>83.8</td>\n",
       "      <td>6' 4\", 215 lbs</td>\n",
       "      <td>5/7/1984 (36)</td>\n",
       "      <td>2005: Rd 1, Pk 1 (SF)</td>\n",
       "    </tr>\n",
       "    <tr>\n",
       "      <td>2</td>\n",
       "      <td>Jason White</td>\n",
       "      <td>OKLA</td>\n",
       "      <td>2004</td>\n",
       "      <td>84.1</td>\n",
       "      <td>56.6</td>\n",
       "      <td>454</td>\n",
       "      <td>61.2</td>\n",
       "      <td>70.9</td>\n",
       "      <td>-6.2</td>\n",
       "      <td>-6.1</td>\n",
       "      <td>2.7</td>\n",
       "      <td>78.5</td>\n",
       "      <td>na</td>\n",
       "      <td>na</td>\n",
       "      <td>na</td>\n",
       "    </tr>\n",
       "    <tr>\n",
       "      <td>3</td>\n",
       "      <td>Jason Campbell</td>\n",
       "      <td>AUB</td>\n",
       "      <td>2004</td>\n",
       "      <td>83.3</td>\n",
       "      <td>41.5</td>\n",
       "      <td>373</td>\n",
       "      <td>48.4</td>\n",
       "      <td>56.9</td>\n",
       "      <td>-3.9</td>\n",
       "      <td>-6.7</td>\n",
       "      <td>2.0</td>\n",
       "      <td>76.1</td>\n",
       "      <td>na</td>\n",
       "      <td>12/31/1981</td>\n",
       "      <td>2005: Rd 1, Pk 25 (WSH)</td>\n",
       "    </tr>\n",
       "    <tr>\n",
       "      <td>4</td>\n",
       "      <td>Matt Jones</td>\n",
       "      <td>ARK</td>\n",
       "      <td>2004</td>\n",
       "      <td>81.7</td>\n",
       "      <td>35.9</td>\n",
       "      <td>383</td>\n",
       "      <td>43.6</td>\n",
       "      <td>24.4</td>\n",
       "      <td>27.5</td>\n",
       "      <td>-7.7</td>\n",
       "      <td>-0.7</td>\n",
       "      <td>72.6</td>\n",
       "      <td>na</td>\n",
       "      <td>4/22/1983</td>\n",
       "      <td>2005: Rd 1, Pk 21 (JAX)</td>\n",
       "    </tr>\n",
       "  </tbody>\n",
       "</table>\n",
       "</div>"
      ],
      "text/plain": [
       "             NAME COLLEGE  YEAR   QBR   PAA PLAYS   EPA  PASS   RUN  SACK  \\\n",
       "0   Stefan LeFors     LOU  2004  86.3  68.3   351  66.8  66.5   2.8  -3.7   \n",
       "1      Alex Smith    UTAH  2004  84.5  75.8   480  73.4  63.5  16.0  -7.3   \n",
       "2     Jason White    OKLA  2004  84.1  56.6   454  61.2  70.9  -6.2  -6.1   \n",
       "3  Jason Campbell     AUB  2004  83.3  41.5   373  48.4  56.9  -3.9  -6.7   \n",
       "4      Matt Jones     ARK  2004  81.7  35.9   383  43.6  24.4  27.5  -7.7   \n",
       "\n",
       "    PEN   RAW           HT/WT            DOB             DRAFT_STATUS  \n",
       "0   1.6  88.3              na       6/7/1981  2005: Rd 4, Pk 20 (CAR)  \n",
       "1   1.2  83.8  6' 4\", 215 lbs  5/7/1984 (36)    2005: Rd 1, Pk 1 (SF)  \n",
       "2   2.7  78.5              na             na                       na  \n",
       "3   2.0  76.1              na     12/31/1981  2005: Rd 1, Pk 25 (WSH)  \n",
       "4  -0.7  72.6              na      4/22/1983  2005: Rd 1, Pk 21 (JAX)  "
      ]
     },
     "execution_count": 11,
     "metadata": {},
     "output_type": "execute_result"
    }
   ],
   "source": [
    "df3.head()"
   ]
  },
  {
   "cell_type": "markdown",
   "metadata": {
    "ExecuteTime": {
     "end_time": "2020-10-08T02:16:07.345524Z",
     "start_time": "2020-10-08T02:16:07.322458Z"
    }
   },
   "source": [
    "# Power Index"
   ]
  },
  {
   "cell_type": "code",
   "execution_count": 309,
   "metadata": {
    "ExecuteTime": {
     "end_time": "2020-10-08T03:27:24.645488Z",
     "start_time": "2020-10-08T03:25:43.637203Z"
    }
   },
   "outputs": [],
   "source": [
    "team_name = []\n",
    "over=[]\n",
    "off =[]\n",
    "defe=[]\n",
    "spec =[]\n",
    "year=[]\n",
    "for i in range(2005,2020):\n",
    "    url = \"https://www.espn.com/college-football/fpi/_/view/efficiencies/season/{}\".format(i)\n",
    "    driver.get(url)\n",
    "    driver.set_window_size(100, 100)\n",
    "    page_source = driver.page_source\n",
    "    soup = BeautifulSoup(page_source, 'html.parser')\n",
    "\n",
    "    body = soup.find_all('tbody', class_= 'Table__TBODY')\n",
    "    teams = body[0].findAll('div')\n",
    "\n",
    "\n",
    "    team_name += [teams[i].findAll('a')[1].next_element for i in range(len(teams))]\n",
    "    year.append([i for x in range(len(teams))])\n",
    "    \n",
    "    stats = body[1].findAll('tr')\n",
    "    over += [stats[i].findAll('td')[0].next_element.next_element for i in range(len(stats))]\n",
    "    off += [stats[i].findAll('td')[2].next_element.next_element for i in range(len(stats))]\n",
    "    defe += [stats[i].findAll('td')[4].next_element.next_element for i in range(len(stats))]\n",
    "    spec += [stats[i].findAll('td')[6].next_element.next_element for i in range(len(stats))]"
   ]
  },
  {
   "cell_type": "code",
   "execution_count": 310,
   "metadata": {
    "ExecuteTime": {
     "end_time": "2020-10-08T03:27:30.498778Z",
     "start_time": "2020-10-08T03:27:30.483536Z"
    }
   },
   "outputs": [],
   "source": [
    "flatyear = []\n",
    "for elem in year:\n",
    "    flatyear.extend(elem)"
   ]
  },
  {
   "cell_type": "code",
   "execution_count": 311,
   "metadata": {
    "ExecuteTime": {
     "end_time": "2020-10-08T03:27:36.196607Z",
     "start_time": "2020-10-08T03:27:35.654768Z"
    }
   },
   "outputs": [],
   "source": [
    "power = pd.DataFrame([team_name, over, off, defe, spec, flatyear])\n",
    "power = pd.DataFrame.transpose(power)\n",
    "power.columns = ['COLLEGE', 'OVERALL', 'OFFENSE', 'DEFENSE', 'SPECIAL', 'YEAR']"
   ]
  },
  {
   "cell_type": "code",
   "execution_count": 339,
   "metadata": {
    "ExecuteTime": {
     "end_time": "2020-10-08T04:02:24.039414Z",
     "start_time": "2020-10-08T04:02:24.005424Z"
    }
   },
   "outputs": [],
   "source": [
    "power.to_csv('csv_files/power_index.csv')"
   ]
  },
  {
   "cell_type": "markdown",
   "metadata": {},
   "source": [
    "# Passing stats"
   ]
  },
  {
   "cell_type": "code",
   "execution_count": 126,
   "metadata": {
    "ExecuteTime": {
     "end_time": "2020-10-08T23:54:40.119956Z",
     "start_time": "2020-10-08T23:51:41.670661Z"
    }
   },
   "outputs": [],
   "source": [
    "player_name=[]\n",
    "year=[]\n",
    "CMP=[]\n",
    "ATT=[]\n",
    "PCMP=[]\n",
    "YDS=[]\n",
    "AVG=[]\n",
    "LNG=[]\n",
    "TD=[]\n",
    "INT=[]\n",
    "SACK=[]\n",
    "RTG=[]\n",
    "for i in range(2004,2020):\n",
    "    \n",
    "    url = \"https://www.espn.com/college-football/stats/player/_/season/{}\".format(i)\n",
    "    driver.get(url)\n",
    "    \n",
    "    #Clicks \"Show More\" on webpage three times\n",
    "    c=0\n",
    "    while c<3:\n",
    "        more_buttons = driver.find_elements_by_class_name(\"AnchorLink.loadMore__link\")\n",
    "        for x in range(len(more_buttons)):\n",
    "            if more_buttons[x].is_displayed():\n",
    "                driver.execute_script(\"arguments[0].click();\", more_buttons[x])\n",
    "                time.sleep(1)\n",
    "        c+=1\n",
    "    page_source = driver.page_source\n",
    "    \n",
    "    #Scrape the full page  \n",
    "    soup = BeautifulSoup(page_source, 'html.parser')\n",
    "    body = soup.find_all('tbody', class_=\"Table__TBODY\")\n",
    "    \n",
    "    names = body[0].findAll('div')\n",
    "    player_name += [names[i].find('a').next_element for i in range(len(names))]\n",
    "    year.append([i for x in range(len(names))])\n",
    "    \n",
    "    stats = body[1].findAll('tr')\n",
    "    CMP += [stats[i].findAll('td')[1].next_element for i in range(len(stats))]\n",
    "    ATT += [stats[i].findAll('td')[2].next_element for i in range(len(stats))]\n",
    "    PCMP += [stats[i].findAll('td')[3].next_element for i in range(len(stats))]\n",
    "    YDS += [stats[i].findAll('td')[4].next_element for i in range(len(stats))]\n",
    "    AVG += [stats[i].findAll('td')[5].next_element for i in range(len(stats))]\n",
    "    LNG += [stats[i].findAll('td')[6].next_element for i in range(len(stats))]\n",
    "    TD += [stats[i].findAll('td')[7].next_element for i in range(len(stats))]\n",
    "    INT += [stats[i].findAll('td')[8].next_element for i in range(len(stats))]\n",
    "    SACK += [stats[i].findAll('td')[9].next_element for i in range(len(stats))]\n",
    "    RTG += [stats[i].findAll('td')[10].next_element for i in range(len(stats))]"
   ]
  },
  {
   "cell_type": "code",
   "execution_count": 127,
   "metadata": {
    "ExecuteTime": {
     "end_time": "2020-10-08T23:54:41.816115Z",
     "start_time": "2020-10-08T23:54:41.792651Z"
    }
   },
   "outputs": [],
   "source": [
    "flatyear = []\n",
    "for elem in year:\n",
    "    flatyear.extend(elem)"
   ]
  },
  {
   "cell_type": "code",
   "execution_count": 132,
   "metadata": {
    "ExecuteTime": {
     "end_time": "2020-10-09T00:03:22.143336Z",
     "start_time": "2020-10-09T00:03:21.351600Z"
    }
   },
   "outputs": [],
   "source": [
    "passing = pd.DataFrame([player_name, flatyear, CMP, ATT, PCMP, YDS, AVG, LNG, TD, INT, SACK, RTG])\n",
    "passing = pd.DataFrame.transpose(passing)\n",
    "passing.columns = ['NAME', 'YEAR', 'CMP', 'PATT', 'CMP%', 'PYDS', 'PAVG', 'PLNG', 'PTD', 'INT', 'SACK', 'RTG']"
   ]
  },
  {
   "cell_type": "code",
   "execution_count": 133,
   "metadata": {
    "ExecuteTime": {
     "end_time": "2020-10-09T00:03:23.775876Z",
     "start_time": "2020-10-09T00:03:23.717989Z"
    }
   },
   "outputs": [],
   "source": [
    "passing.to_csv('csv_files/passing.csv')"
   ]
  },
  {
   "cell_type": "markdown",
   "metadata": {},
   "source": [
    "# Rushing stats"
   ]
  },
  {
   "cell_type": "code",
   "execution_count": 13,
   "metadata": {
    "ExecuteTime": {
     "end_time": "2020-10-10T22:19:41.320788Z",
     "start_time": "2020-10-10T22:13:45.337070Z"
    }
   },
   "outputs": [],
   "source": [
    "player_name=[]\n",
    "year=[]\n",
    "POS=[]\n",
    "RATT=[]\n",
    "RYDS=[]\n",
    "RAVG=[]\n",
    "RLNG=[]\n",
    "RTD=[]\n",
    "for i in range(2004,2020):\n",
    "    \n",
    "    url = \"https://www.espn.com/college-football/stats/player/_/stat/rushing/season/{}\".format(i)\n",
    "    driver.get(url)\n",
    "    \n",
    "    #Clicks \"Show More\" on webpage 50 times\n",
    "    # Most rushing stats are RB and WR so more entries are needed to gather QB stats\n",
    "    c=0\n",
    "    while c<50:\n",
    "        more_buttons = driver.find_elements_by_class_name(\"AnchorLink.loadMore__link\")\n",
    "        for x in range(len(more_buttons)):\n",
    "            if more_buttons[x].is_displayed():\n",
    "                driver.execute_script(\"arguments[0].click();\", more_buttons[x])\n",
    "                time.sleep(1)\n",
    "        c+=1\n",
    "    page_source = driver.page_source\n",
    "    \n",
    "    #Scrape the full page  \n",
    "    soup = BeautifulSoup(page_source, 'html.parser')\n",
    "    body = soup.find_all('tbody', class_=\"Table__TBODY\")\n",
    "    \n",
    "\n",
    "    names = body[0].findAll('div')\n",
    "    player_name += [names[i].find('a').next_element for i in range(len(names))]\n",
    "    year.append([i for x in range(len(names))])\n",
    "    \n",
    "    stats = body[1].findAll('tr')\n",
    "    POS += [stats[i].findAll('td')[0].next_element for i in range(len(stats))]\n",
    "    RATT += [stats[i].findAll('td')[1].next_element for i in range(len(stats))]\n",
    "    RYDS += [stats[i].findAll('td')[2].next_element for i in range(len(stats))]\n",
    "    RAVG += [stats[i].findAll('td')[3].next_element for i in range(len(stats))]\n",
    "    RLNG += [stats[i].findAll('td')[4].next_element for i in range(len(stats))]\n",
    "    RTD += [stats[i].findAll('td')[5].next_element for i in range(len(stats))]"
   ]
  },
  {
   "cell_type": "code",
   "execution_count": 14,
   "metadata": {
    "ExecuteTime": {
     "end_time": "2020-10-10T22:19:49.267424Z",
     "start_time": "2020-10-10T22:19:49.242795Z"
    }
   },
   "outputs": [],
   "source": [
    "flatyear = []\n",
    "for elem in year:\n",
    "    flatyear.extend(elem)"
   ]
  },
  {
   "cell_type": "code",
   "execution_count": 15,
   "metadata": {
    "ExecuteTime": {
     "end_time": "2020-10-10T22:19:59.407732Z",
     "start_time": "2020-10-10T22:19:57.221934Z"
    }
   },
   "outputs": [],
   "source": [
    "rushing = pd.DataFrame([player_name, flatyear, POS,  RATT, RYDS, RAVG, RLNG, RTD])\n",
    "rushing = pd.DataFrame.transpose(rushing)\n",
    "rushing.columns = ['NAME', 'YEAR', 'POS', 'RATT', 'RYDS', 'RAVG', 'RLNG', 'RTD']"
   ]
  },
  {
   "cell_type": "code",
   "execution_count": 17,
   "metadata": {
    "ExecuteTime": {
     "end_time": "2020-10-10T22:20:38.346701Z",
     "start_time": "2020-10-10T22:20:37.932320Z"
    }
   },
   "outputs": [],
   "source": [
    "rushing.to_csv('csv_files/rushing.csv')"
   ]
  },
  {
   "cell_type": "code",
   "execution_count": 16,
   "metadata": {
    "ExecuteTime": {
     "end_time": "2020-10-10T22:20:15.635344Z",
     "start_time": "2020-10-10T22:20:15.589598Z"
    }
   },
   "outputs": [
    {
     "data": {
      "text/html": [
       "<div>\n",
       "<style scoped>\n",
       "    .dataframe tbody tr th:only-of-type {\n",
       "        vertical-align: middle;\n",
       "    }\n",
       "\n",
       "    .dataframe tbody tr th {\n",
       "        vertical-align: top;\n",
       "    }\n",
       "\n",
       "    .dataframe thead th {\n",
       "        text-align: right;\n",
       "    }\n",
       "</style>\n",
       "<table border=\"1\" class=\"dataframe\">\n",
       "  <thead>\n",
       "    <tr style=\"text-align: right;\">\n",
       "      <th></th>\n",
       "      <th>NAME</th>\n",
       "      <th>YEAR</th>\n",
       "      <th>POS</th>\n",
       "      <th>RATT</th>\n",
       "      <th>RYDS</th>\n",
       "      <th>RAVG</th>\n",
       "      <th>RLNG</th>\n",
       "      <th>RTD</th>\n",
       "    </tr>\n",
       "  </thead>\n",
       "  <tbody>\n",
       "    <tr>\n",
       "      <td>0</td>\n",
       "      <td>J.J. Arrington</td>\n",
       "      <td>2004</td>\n",
       "      <td>[RB]</td>\n",
       "      <td>289</td>\n",
       "      <td>2,018</td>\n",
       "      <td>7.0</td>\n",
       "      <td>89</td>\n",
       "      <td>15</td>\n",
       "    </tr>\n",
       "    <tr>\n",
       "      <td>1</td>\n",
       "      <td>DeAngelo Williams</td>\n",
       "      <td>2004</td>\n",
       "      <td>[RB]</td>\n",
       "      <td>313</td>\n",
       "      <td>1,948</td>\n",
       "      <td>6.2</td>\n",
       "      <td>75</td>\n",
       "      <td>22</td>\n",
       "    </tr>\n",
       "    <tr>\n",
       "      <td>2</td>\n",
       "      <td>Adrian Peterson</td>\n",
       "      <td>2004</td>\n",
       "      <td>[RB]</td>\n",
       "      <td>339</td>\n",
       "      <td>1,925</td>\n",
       "      <td>5.7</td>\n",
       "      <td>80</td>\n",
       "      <td>15</td>\n",
       "    </tr>\n",
       "    <tr>\n",
       "      <td>3</td>\n",
       "      <td>Cedric Benson</td>\n",
       "      <td>2004</td>\n",
       "      <td>[RB]</td>\n",
       "      <td>326</td>\n",
       "      <td>1,834</td>\n",
       "      <td>5.6</td>\n",
       "      <td>60</td>\n",
       "      <td>19</td>\n",
       "    </tr>\n",
       "    <tr>\n",
       "      <td>4</td>\n",
       "      <td>Jamario Thomas</td>\n",
       "      <td>2004</td>\n",
       "      <td>[RB]</td>\n",
       "      <td>285</td>\n",
       "      <td>1,801</td>\n",
       "      <td>6.3</td>\n",
       "      <td>77</td>\n",
       "      <td>17</td>\n",
       "    </tr>\n",
       "  </tbody>\n",
       "</table>\n",
       "</div>"
      ],
      "text/plain": [
       "                NAME  YEAR   POS RATT   RYDS RAVG RLNG RTD\n",
       "0     J.J. Arrington  2004  [RB]  289  2,018  7.0   89  15\n",
       "1  DeAngelo Williams  2004  [RB]  313  1,948  6.2   75  22\n",
       "2    Adrian Peterson  2004  [RB]  339  1,925  5.7   80  15\n",
       "3      Cedric Benson  2004  [RB]  326  1,834  5.6   60  19\n",
       "4     Jamario Thomas  2004  [RB]  285  1,801  6.3   77  17"
      ]
     },
     "execution_count": 16,
     "metadata": {},
     "output_type": "execute_result"
    }
   ],
   "source": [
    "rushing.head()"
   ]
  },
  {
   "cell_type": "code",
   "execution_count": null,
   "metadata": {},
   "outputs": [],
   "source": []
  }
 ],
 "metadata": {
  "kernelspec": {
   "display_name": "Python 3",
   "language": "python",
   "name": "python3"
  },
  "language_info": {
   "codemirror_mode": {
    "name": "ipython",
    "version": 3
   },
   "file_extension": ".py",
   "mimetype": "text/x-python",
   "name": "python",
   "nbconvert_exporter": "python",
   "pygments_lexer": "ipython3",
   "version": "3.6.9"
  },
  "toc": {
   "base_numbering": 1,
   "nav_menu": {},
   "number_sections": true,
   "sideBar": true,
   "skip_h1_title": false,
   "title_cell": "Table of Contents",
   "title_sidebar": "Contents",
   "toc_cell": false,
   "toc_position": {},
   "toc_section_display": true,
   "toc_window_display": true
  },
  "varInspector": {
   "cols": {
    "lenName": 16,
    "lenType": 16,
    "lenVar": 40
   },
   "kernels_config": {
    "python": {
     "delete_cmd_postfix": "",
     "delete_cmd_prefix": "del ",
     "library": "var_list.py",
     "varRefreshCmd": "print(var_dic_list())"
    },
    "r": {
     "delete_cmd_postfix": ") ",
     "delete_cmd_prefix": "rm(",
     "library": "var_list.r",
     "varRefreshCmd": "cat(var_dic_list()) "
    }
   },
   "types_to_exclude": [
    "module",
    "function",
    "builtin_function_or_method",
    "instance",
    "_Feature"
   ],
   "window_display": false
  }
 },
 "nbformat": 4,
 "nbformat_minor": 2
}
